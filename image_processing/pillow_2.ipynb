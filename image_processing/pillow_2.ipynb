{
 "cells": [
  {
   "cell_type": "code",
   "execution_count": 28,
   "metadata": {},
   "outputs": [],
   "source": [
    "from PIL import Image, ImageDraw, ImageFont, ImageFilter,ImageEnhance"
   ]
  },
  {
   "cell_type": "code",
   "execution_count": 29,
   "metadata": {},
   "outputs": [],
   "source": [
    "im1=Image.open('image.jpg')\n",
    "im3 = Image.open('image3.jpg')\n",
    "\n",
    "\n"
   ]
  },
  {
   "cell_type": "code",
   "execution_count": 30,
   "metadata": {},
   "outputs": [
    {
     "data": {
      "image/png": "[encoded data removed]",
      "text/plain": [
       "<PIL.Image.Image image mode=RGB size=300x300>"
      ]
     },
     "execution_count": 30,
     "metadata": {},
     "output_type": "execute_result"
    }
   ],
   "source": [
    "im5 = Image.new('RGB',(300,300),(0,255,255))\n",
    "im5"
   ]
  },
  {
   "cell_type": "code",
   "execution_count": 31,
   "metadata": {},
   "outputs": [],
   "source": [
    "im55 = im5.copy()\n",
    "fnt = ImageFont.truetype('font.ttf',40)\n",
    "d = ImageDraw.Draw(im55)\n",
    "# darw hello at 10,10 with BLack colour\n",
    "grey = (100,100,100)\n",
    "d.text((10,10),\"hello!\", font=fnt, fill=grey)\n",
    "d.text((10,60),\"How\",font=fnt,fill=grey)\n",
    "d.text((10,100),\"Old\",font=fnt,fill=grey)\n",
    "d.text((10,140),\"Are\",font=fnt,fill= grey)\n",
    "d.text((10,180),\"You?\",font=fnt,fill= grey)\n",
    "im55.show()"
   ]
  },
  {
   "cell_type": "code",
   "execution_count": 32,
   "metadata": {},
   "outputs": [
    {
     "data": {
      "image/png": "[encoded data removed]",
      "text/plain": [
       "<PIL.Image.Image image mode=RGB size=300x300>"
      ]
     },
     "execution_count": 32,
     "metadata": {},
     "output_type": "execute_result"
    }
   ],
   "source": [
    "im6 = Image.new('RGB',(300,300),(50,255,700))\n",
    "im6"
   ]
  },
  {
   "cell_type": "code",
   "execution_count": 33,
   "metadata": {},
   "outputs": [],
   "source": [
    "im11= im1.copy()\n",
    "d = ImageDraw.Draw(im11)\n",
    "# draw a outer circle \n",
    "d.ellipse((100,100,200,200),fill=(255,0,0))\n",
    "# draw a inner cirlcle\n",
    "d.ellipse((120,120,180,180),fill=(0,255,0))\n",
    "im11.show()"
   ]
  },
  {
   "cell_type": "code",
   "execution_count": null,
   "metadata": {},
   "outputs": [],
   "source": [
    "im33 = im3.copy()\n",
    "d= ImageDraw.Draw(im3)\n",
    "# draw a rectangle on top and bottom of the image with 100 px height and black\n",
    "d.rectangle((0,0,im33.width, 100), fill=(0,0,0))\n",
    "d.rectangle((0,im33.height - 100, im33.width, im33.height),fill= (0,0,0))\n",
    "# add a text in the top rectangle in the middle with white \n",
    "fnt = ImageFont.truetype('font.ttf',40)\n",
    "d.text((im33.width/2 - 100, 30), \"happy New\",font=fnt, fill=(255,255,255), align='center')\n",
    "d.text((im33.width/2 - 100,im33.height - 70), \"Year 2023\",font=fnt, fill=(255,255,255), align='center')\n",
    "im33.show()"
   ]
  },
  {
   "cell_type": "code",
   "execution_count": null,
   "metadata": {},
   "outputs": [],
   "source": []
  }
 ],
 "metadata": {
  "kernelspec": {
   "display_name": "base",
   "language": "python",
   "name": "python3"
  },
  "language_info": {
   "codemirror_mode": {
    "name": "ipython",
    "version": 3
   },
   "file_extension": ".py",
   "mimetype": "text/x-python",
   "name": "python",
   "nbconvert_exporter": "python",
   "pygments_lexer": "ipython3",
   "version": "3.9.12"
  },
  "orig_nbformat": 4,
  "vscode": {
   "interpreter": {
    "hash": "5e310efb610597eecacd14aa46f7cfe8502fb6c4a83fc4086a11f43669e38f1e"
   }
  }
 },
 "nbformat": 4,
 "nbformat_minor": 2
}
