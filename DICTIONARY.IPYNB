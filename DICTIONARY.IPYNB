{
 "cells": [
  {
   "cell_type": "markdown",
   "metadata": {},
   "source": [
    "# **DICTIONARY**\n",
    "- DICTIONARIES ARE USED FOR SORTED DATA \n",
    "- THEY HAVE KEY VALUE PAIRS"
   ]
  },
  {
   "cell_type": "code",
   "execution_count": 1,
   "metadata": {},
   "outputs": [],
   "source": [
    "emp = ['amar','deep','finance',2300,10000,30000,31,True,False,'acme']    # UNSORTED DATA IN A LIST "
   ]
  },
  {
   "cell_type": "code",
   "execution_count": 3,
   "metadata": {},
   "outputs": [],
   "source": [
    "# EXAMPLE 1: DICTIONARY 1\n",
    "\n",
    "emp_dict = {'fname':'aniruddh',\n",
    "      'lname':'verma',\n",
    "      'dept':'finance',\n",
    "      'age': 31,\n",
    "      'salary': 10000,\n",
    "      'bonus' : 30000,\n",
    "      'is_manager': True,\n",
    "      'is_executive':False,\n",
    "      'company':'acme'}"
   ]
  },
  {
   "cell_type": "code",
   "execution_count": 4,
   "metadata": {},
   "outputs": [
    {
     "name": "stdout",
     "output_type": "stream",
     "text": [
      "{'fname': 'aniruddh', 'lname': 'verma', 'dept': 'finance', 'age': 31, 'salary': 10000, 'bonus': 30000, 'is_manager': True, 'is_executive': False, 'company': 'acme'}\n"
     ]
    }
   ],
   "source": [
    "print(emp_dict)"
   ]
  },
  {
   "cell_type": "code",
   "execution_count": 5,
   "metadata": {},
   "outputs": [],
   "source": [
    "# EXAMPLE 2: DICTIOANRY 2\n",
    "\n",
    "whether_data = {\n",
    "      'date' : '2019-01-01',\n",
    "      'temp' : 32,\n",
    "      'details' : {\n",
    "            'humidity' : 80,\n",
    "            'wind' : 10,\n",
    "            'pressure' : 30,\n",
    "            'AQI' : 120\n",
    "      },\n",
    "      'city' : 'lucknow',\n",
    "      'type' : 'sunshine',\n",
    "      'icon' : \"☀\"\n",
    "\n",
    "}"
   ]
  },
  {
   "cell_type": "code",
   "execution_count": 6,
   "metadata": {},
   "outputs": [
    {
     "name": "stdout",
     "output_type": "stream",
     "text": [
      "{'date': '2019-01-01', 'temp': 32, 'details': {'humidity': 80, 'wind': 10, 'pressure': 30, 'AQI': 120}, 'city': 'lucknow', 'type': 'sunshine', 'icon': '☀'}\n"
     ]
    }
   ],
   "source": [
    "print(whether_data)"
   ]
  },
  {
   "cell_type": "markdown",
   "metadata": {},
   "source": [
    "##### *KEYS() FUNCTION RETURNS ALL THE KEYS IN THE DICTIONARIES*"
   ]
  },
  {
   "cell_type": "code",
   "execution_count": 7,
   "metadata": {},
   "outputs": [
    {
     "data": {
      "text/plain": [
       "dict_keys(['date', 'temp', 'details', 'city', 'type', 'icon'])"
      ]
     },
     "execution_count": 7,
     "metadata": {},
     "output_type": "execute_result"
    }
   ],
   "source": [
    "whether_data.keys()"
   ]
  },
  {
   "cell_type": "markdown",
   "metadata": {},
   "source": [
    "#### *VALUES() FUNCTION RETURNS THE VALUE OF THE DICTIONARIES*"
   ]
  },
  {
   "cell_type": "code",
   "execution_count": 8,
   "metadata": {},
   "outputs": [
    {
     "data": {
      "text/plain": [
       "dict_values(['2019-01-01', 32, {'humidity': 80, 'wind': 10, 'pressure': 30, 'AQI': 120}, 'lucknow', 'sunshine', '☀'])"
      ]
     },
     "execution_count": 8,
     "metadata": {},
     "output_type": "execute_result"
    }
   ],
   "source": [
    "whether_data.values()"
   ]
  },
  {
   "cell_type": "markdown",
   "metadata": {},
   "source": [
    "##### *HOW TO CHANGE THE GIVEN DATA INTO LIST*"
   ]
  },
  {
   "cell_type": "code",
   "execution_count": 9,
   "metadata": {},
   "outputs": [
    {
     "data": {
      "text/plain": [
       "['date', 'temp', 'details', 'city', 'type', 'icon']"
      ]
     },
     "execution_count": 9,
     "metadata": {},
     "output_type": "execute_result"
    }
   ],
   "source": [
    "list(whether_data.keys())"
   ]
  },
  {
   "cell_type": "markdown",
   "metadata": {},
   "source": [
    "##### *HOW TO FIND DATA IN THE DICTIONARIES*"
   ]
  },
  {
   "cell_type": "code",
   "execution_count": 10,
   "metadata": {},
   "outputs": [
    {
     "name": "stdout",
     "output_type": "stream",
     "text": [
      "{'humidity': 80, 'wind': 10, 'pressure': 30, 'AQI': 120}\n",
      "32\n",
      "lucknow\n"
     ]
    }
   ],
   "source": [
    "# EXAMPLE 1: USING NORMAL KEYS IT WILL RETURN VALUES\n",
    "\n",
    "# CASE 1:\n",
    "print(whether_data['details'])\n",
    "# CASE 2:\n",
    "print(whether_data['temp'])\n",
    "# CASE 3:\n",
    "print(whether_data['city'])"
   ]
  },
  {
   "cell_type": "code",
   "execution_count": 12,
   "metadata": {},
   "outputs": [
    {
     "name": "stdout",
     "output_type": "stream",
     "text": [
      "None\n",
      "lucknow\n",
      "not found\n"
     ]
    }
   ],
   "source": [
    "# EXAMPLE 2: USING GET() FUNCTIONS\n",
    "\n",
    "# CASE 1:\n",
    "print(whether_data.get('location'))\n",
    "# CASE 2:\n",
    "print(whether_data.get('city','not found'))\n",
    "# CASE 3:\n",
    "print(whether_data.get('location','not found'))"
   ]
  },
  {
   "cell_type": "markdown",
   "metadata": {},
   "source": [
    "#### *LOOPING OVER A DICTIONARY*"
   ]
  },
  {
   "cell_type": "code",
   "execution_count": 14,
   "metadata": {},
   "outputs": [
    {
     "name": "stdout",
     "output_type": "stream",
     "text": [
      "fname => aniruddh\n",
      "lname => verma\n",
      "dept => finance\n",
      "age => 31\n",
      "salary => 10000\n",
      "bonus => 30000\n",
      "is_manager => True\n",
      "is_executive => False\n",
      "company => acme\n",
      "fname => aniruddh\n",
      "lname => verma\n",
      "dept => finance\n",
      "age => 31\n",
      "salary => 10000\n",
      "bonus => 30000\n",
      "is_manager => True\n",
      "is_executive => False\n",
      "company => acme\n"
     ]
    }
   ],
   "source": [
    "# EXAMPLE 1:USING SIMPLE METHOD\n",
    "for k in emp_dict:\n",
    "      print(k,'=>',emp_dict[k])\n",
    "\n",
    "# EXAMPLE 2:LOOPING OVER DICTIONARY USING ITEMS() FUNCTIONS\n",
    "for k,v in emp_dict.items():\n",
    "      print(k,'=>',v)\n"
   ]
  },
  {
   "cell_type": "markdown",
   "metadata": {},
   "source": [
    "#### *UPDATING AN ENTRY IN DICTIONARY*"
   ]
  },
  {
   "cell_type": "code",
   "execution_count": 15,
   "metadata": {},
   "outputs": [
    {
     "name": "stdout",
     "output_type": "stream",
     "text": [
      "{'date': '2019-01-01', 'temp': 35, 'details': {'humidity': 80, 'wind': 10, 'pressure': 30, 'AQI': 120}, 'city': 'lucknow', 'type': 'sunshine', 'icon': '☀'}\n"
     ]
    }
   ],
   "source": [
    "whether_data['temp'] = 35\n",
    "print(whether_data)"
   ]
  }
 ],
 "metadata": {
  "kernelspec": {
   "display_name": "Python 3.9.12 ('base')",
   "language": "python",
   "name": "python3"
  },
  "language_info": {
   "codemirror_mode": {
    "name": "ipython",
    "version": 3
   },
   "file_extension": ".py",
   "mimetype": "text/x-python",
   "name": "python",
   "nbconvert_exporter": "python",
   "pygments_lexer": "ipython3",
   "version": "3.9.12"
  },
  "orig_nbformat": 4,
  "vscode": {
   "interpreter": {
    "hash": "5e310efb610597eecacd14aa46f7cfe8502fb6c4a83fc4086a11f43669e38f1e"
   }
  }
 },
 "nbformat": 4,
 "nbformat_minor": 2
}
