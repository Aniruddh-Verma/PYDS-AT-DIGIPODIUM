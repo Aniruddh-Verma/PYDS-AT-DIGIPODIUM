{
 "cells": [
  {
   "cell_type": "markdown",
   "metadata": {},
   "source": [
    "# **DICTIONARY**\n",
    "- DICTIONARIES ARE USED FOR SORTED DATA \n",
    "- THEY HAVE KEY VALUE PAIRS"
   ]
  },
  {
   "cell_type": "code",
   "execution_count": 1,
   "metadata": {},
   "outputs": [],
   "source": [
    "emp = ['amar','deep','finance',2300,10000,30000,31,True,False,'acme']    # UNSORTED DATA IN A LIST "
   ]
  },
  {
   "cell_type": "code",
   "execution_count": 2,
   "metadata": {},
   "outputs": [],
   "source": [
    "# EXAMPLE 1: DICTIONARY 1\n",
    "\n",
    "emp_dict = {'fname':'aniruddh',\n",
    "      'lname':'verma',\n",
    "      'dept':'finance',\n",
    "      'age': 31,\n",
    "      'salary': 10000,\n",
    "      'bonus' : 30000,\n",
    "      'is_manager': True,\n",
    "      'is_executive':False,\n",
    "      'company':'acme'}"
   ]
  },
  {
   "cell_type": "code",
   "execution_count": 3,
   "metadata": {},
   "outputs": [
    {
     "name": "stdout",
     "output_type": "stream",
     "text": [
      "{'fname': 'aniruddh', 'lname': 'verma', 'dept': 'finance', 'age': 31, 'salary': 10000, 'bonus': 30000, 'is_manager': True, 'is_executive': False, 'company': 'acme'}\n"
     ]
    }
   ],
   "source": [
    "print(emp_dict)"
   ]
  },
  {
   "cell_type": "code",
   "execution_count": 4,
   "metadata": {},
   "outputs": [],
   "source": [
    "# EXAMPLE 2: DICTIOANRY 2\n",
    "\n",
    "whether_data = {\n",
    "      'date' : '2019-01-01',\n",
    "      'temp' : 32,\n",
    "      'details' : {\n",
    "            'humidity' : 80,\n",
    "            'wind' : 10,\n",
    "            'pressure' : 30,\n",
    "            'AQI' : 120\n",
    "      },\n",
    "      'city' : 'lucknow',\n",
    "      'type' : 'sunshine',\n",
    "      'icon' : \"☀\"\n",
    "\n",
    "}"
   ]
  },
  {
   "cell_type": "code",
   "execution_count": 5,
   "metadata": {},
   "outputs": [
    {
     "name": "stdout",
     "output_type": "stream",
     "text": [
      "{'date': '2019-01-01', 'temp': 32, 'details': {'humidity': 80, 'wind': 10, 'pressure': 30, 'AQI': 120}, 'city': 'lucknow', 'type': 'sunshine', 'icon': '☀'}\n"
     ]
    }
   ],
   "source": [
    "print(whether_data)"
   ]
  },
  {
   "cell_type": "markdown",
   "metadata": {},
   "source": [
    "##### *KEYS() FUNCTION RETURNS ALL THE KEYS IN THE DICTIONARIES*"
   ]
  },
  {
   "cell_type": "code",
   "execution_count": 6,
   "metadata": {},
   "outputs": [
    {
     "data": {
      "text/plain": [
       "dict_keys(['date', 'temp', 'details', 'city', 'type', 'icon'])"
      ]
     },
     "execution_count": 6,
     "metadata": {},
     "output_type": "execute_result"
    }
   ],
   "source": [
    "whether_data.keys()"
   ]
  },
  {
   "cell_type": "markdown",
   "metadata": {},
   "source": [
    "#### *VALUES() FUNCTION RETURNS THE VALUE OF THE DICTIONARIES*"
   ]
  },
  {
   "cell_type": "code",
   "execution_count": 7,
   "metadata": {},
   "outputs": [
    {
     "data": {
      "text/plain": [
       "dict_values(['2019-01-01', 32, {'humidity': 80, 'wind': 10, 'pressure': 30, 'AQI': 120}, 'lucknow', 'sunshine', '☀'])"
      ]
     },
     "execution_count": 7,
     "metadata": {},
     "output_type": "execute_result"
    }
   ],
   "source": [
    "whether_data.values()"
   ]
  },
  {
   "cell_type": "markdown",
   "metadata": {},
   "source": [
    "##### *HOW TO CHANGE THE GIVEN DATA INTO LIST*"
   ]
  },
  {
   "cell_type": "code",
   "execution_count": 8,
   "metadata": {},
   "outputs": [
    {
     "data": {
      "text/plain": [
       "['date', 'temp', 'details', 'city', 'type', 'icon']"
      ]
     },
     "execution_count": 8,
     "metadata": {},
     "output_type": "execute_result"
    }
   ],
   "source": [
    "list(whether_data.keys())"
   ]
  },
  {
   "cell_type": "markdown",
   "metadata": {},
   "source": [
    "##### *HOW TO FIND DATA IN THE DICTIONARIES*"
   ]
  },
  {
   "cell_type": "code",
   "execution_count": 9,
   "metadata": {},
   "outputs": [
    {
     "name": "stdout",
     "output_type": "stream",
     "text": [
      "{'humidity': 80, 'wind': 10, 'pressure': 30, 'AQI': 120}\n",
      "32\n",
      "lucknow\n"
     ]
    }
   ],
   "source": [
    "# EXAMPLE 1: USING NORMAL KEYS IT WILL RETURN VALUES\n",
    "\n",
    "# CASE 1:\n",
    "print(whether_data['details'])\n",
    "# CASE 2:\n",
    "print(whether_data['temp'])\n",
    "# CASE 3:\n",
    "print(whether_data['city'])"
   ]
  },
  {
   "cell_type": "code",
   "execution_count": 10,
   "metadata": {},
   "outputs": [
    {
     "name": "stdout",
     "output_type": "stream",
     "text": [
      "None\n",
      "lucknow\n",
      "not found\n"
     ]
    }
   ],
   "source": [
    "# EXAMPLE 2: USING GET() FUNCTIONS\n",
    "\n",
    "# CASE 1:\n",
    "print(whether_data.get('location'))\n",
    "# CASE 2:\n",
    "print(whether_data.get('city','not found'))\n",
    "# CASE 3:\n",
    "print(whether_data.get('location','not found'))"
   ]
  },
  {
   "cell_type": "markdown",
   "metadata": {},
   "source": [
    "#### *LOOPING OVER A DICTIONARY*"
   ]
  },
  {
   "cell_type": "code",
   "execution_count": 11,
   "metadata": {},
   "outputs": [
    {
     "name": "stdout",
     "output_type": "stream",
     "text": [
      "fname => aniruddh\n",
      "lname => verma\n",
      "dept => finance\n",
      "age => 31\n",
      "salary => 10000\n",
      "bonus => 30000\n",
      "is_manager => True\n",
      "is_executive => False\n",
      "company => acme\n",
      "fname => aniruddh\n",
      "lname => verma\n",
      "dept => finance\n",
      "age => 31\n",
      "salary => 10000\n",
      "bonus => 30000\n",
      "is_manager => True\n",
      "is_executive => False\n",
      "company => acme\n"
     ]
    }
   ],
   "source": [
    "# EXAMPLE 1:USING SIMPLE METHOD\n",
    "for k in emp_dict:\n",
    "      print(k,'=>',emp_dict[k])\n",
    "\n",
    "# EXAMPLE 2:LOOPING OVER DICTIONARY USING ITEMS() FUNCTIONS\n",
    "for k,v in emp_dict.items():\n",
    "      print(k,'=>',v)\n"
   ]
  },
  {
   "cell_type": "markdown",
   "metadata": {},
   "source": [
    "#### *UPDATING AN ENTRY IN DICTIONARY*"
   ]
  },
  {
   "cell_type": "code",
   "execution_count": 12,
   "metadata": {},
   "outputs": [
    {
     "name": "stdout",
     "output_type": "stream",
     "text": [
      "{'date': '2019-01-01', 'temp': 35, 'details': {'humidity': 80, 'wind': 10, 'pressure': 30, 'AQI': 120}, 'city': 'lucknow', 'type': 'sunshine', 'icon': '☀'}\n"
     ]
    }
   ],
   "source": [
    "whether_data['temp'] = 35\n",
    "print(whether_data)"
   ]
  },
  {
   "cell_type": "code",
   "execution_count": 15,
   "metadata": {},
   "outputs": [
    {
     "name": "stdout",
     "output_type": "stream",
     "text": [
      "{'fname': 'aniruddh', 'lname': 'verma', 'dept': 'finance', 'age': 31, 'salary': 10000, 'bonus': 30000, 'is_manager': True, 'is_executive': False, 'company': 'acme', 'designation': 'Asst A'}\n"
     ]
    }
   ],
   "source": [
    "# adding data \n",
    "emp_dict['designation'] = 'Asst A'\n",
    "print(emp_dict)       ## designation is added in the last because it is the ordered data structure \n"
   ]
  },
  {
   "cell_type": "code",
   "execution_count": 17,
   "metadata": {},
   "outputs": [
    {
     "name": "stdout",
     "output_type": "stream",
     "text": [
      "{'fname': 'aniruddh', 'lname': 'verma', 'dept': 'finance', 'age': 31, 'salary': '450000', 'bonus': 30000, 'is_manager': True, 'is_executive': False, 'company': 'acme', 'designation': 'section manager'}\n"
     ]
    }
   ],
   "source": [
    "# updating data\n",
    "emp_dict['designation'] = 'section manager'\n",
    "#print(emp_dict)\n",
    "emp_dict['salary'] = '450000'\n",
    "print(emp_dict)"
   ]
  },
  {
   "cell_type": "code",
   "execution_count": 21,
   "metadata": {},
   "outputs": [],
   "source": [
    "# removing data using pop()\n",
    "if 'is_executive' in emp_dict:\n",
    "      emp_dict.pop('is_executive')\n",
    "      \n"
   ]
  },
  {
   "cell_type": "code",
   "execution_count": 22,
   "metadata": {},
   "outputs": [
    {
     "name": "stdout",
     "output_type": "stream",
     "text": [
      "{'fname': 'aniruddh', 'lname': 'verma', 'dept': 'finance', 'age': 31, 'salary': '450000', 'bonus': 30000, 'is_manager': True, 'company': 'acme', 'designation': 'section manager'}\n"
     ]
    }
   ],
   "source": [
    "print(emp_dict)"
   ]
  },
  {
   "cell_type": "code",
   "execution_count": 25,
   "metadata": {},
   "outputs": [
    {
     "name": "stdout",
     "output_type": "stream",
     "text": [
      "{'001': {'name': 'amar', 'subjects': {'english': 80, 'maths': 90, 'science': 95}}, '002': {'name': 'vijay', 'sunject': {'english': 70, 'maths': 60, 'science': 67}}, '003': {'name': 'raj', 'sunject': {'english': 60, 'maths': 50, 'science': 80}}}\n"
     ]
    }
   ],
   "source": [
    "reports = {\n",
    "      '001':{\n",
    "            'name': 'amar',\n",
    "            'subjects': {'english':80,'maths':90,'science':95}\n",
    "      },\n",
    "      '002':{\n",
    "            'name':'vijay',\n",
    "            'sunject': {'english':70, 'maths':60, 'science':67}\n",
    "      },\n",
    "      '003':{\n",
    "            'name':'raj',\n",
    "            'sunject': {'english':60, 'maths':50, 'science':80}\n",
    "      },\n",
    "}\n",
    "print(reports)"
   ]
  },
  {
   "cell_type": "code",
   "execution_count": 29,
   "metadata": {},
   "outputs": [
    {
     "name": "stdout",
     "output_type": "stream",
     "text": [
      "001\n",
      "name\n",
      "amar\n",
      "--------------------\n",
      "subjects\n",
      "english 80\n",
      "maths 90\n",
      "science 95\n",
      "--------------------\n",
      "002\n",
      "name\n",
      "vijay\n",
      "--------------------\n",
      "sunject\n",
      "english 70\n",
      "maths 60\n",
      "science 67\n",
      "--------------------\n",
      "003\n",
      "name\n",
      "raj\n",
      "--------------------\n",
      "sunject\n",
      "english 60\n",
      "maths 50\n",
      "science 80\n",
      "--------------------\n"
     ]
    }
   ],
   "source": [
    "for roll, data in reports.items():\n",
    "      print(roll)\n",
    "      for key,val in data.items():\n",
    "            print(key)\n",
    "            if isinstance(val,dict):\n",
    "                  for sub, marks in val.items():\n",
    "                         print(sub,marks)\n",
    "            else:\n",
    "                  print(val)\n",
    "            print('--'*10)"
   ]
  },
  {
   "cell_type": "code",
   "execution_count": 40,
   "metadata": {},
   "outputs": [
    {
     "name": "stdout",
     "output_type": "stream",
     "text": [
      "001\n",
      "amar\n",
      "subjects\n",
      "english 80\n",
      "maths 90\n",
      "science 95\n",
      "total: 265/300\n",
      "percentage:88.33%\n",
      "--------------------\n",
      "002\n",
      "vijay\n",
      "sunject\n",
      "english 70\n",
      "maths 60\n",
      "science 67\n",
      "total: 197/300\n",
      "percentage:65.67%\n",
      "--------------------\n",
      "003\n",
      "raj\n",
      "sunject\n",
      "english 60\n",
      "maths 50\n",
      "science 80\n",
      "total: 190/300\n",
      "percentage:63.33%\n",
      "--------------------\n"
     ]
    }
   ],
   "source": [
    "for roll, data in reports.items():\n",
    "      print(roll)\n",
    "      for key,val in data.items():\n",
    "            if isinstance(val,dict):\n",
    "                  print(key)\n",
    "                  total = 0\n",
    "                  percentage = 0\n",
    "                  for sub, marks in val.items():\n",
    "                         print(sub,marks)\n",
    "                         total= total+marks\n",
    "                         percentage = (total/300)*100\n",
    "                  print(f'total: {total}/300')\n",
    "                  print(f'percentage:{percentage:.2f}%')\n",
    "            else:\n",
    "                  print(val)\n",
    "      print('--'*10)"
   ]
  },
  {
   "cell_type": "markdown",
   "metadata": {},
   "source": [
    "### FILE HANDLING\n",
    "- OPEN A FILE \n",
    "- READ A FILE \n",
    "- WRITING A FILE\n",
    "- APPENDING A FILE"
   ]
  },
  {
   "cell_type": "code",
   "execution_count": 41,
   "metadata": {},
   "outputs": [
    {
     "name": "stdout",
     "output_type": "stream",
     "text": [
      "print('MY NAME IS ANIRUDDH VERMA')\n"
     ]
    }
   ],
   "source": [
    "f = open('hello.py')\n",
    "print(f.read())"
   ]
  },
  {
   "cell_type": "code",
   "execution_count": 43,
   "metadata": {},
   "outputs": [
    {
     "name": "stdout",
     "output_type": "stream",
     "text": [
      "AS4J AFH4 KRRZ 0SKT CPW7 6A6Q 3845 7JSD\n",
      "39 characters\n"
     ]
    }
   ],
   "source": [
    "f = open(r'C:\\Users\\aniruddh\\Downloads\\aniruddhverma16@gmail.com Firefox.txt')\n",
    "content = f.read()\n",
    "print(content)\n",
    "print(f'{len(content)} characters')"
   ]
  },
  {
   "cell_type": "code",
   "execution_count": 44,
   "metadata": {},
   "outputs": [],
   "source": [
    "## it should always be updated in a new file otherwise the previous data will be erased\n",
    "\n",
    "data = 'hi everyone, this is a sample file'\n",
    "with open('HELLO.PY','w') as file:\n",
    "      file.write(data)"
   ]
  },
  {
   "cell_type": "code",
   "execution_count": null,
   "metadata": {},
   "outputs": [],
   "source": [
    "## not to be used \n",
    "# file = open('mydata.txt','w')\n",
    "# file.write(data)\n",
    "# file.close()"
   ]
  },
  {
   "cell_type": "code",
   "execution_count": 45,
   "metadata": {},
   "outputs": [],
   "source": [
    "data = 'hi veryone this is a sample file but updated'\n",
    "with open('HELLO.PY', 'a') as file:\n",
    "      file.write(data)"
   ]
  },
  {
   "cell_type": "code",
   "execution_count": 46,
   "metadata": {},
   "outputs": [
    {
     "name": "stdout",
     "output_type": "stream",
     "text": [
      "filebio.txtsaved\n"
     ]
    }
   ],
   "source": [
    "file = 'bio.txt'\n",
    "content = ''\n",
    "\n",
    "while True:\n",
    "      line = input('enter a line ( or q to quit ): ')\n",
    "      if line == 'q':\n",
    "            break\n",
    "      content += line + '\\n'\n",
    "\n",
    "with open(file, 'w') as f:\n",
    "      f.write(content)\n",
    "      print(f'file{file}saved')"
   ]
  }
 ],
 "metadata": {
  "kernelspec": {
   "display_name": "Python 3.9.12 ('base')",
   "language": "python",
   "name": "python3"
  },
  "language_info": {
   "codemirror_mode": {
    "name": "ipython",
    "version": 3
   },
   "file_extension": ".py",
   "mimetype": "text/x-python",
   "name": "python",
   "nbconvert_exporter": "python",
   "pygments_lexer": "ipython3",
   "version": "3.9.12"
  },
  "orig_nbformat": 4,
  "vscode": {
   "interpreter": {
    "hash": "5e310efb610597eecacd14aa46f7cfe8502fb6c4a83fc4086a11f43669e38f1e"
   }
  }
 },
 "nbformat": 4,
 "nbformat_minor": 2
}
