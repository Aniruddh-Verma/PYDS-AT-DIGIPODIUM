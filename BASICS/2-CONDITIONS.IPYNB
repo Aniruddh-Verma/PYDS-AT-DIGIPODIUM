{
 "cells": [
  {
   "cell_type": "markdown",
   "metadata": {},
   "source": [
    "# CONDITIONS"
   ]
  },
  {
   "cell_type": "code",
   "execution_count": 11,
   "metadata": {},
   "outputs": [
    {
     "name": "stdout",
     "output_type": "stream",
     "text": [
      "100 is greater than 1\n",
      "this is great\n",
      "10 is greater than 20\n"
     ]
    }
   ],
   "source": [
    "# EXAMPLE 1:\n",
    "\n",
    "if 100>10:\n",
    "      print('100 is greater than 1')\n",
    "\n",
    "# EXAMPLE 2:\n",
    "if 5>10:\n",
    "      print('5 is greater than 10')\n",
    "      \n",
    "### since the if block condition is false and there is no else block that is why there is no output ###\n",
    "\n",
    "# EXAMPLE 3:\n",
    "a =10\n",
    "b =20\n",
    "if a<b:\n",
    "      print('this is great')\n",
    "      print(f'{a} is greater than {b}')\n",
    "      \n",
    "\n",
    "\n"
   ]
  },
  {
   "cell_type": "markdown",
   "metadata": {},
   "source": [
    "# SIMPLE CONDITION SET"
   ]
  },
  {
   "cell_type": "code",
   "execution_count": 12,
   "metadata": {},
   "outputs": [
    {
     "name": "stdout",
     "output_type": "stream",
     "text": [
      "this is a number\n",
      "its cool\n",
      "not found in the database\n",
      "wrong username\n"
     ]
    }
   ],
   "source": [
    "#EXAMPLE 1:IF ONLY BLOCKS\n",
    "data= input('enter the data:')\n",
    "if data.isalpha():\n",
    "      print('this is a string')\n",
    "if data.isnumeric():\n",
    "      print('this is a number')\n",
    "if data.isspace():\n",
    "      print('this is a space')\n",
    "\n",
    "\n",
    "#EXAMPLE 2:IF-ELSE BLOCK\n",
    "temp= 10\n",
    "if temp>25:\n",
    "      print('its hot')\n",
    "else:\n",
    "      print('its cool')\n",
    "\n",
    "\n",
    "#EXAMPLE 3:IF-ELIF BLOCK \n",
    "fruit = input('enter your favourite fruit')\n",
    "if fruit== 'apple':\n",
    "      print('an apple a day keeps the doctor away')\n",
    "elif fruit== 'mango':\n",
    "      print('mango is the king of fruits')\n",
    "elif fruit== 'banana':\n",
    "      print('banana is the good source of potassium')\n",
    "elif fruit== 'orange':\n",
    "      print('orange is the good source of vitamin c')\n",
    "else:\n",
    "      print('not found in the database')\n",
    "\n",
    "\n",
    "#EXAMPLE 4:NESTED-IF BLOCKS \n",
    "username = input('enter your username:')\n",
    "password = input('enteer the password:')\n",
    "if username == 'sam':\n",
    "      if password =='123':\n",
    "            print('welcome sam')\n",
    "      else:\n",
    "            print('wrong password')\n",
    "else:\n",
    "      print('wrong username')\n",
    "\n",
    "\n",
    "\n",
    "\n",
    "\n"
   ]
  },
  {
   "cell_type": "markdown",
   "metadata": {},
   "source": [
    "# MATCH CASE"
   ]
  },
  {
   "cell_type": "code",
   "execution_count": 13,
   "metadata": {},
   "outputs": [
    {
     "name": "stdout",
     "output_type": "stream",
     "text": [
      "not found\n"
     ]
    }
   ],
   "source": [
    "icecream = input('enter the icecream ->')\n",
    "match(icecream):\n",
    "      case 'chocolate':\n",
    "            print('chocolate = 200')\n",
    "      case 'vanilla':\n",
    "            print('vanilla = 100')\n",
    "      case 'strawberry':\n",
    "            print('strawbeery = 150')\n",
    "      case _:\n",
    "            print('not found')\n"
   ]
  }
 ],
 "metadata": {
  "kernelspec": {
   "display_name": "Python 3.10.6 ('py310')",
   "language": "python",
   "name": "python3"
  },
  "language_info": {
   "codemirror_mode": {
    "name": "ipython",
    "version": 3
   },
   "file_extension": ".py",
   "mimetype": "text/x-python",
   "name": "python",
   "nbconvert_exporter": "python",
   "pygments_lexer": "ipython3",
   "version": "3.10.6"
  },
  "orig_nbformat": 4,
  "vscode": {
   "interpreter": {
    "hash": "c135332bc3af040b88a6e0c39181874c2763610dce4b8099a6b2fd6a2f0167a2"
   }
  }
 },
 "nbformat": 4,
 "nbformat_minor": 2
}
