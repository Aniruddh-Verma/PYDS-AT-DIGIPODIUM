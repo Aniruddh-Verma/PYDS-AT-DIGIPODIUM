{
 "cells": [
  {
   "cell_type": "markdown",
   "metadata": {},
   "source": [
    "# CONDITION\n",
    "1. "
   ]
  },
  {
   "cell_type": "code",
   "execution_count": 1,
   "metadata": {},
   "outputs": [
    {
     "name": "stdout",
     "output_type": "stream",
     "text": [
      "100 is greater than 1\n"
     ]
    }
   ],
   "source": [
    "if 100>10:\n",
    "      print('100 is greater than 1')\n"
   ]
  },
  {
   "cell_type": "code",
   "execution_count": 2,
   "metadata": {},
   "outputs": [],
   "source": [
    "if 5>10:\n",
    "      print('5 is greater than 10')\n",
    "      "
   ]
  },
  {
   "cell_type": "code",
   "execution_count": 4,
   "metadata": {},
   "outputs": [
    {
     "name": "stdout",
     "output_type": "stream",
     "text": [
      "this is great\n",
      "10 is greater than 20\n"
     ]
    }
   ],
   "source": [
    "a =10\n",
    "b =20\n",
    "if a<b:\n",
    "      print('this is great')\n",
    "      print(f'{a} is greater than {b}')\n",
    "      "
   ]
  },
  {
   "cell_type": "code",
   "execution_count": 6,
   "metadata": {},
   "outputs": [
    {
     "name": "stdout",
     "output_type": "stream",
     "text": [
      "this is a number\n"
     ]
    }
   ],
   "source": [
    "# SIMPLE CONDITION SET:\n",
    "#EXAMPLE 1:\n",
    "\n",
    "data= input('enter the data:')\n",
    "if data.isalpha():\n",
    "      print('this is a string')\n",
    "if data.isnumeric():\n",
    "      print('this is a number')\n",
    "if data.isspace():\n",
    "      print('this is a space')\n"
   ]
  },
  {
   "cell_type": "code",
   "execution_count": 4,
   "metadata": {},
   "outputs": [
    {
     "name": "stdout",
     "output_type": "stream",
     "text": [
      "its cool\n"
     ]
    }
   ],
   "source": [
    "temp= 10\n",
    "if temp>25:\n",
    "      print('its hot')\n",
    "else:\n",
    "      print('its cool')\n"
   ]
  },
  {
   "cell_type": "code",
   "execution_count": 5,
   "metadata": {},
   "outputs": [
    {
     "name": "stdout",
     "output_type": "stream",
     "text": [
      "orange is the good source of vitamin c\n"
     ]
    }
   ],
   "source": [
    "fruit = input('enter your favourite fruit')\n",
    "if fruit== 'apple':\n",
    "      print('an apple a day keeps the doctor away')\n",
    "elif fruit== 'mango':\n",
    "      print('mango is the king of fruits')\n",
    "elif fruit== 'banana':\n",
    "      print('banana is the good source of potassium')\n",
    "elif fruit== 'orange':\n",
    "      print('orange is the good source of vitamin c')\n",
    "else:\n",
    "      print('not found in the dtabase')\n",
    "      "
   ]
  },
  {
   "cell_type": "code",
   "execution_count": 7,
   "metadata": {},
   "outputs": [
    {
     "name": "stdout",
     "output_type": "stream",
     "text": [
      "welcome sam\n"
     ]
    }
   ],
   "source": [
    "username = input('enter your username:')\n",
    "password = input('enteer the password:')\n",
    "if username == 'sam':\n",
    "      if password =='123':\n",
    "            print('welcome sam')\n",
    "      else:\n",
    "            print('wrong password')\n",
    "else:\n",
    "      print('wrong username')"
   ]
  },
  {
   "cell_type": "code",
   "execution_count": null,
   "metadata": {},
   "outputs": [],
   "source": [
    "basic = input('enter the basic salary: ')\n",
    "hra =0\n",
    "if basic < 10000:\n",
    "      "
   ]
  },
  {
   "cell_type": "code",
   "execution_count": null,
   "metadata": {},
   "outputs": [],
   "source": []
  }
 ],
 "metadata": {
  "kernelspec": {
   "display_name": "Python 3.9.12 ('base')",
   "language": "python",
   "name": "python3"
  },
  "language_info": {
   "codemirror_mode": {
    "name": "ipython",
    "version": 3
   },
   "file_extension": ".py",
   "mimetype": "text/x-python",
   "name": "python",
   "nbconvert_exporter": "python",
   "pygments_lexer": "ipython3",
   "version": "3.9.12"
  },
  "orig_nbformat": 4,
  "vscode": {
   "interpreter": {
    "hash": "5e310efb610597eecacd14aa46f7cfe8502fb6c4a83fc4086a11f43669e38f1e"
   }
  }
 },
 "nbformat": 4,
 "nbformat_minor": 2
}
