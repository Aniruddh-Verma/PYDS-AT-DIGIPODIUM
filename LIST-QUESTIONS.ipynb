{
 "cells": [
  {
   "cell_type": "code",
   "execution_count": 3,
   "metadata": {},
   "outputs": [
    {
     "name": "stdout",
     "output_type": "stream",
     "text": [
      "[2, 4, 6, 8, 10, 12, 14, 16, 18, 20, 22, 24, 26, 28, 30, 32, 34, 36, 38, 40, 42, 44, 46, 48, 50, 52, 54, 56, 58, 60, 62, 64, 66, 68, 70, 72, 74, 76, 78, 80, 82, 84, 86, 88, 90, 92, 94, 96, 98, 100]\n"
     ]
    }
   ],
   "source": [
    "# wap to create a list of even numbers\n",
    "\n",
    "a=[]\n",
    "print(list(range(2,102,2)))"
   ]
  },
  {
   "cell_type": "code",
   "execution_count": 2,
   "metadata": {},
   "outputs": [
    {
     "name": "stdout",
     "output_type": "stream",
     "text": [
      "[2, 4, 6, 8, 10, 12, 14, 16, 18, 20, 22, 24, 26, 28, 30, 32, 34, 36, 38, 40, 42, 44, 46, 48, 50, 52, 54, 56, 58, 60, 62, 64, 66, 68, 70, 72, 74, 76, 78, 80, 82, 84, 86, 88, 90, 92, 94, 96, 98, 100]\n"
     ]
    }
   ],
   "source": [
    "evens=[]\n",
    "for i in range(1,101):\n",
    "      if i % 2 == 0:\n",
    "            evens.append(i)\n",
    "print(evens)"
   ]
  },
  {
   "cell_type": "code",
   "execution_count": 5,
   "metadata": {},
   "outputs": [
    {
     "name": "stdout",
     "output_type": "stream",
     "text": [
      "[0, 1, 1, 2, 3, 5, 8, 13, 21, 34, 55, 89]\n"
     ]
    }
   ],
   "source": [
    "# fibbonacci series\n",
    "fibbo=[]\n",
    "first=0\n",
    "second=1\n",
    "third=0\n",
    "fibbo.append(first)\n",
    "fibbo.append(second)\n",
    "for i in range(2,12):\n",
    "      third=first+second\n",
    "      fibbo.append(third)\n",
    "      first=second\n",
    "      second=third\n",
    "print(fibbo)"
   ]
  },
  {
   "cell_type": "code",
   "execution_count": 6,
   "metadata": {},
   "outputs": [
    {
     "name": "stdout",
     "output_type": "stream",
     "text": [
      "[0, 1, 1, 2, 3, 5, 8, 13, 21, 34, 55, 89]\n"
     ]
    }
   ],
   "source": [
    "fib=[0,1]\n",
    "for i in range(10):\n",
    "      fib.append(fib[-1] + fib[-2])\n",
    "print(fib)"
   ]
  },
  {
   "cell_type": "code",
   "execution_count": 4,
   "metadata": {},
   "outputs": [
    {
     "name": "stdout",
     "output_type": "stream",
     "text": [
      "[30, 34, 54, 2, 23, 45, 23, 78, 67, 98]\n",
      "45.4\n",
      "98\n",
      "2\n"
     ]
    }
   ],
   "source": [
    "# wap to create a list of 10 elements and then \n",
    "# print the list \n",
    "# print the sum \n",
    "# print the mean\n",
    "# print the max\n",
    "# print the min\n",
    "x = [30,34,54,2,23,45,23,78,67,98]\n",
    "\n",
    "print(x)\n",
    "m= sum(x) / len(x)\n",
    "print(m)\n",
    "print(max(x))\n",
    "print(min(x))"
   ]
  },
  {
   "cell_type": "code",
   "execution_count": 5,
   "metadata": {},
   "outputs": [
    {
     "name": "stdout",
     "output_type": "stream",
     "text": [
      "[4, 6, 8, 5, 7]\n"
     ]
    }
   ],
   "source": [
    "# wap to add lsit elements wise and store result in 3rd list [1,2,3]+[4,5,6]=[5,7,9]\n",
    "\n",
    "x=[1,2,3,4,5]\n",
    "y=[3,4,5,1,2]\n",
    "z=[]\n",
    "for i in range(5):\n",
    "      z.append(x[i] + y[i])\n",
    "print(z)"
   ]
  },
  {
   "cell_type": "code",
   "execution_count": 8,
   "metadata": {},
   "outputs": [
    {
     "name": "stdout",
     "output_type": "stream",
     "text": [
      "[4, 6, 8, 5, 7]\n"
     ]
    }
   ],
   "source": [
    "z=[]\n",
    "for i,j in zip(x,y):\n",
    "      z.append(i+j)    # pythonic way\n",
    "print(z)"
   ]
  },
  {
   "cell_type": "code",
   "execution_count": 19,
   "metadata": {},
   "outputs": [
    {
     "name": "stdout",
     "output_type": "stream",
     "text": [
      "[1, 8, 27, 64, 125, 216]\n"
     ]
    }
   ],
   "source": [
    "# wap to create a new list from a existing list,where each elements is increased by a power of three \n",
    "# [1,2,3]->[1,8,27]\n",
    "x1=[1,2,3,4,5,6]\n",
    "y = []\n",
    "for i in range(6):\n",
    "      y.append((x1[i]**3))\n",
    "print(y)"
   ]
  },
  {
   "cell_type": "code",
   "execution_count": 23,
   "metadata": {},
   "outputs": [
    {
     "name": "stdout",
     "output_type": "stream",
     "text": [
      "[1, 2, 3, 4, 5, 6, 7, 8, 9, 10]\n",
      "[2, 4, 6, 8, 10]\n"
     ]
    }
   ],
   "source": [
    "# wap to filter all the odd numebers from a list to create a clean list\n",
    "# [1,2,3,4,5,6,7,8,9]->[2,4,6,8]\n",
    "\n",
    "x = [1,2,3,4,5,6,7,8,9,10] \n",
    "xeven = []\n",
    "for i in x:\n",
    "      if i % 2 == 0:\n",
    "            xeven.append(i)\n",
    "print(x)\n",
    "print(xeven)"
   ]
  },
  {
   "cell_type": "code",
   "execution_count": 24,
   "metadata": {},
   "outputs": [
    {
     "name": "stdout",
     "output_type": "stream",
     "text": [
      "[35, 70, 105, 140, 175, 210, 245, 280, 315, 350, 385, 420, 455, 490, 525, 560, 595, 630, 665, 700, 735, 770, 805, 840, 875, 910, 945, 980, 1015, 1050, 1085, 1120, 1155, 1190, 1225, 1260, 1295, 1330, 1365, 1400, 1435, 1470, 1505, 1540, 1575, 1610, 1645, 1680, 1715, 1750, 1785]\n"
     ]
    }
   ],
   "source": [
    "# wap to generate a list of 50 elements where each numbers is divisible by 5 and 7 both\n",
    "fiveoseven = []\n",
    "num = 1\n",
    "while(True):\n",
    "      if num % 5 == 0 and num % 7 == 0:\n",
    "            fiveoseven.append(num)\n",
    "      if len(fiveoseven) > 50:\n",
    "            break\n",
    "      num += 1\n",
    "print(fiveoseven)\n",
    "\n"
   ]
  },
  {
   "cell_type": "code",
   "execution_count": 29,
   "metadata": {},
   "outputs": [
    {
     "name": "stdout",
     "output_type": "stream",
     "text": [
      "['KS', 'AK', 'SD']\n"
     ]
    }
   ],
   "source": [
    "# wap to generate a list of acronyms from a list of words \n",
    "# ['python programming' 'artificial intelligence' 'machine learning'] -> ['pp','ai','ml']\n",
    "\n",
    "names = ['Kaladin Stromblessed','Adolin Kholin','Shallan Dawar']\n",
    "acro = []\n",
    "for name in names:\n",
    "      name_words = name.split()   # split the name into words \n",
    "      fn = name_words[0]          # first name\n",
    "      ln = name_words[1]          # last name\n",
    "      acro.append( fn[0] + ln[0] )  # append the first of first naem and last letter of the last name \n",
    "print(acro)"
   ]
  },
  {
   "cell_type": "code",
   "execution_count": null,
   "metadata": {},
   "outputs": [],
   "source": []
  }
 ],
 "metadata": {
  "kernelspec": {
   "display_name": "Python 3.9.12 ('base')",
   "language": "python",
   "name": "python3"
  },
  "language_info": {
   "codemirror_mode": {
    "name": "ipython",
    "version": 3
   },
   "file_extension": ".py",
   "mimetype": "text/x-python",
   "name": "python",
   "nbconvert_exporter": "python",
   "pygments_lexer": "ipython3",
   "version": "3.9.12"
  },
  "orig_nbformat": 4,
  "vscode": {
   "interpreter": {
    "hash": "5e310efb610597eecacd14aa46f7cfe8502fb6c4a83fc4086a11f43669e38f1e"
   }
  }
 },
 "nbformat": 4,
 "nbformat_minor": 2
}
