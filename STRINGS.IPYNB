{
 "cells": [
  {
   "cell_type": "code",
   "execution_count": 4,
   "metadata": {},
   "outputs": [
    {
     "name": "stdout",
     "output_type": "stream",
     "text": [
      "14\n"
     ]
    }
   ],
   "source": [
    "name='Aniruddh Verma'\n",
    "print(len(name))"
   ]
  },
  {
   "cell_type": "code",
   "execution_count": 6,
   "metadata": {},
   "outputs": [
    {
     "name": "stdout",
     "output_type": "stream",
     "text": [
      "0 A1 n2 i3 r4 u5 d6 d7 h8  9 V10 e11 r12 m13 a"
     ]
    }
   ],
   "source": [
    "# PRINTING CHARACTER OF STRING WITH INDEX\n",
    "for idx,char in enumerate(name):\n",
    "      print(idx,char,end='')"
   ]
  },
  {
   "cell_type": "code",
   "execution_count": 7,
   "metadata": {},
   "outputs": [
    {
     "name": "stdout",
     "output_type": "stream",
     "text": [
      " Verma\n"
     ]
    }
   ],
   "source": [
    "# STRING SLICING\n",
    "print(name[8:15])"
   ]
  },
  {
   "cell_type": "code",
   "execution_count": 11,
   "metadata": {},
   "outputs": [
    {
     "name": "stdout",
     "output_type": "stream",
     "text": [
      "Verm\n"
     ]
    }
   ],
   "source": [
    "#STRING SLICING REVERSE\n",
    "print(name[-5:-1])"
   ]
  },
  {
   "cell_type": "code",
   "execution_count": 12,
   "metadata": {},
   "outputs": [
    {
     "name": "stdout",
     "output_type": "stream",
     "text": [
      "Aniruddh\n"
     ]
    }
   ],
   "source": [
    "# EXAMPLE\n",
    "print(name[0:8])"
   ]
  },
  {
   "cell_type": "code",
   "execution_count": 13,
   "metadata": {},
   "outputs": [
    {
     "name": "stdout",
     "output_type": "stream",
     "text": [
      "Aniruddh\n"
     ]
    }
   ],
   "source": [
    "#EXAMPLE\n",
    "print(name[:8])"
   ]
  },
  {
   "cell_type": "code",
   "execution_count": 16,
   "metadata": {},
   "outputs": [
    {
     "name": "stdout",
     "output_type": "stream",
     "text": [
      " Verma\n"
     ]
    }
   ],
   "source": [
    "#EXAMPLE\n",
    "print(name[-6:])"
   ]
  },
  {
   "cell_type": "markdown",
   "metadata": {},
   "source": [
    "#### ''' var[start:stop:step]'''"
   ]
  },
  {
   "cell_type": "code",
   "execution_count": 17,
   "metadata": {},
   "outputs": [
    {
     "name": "stdout",
     "output_type": "stream",
     "text": [
      "Aiud em\n"
     ]
    }
   ],
   "source": [
    "#PRINT EVEN INDEX CHARACTER\n",
    "print(name[::2])"
   ]
  },
  {
   "cell_type": "code",
   "execution_count": 21,
   "metadata": {},
   "outputs": [
    {
     "name": "stdout",
     "output_type": "stream",
     "text": [
      "nuhea\n"
     ]
    }
   ],
   "source": [
    "#PRINT ODD INDEXES CHARACTER\n",
    "print(name[1::3])"
   ]
  },
  {
   "cell_type": "code",
   "execution_count": 28,
   "metadata": {},
   "outputs": [
    {
     "name": "stdout",
     "output_type": "stream",
     "text": [
      "amreV hddurinA\n"
     ]
    }
   ],
   "source": [
    "# PRINT REVERE OF A STRING\n",
    "print(name[::-1])"
   ]
  },
  {
   "cell_type": "code",
   "execution_count": 29,
   "metadata": {},
   "outputs": [
    {
     "name": "stdout",
     "output_type": "stream",
     "text": [
      "arVhdrn\n"
     ]
    }
   ],
   "source": [
    "#\n",
    "print(name[::-2])"
   ]
  },
  {
   "cell_type": "code",
   "execution_count": 37,
   "metadata": {},
   "outputs": [
    {
     "name": "stdout",
     "output_type": "stream",
     "text": [
      "iruddh Ver\n"
     ]
    }
   ],
   "source": [
    "print(name[2:-2])"
   ]
  },
  {
   "cell_type": "code",
   "execution_count": 38,
   "metadata": {},
   "outputs": [
    {
     "name": "stdout",
     "output_type": "stream",
     "text": [
      "race\n"
     ]
    }
   ],
   "source": [
    "word='racecar'\n",
    "print(word[:-3])\n"
   ]
  },
  {
   "cell_type": "code",
   "execution_count": 39,
   "metadata": {},
   "outputs": [
    {
     "data": {
      "text/plain": [
       "';'"
      ]
     },
     "execution_count": 39,
     "metadata": {},
     "output_type": "execute_result"
    }
   ],
   "source": [
    "chr(59)"
   ]
  },
  {
   "cell_type": "code",
   "execution_count": 40,
   "metadata": {},
   "outputs": [
    {
     "data": {
      "text/plain": [
       "'煔'"
      ]
     },
     "execution_count": 40,
     "metadata": {},
     "output_type": "execute_result"
    }
   ],
   "source": [
    "chr(29012)"
   ]
  },
  {
   "cell_type": "code",
   "execution_count": 46,
   "metadata": {},
   "outputs": [
    {
     "data": {
      "text/plain": [
       "65"
      ]
     },
     "execution_count": 46,
     "metadata": {},
     "output_type": "execute_result"
    }
   ],
   "source": [
    "ord('A')"
   ]
  },
  {
   "cell_type": "code",
   "execution_count": 48,
   "metadata": {},
   "outputs": [
    {
     "name": "stdout",
     "output_type": "stream",
     "text": [
      "apple juice\n"
     ]
    }
   ],
   "source": [
    "a='apple'\n",
    "b='juice'\n",
    "print(a+' '+b)"
   ]
  },
  {
   "cell_type": "code",
   "execution_count": 49,
   "metadata": {},
   "outputs": [
    {
     "name": "stdout",
     "output_type": "stream",
     "text": [
      "hihihihihihihihihihihihi\n"
     ]
    }
   ],
   "source": [
    "#duplication\n",
    "print('hi'*12)"
   ]
  },
  {
   "cell_type": "code",
   "execution_count": 55,
   "metadata": {},
   "outputs": [
    {
     "name": "stdout",
     "output_type": "stream",
     "text": [
      "-x--x--x--x--x--x--x--x--x--x--x--x--x--x--x--x--x--x--x--x-\n",
      "                   journey before center                    \n"
     ]
    }
   ],
   "source": [
    "print('-x-'*20)\n",
    "print('journey before center'.center(60))\n"
   ]
  },
  {
   "cell_type": "code",
   "execution_count": 52,
   "metadata": {},
   "outputs": [
    {
     "name": "stdout",
     "output_type": "stream",
     "text": [
      "*\n",
      "**\n",
      "***\n",
      "****\n",
      "*****\n"
     ]
    }
   ],
   "source": [
    "for i in range(1,6):\n",
    "      print(i*'*')"
   ]
  },
  {
   "cell_type": "code",
   "execution_count": 67,
   "metadata": {},
   "outputs": [
    {
     "name": "stdout",
     "output_type": "stream",
     "text": [
      "                      *                      \n",
      "                   *  *  *                   \n",
      "                *  *  *  *  *                \n",
      "             *  *  *  *  *  *  *             \n",
      "          *  *  *  *  *  *  *  *  *          \n",
      "       *  *  *  *  *  *  *  *  *  *  *       \n",
      "    *  *  *  *  *  *  *  *  *  *  *  *  *    \n"
     ]
    }
   ],
   "source": [
    "for i in range(1,15,2):\n",
    "      print((i* ' * ').center(45))"
   ]
  },
  {
   "cell_type": "code",
   "execution_count": 63,
   "metadata": {},
   "outputs": [
    {
     "name": "stdout",
     "output_type": "stream",
     "text": [
      "!!!!!!!!!!!!!!!!!!!!! * !!!!!!!!!!!!!!!!!!!!!\n",
      "!!!!!!!!!!!!!!!!!! *  *  * !!!!!!!!!!!!!!!!!!\n",
      "!!!!!!!!!!!!!!! *  *  *  *  * !!!!!!!!!!!!!!!\n",
      "!!!!!!!!!!!! *  *  *  *  *  *  * !!!!!!!!!!!!\n",
      "!!!!!!!!! *  *  *  *  *  *  *  *  * !!!!!!!!!\n",
      "!!!!!! *  *  *  *  *  *  *  *  *  *  * !!!!!!\n",
      "!!! *  *  *  *  *  *  *  *  *  *  *  *  * !!!\n"
     ]
    }
   ],
   "source": [
    "for i in range(1,15,2):\n",
    "      print((i* ' * ').center(45,'!'))"
   ]
  },
  {
   "cell_type": "code",
   "execution_count": 66,
   "metadata": {},
   "outputs": [
    {
     "name": "stdout",
     "output_type": "stream",
     "text": [
      "--------------------- * ---------------------\n",
      "------------------ 0  0  0 ------------------\n",
      "--------------- *  *  *  *  * ---------------\n",
      "------------ 0  0  0  0  0  0  0 ------------\n",
      "--------- *  *  *  *  *  *  *  *  * ---------\n",
      "------ 0  0  0  0  0  0  0  0  0  0  0 ------\n",
      "--- *  *  *  *  *  *  *  *  *  *  *  *  * ---\n"
     ]
    }
   ],
   "source": [
    "for i in range(1,15,1):\n",
    "      if(i==1 or i==5 or i==9 or i==13):\n",
    "            print((i* ' * ').center(45,'-'))\n",
    "      if(i==3 or i==7 or i==11):\n",
    "            print((i* ' 0 ').center(45,'-'))"
   ]
  },
  {
   "cell_type": "code",
   "execution_count": null,
   "metadata": {},
   "outputs": [],
   "source": []
  }
 ],
 "metadata": {
  "kernelspec": {
   "display_name": "Python 3.9.12 ('base')",
   "language": "python",
   "name": "python3"
  },
  "language_info": {
   "codemirror_mode": {
    "name": "ipython",
    "version": 3
   },
   "file_extension": ".py",
   "mimetype": "text/x-python",
   "name": "python",
   "nbconvert_exporter": "python",
   "pygments_lexer": "ipython3",
   "version": "3.9.12"
  },
  "orig_nbformat": 4,
  "vscode": {
   "interpreter": {
    "hash": "5e310efb610597eecacd14aa46f7cfe8502fb6c4a83fc4086a11f43669e38f1e"
   }
  }
 },
 "nbformat": 4,
 "nbformat_minor": 2
}
