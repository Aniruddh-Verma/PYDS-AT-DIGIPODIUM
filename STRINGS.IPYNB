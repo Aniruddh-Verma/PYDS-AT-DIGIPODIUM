{
 "cells": [
  {
   "cell_type": "markdown",
   "metadata": {},
   "source": [
    "# STRINGS\n"
   ]
  },
  {
   "cell_type": "code",
   "execution_count": 2,
   "metadata": {},
   "outputs": [
    {
     "name": "stdout",
     "output_type": "stream",
     "text": [
      "14\n"
     ]
    }
   ],
   "source": [
    "# EXAMPLE 1: HOW TO FIND LENGTH OF KEYWORDS USING LEN()\n",
    "\n",
    "name='Aniruddh Verma'\n",
    "print(len(name))"
   ]
  },
  {
   "cell_type": "code",
   "execution_count": 3,
   "metadata": {},
   "outputs": [
    {
     "name": "stdout",
     "output_type": "stream",
     "text": [
      "0 A\n",
      "1 n\n",
      "2 i\n",
      "3 r\n",
      "4 u\n",
      "5 d\n",
      "6 d\n",
      "7 h\n",
      "8  \n",
      "9 V\n",
      "10 e\n",
      "11 r\n",
      "12 m\n",
      "13 a\n"
     ]
    }
   ],
   "source": [
    "# EXAMPLE 2: PRINTING CHARACTER OF STRING WITH THEIR INDEX VALUES\n",
    "\n",
    "for idx,char in enumerate(name):\n",
    "      print(idx,char)"
   ]
  },
  {
   "cell_type": "markdown",
   "metadata": {},
   "source": [
    "# 1. STRING SLICING\n",
    "\n",
    "### Syntax:-\n",
    "#### variablename[start:stop:step]"
   ]
  },
  {
   "cell_type": "code",
   "execution_count": 9,
   "metadata": {},
   "outputs": [
    {
     "name": "stdout",
     "output_type": "stream",
     "text": [
      " Verma\n"
     ]
    }
   ],
   "source": [
    "# EXAMPLE 1: SLICING A STRING FOR A SEGMENT OR PART OF STRING \n",
    "\n",
    "print(name[8:15])"
   ]
  },
  {
   "cell_type": "code",
   "execution_count": 7,
   "metadata": {},
   "outputs": [
    {
     "name": "stdout",
     "output_type": "stream",
     "text": [
      "Aniruddh\n",
      "Aniruddh\n",
      " Verma\n",
      " Verma\n"
     ]
    }
   ],
   "source": [
    "# EXAMPLE 2:SLICING A STRING FROM THE START TO A GIVEN INDEX VALUE\n",
    "\n",
    "# CASE 1: \n",
    "print(name[0:8])\n",
    "\n",
    "# CASE 2:\n",
    "print(name[:8])\n",
    "\n",
    "#EXAMPLE 3: SLICING A GIVEN STRING FROM THE GIVEN INDEX TO THE END \n",
    "#CASE 1:\n",
    "print(name[-6:len(name)])\n",
    "\n",
    "#CASE 2:\n",
    "print(name[-6:])"
   ]
  },
  {
   "cell_type": "code",
   "execution_count": 10,
   "metadata": {},
   "outputs": [
    {
     "name": "stdout",
     "output_type": "stream",
     "text": [
      "Aiud em\n"
     ]
    }
   ],
   "source": [
    "# EXAMPLE 4: PRINTING EVEN INDEX CHARACTERS OF A GIVEN STRING \n",
    "print(name[::2])"
   ]
  },
  {
   "cell_type": "code",
   "execution_count": 11,
   "metadata": {},
   "outputs": [
    {
     "name": "stdout",
     "output_type": "stream",
     "text": [
      "nuhea\n"
     ]
    }
   ],
   "source": [
    "# EXAMPLE 5: PRINTING ODD INDEXES CHARACTERS OF A GIVEN STRING\n",
    "print(name[1::3])"
   ]
  },
  {
   "cell_type": "code",
   "execution_count": 12,
   "metadata": {},
   "outputs": [
    {
     "name": "stdout",
     "output_type": "stream",
     "text": [
      "amreV hddurinA\n"
     ]
    }
   ],
   "source": [
    "# EXAMPLE 6: PRINTING REVERSE OF A GIVEN STRING \n",
    "print(name[::-1])"
   ]
  },
  {
   "cell_type": "code",
   "execution_count": 13,
   "metadata": {},
   "outputs": [
    {
     "name": "stdout",
     "output_type": "stream",
     "text": [
      "arVhdrn\n"
     ]
    }
   ],
   "source": [
    "# EXAMPLE 7: PRINTING ODD VALUES ON REVERSE STRING \n",
    "print(name[::-2])"
   ]
  },
  {
   "cell_type": "code",
   "execution_count": 15,
   "metadata": {},
   "outputs": [
    {
     "name": "stdout",
     "output_type": "stream",
     "text": [
      "iruddh Ver\n"
     ]
    }
   ],
   "source": [
    "# EXAMPLE 8: REMOVING AND PRINTING FIRST AND LAST TWO CHARACTERS FROM THE STRING \n",
    "print(name[2:-2])"
   ]
  },
  {
   "cell_type": "code",
   "execution_count": 38,
   "metadata": {},
   "outputs": [
    {
     "name": "stdout",
     "output_type": "stream",
     "text": [
      "race\n"
     ]
    }
   ],
   "source": [
    "# EXAMPLE 9:SHORT EXAMPLE ON SLICING OF A GIVEN STRINGS\n",
    "word='racecar'\n",
    "print(word[:-3])\n"
   ]
  },
  {
   "cell_type": "code",
   "execution_count": 27,
   "metadata": {},
   "outputs": [
    {
     "name": "stdout",
     "output_type": "stream",
     "text": [
      "A\n",
      "煔\n",
      "65\n",
      "8\n",
      "2023\n"
     ]
    }
   ],
   "source": [
    "# EXAMPLE 10: EXAMPLE TO FIND THE CHARACTER FROM THE GIVEN UNICODE \n",
    "a = 2023\n",
    "print(chr(65))\n",
    "print(chr(29012))\n",
    "print(ord('A'))\n",
    "print(len('Aniruddh'))\n",
    "print(str(a))"
   ]
  },
  {
   "cell_type": "markdown",
   "metadata": {},
   "source": [
    "# 2. CONCATENATION"
   ]
  },
  {
   "cell_type": "code",
   "execution_count": 32,
   "metadata": {},
   "outputs": [
    {
     "name": "stdout",
     "output_type": "stream",
     "text": [
      "apple juice\n",
      "ThisisAmazing\n",
      "This is Amazing\n"
     ]
    }
   ],
   "source": [
    "# EXAMPLE 1:\n",
    "\n",
    "a='apple'\n",
    "b='juice'\n",
    "print(a+' '+b)\n",
    "\n",
    "# EXAMPLE 2:\n",
    "\n",
    "w1='This'\n",
    "w2='is'\n",
    "w3='Amazing'\n",
    "print(w1+w2+w3)\n",
    "\n",
    "# EXAMPLE 3:\n",
    "\n",
    "print(w1 + ' ' + w2 + ' ' + w3)"
   ]
  },
  {
   "cell_type": "markdown",
   "metadata": {},
   "source": [
    "# 3. DUPLICATION "
   ]
  },
  {
   "cell_type": "code",
   "execution_count": 33,
   "metadata": {},
   "outputs": [
    {
     "name": "stdout",
     "output_type": "stream",
     "text": [
      "hihihihihihihihihihihihi\n",
      "-x--x--x--x--x--x--x--x--x--x--x--x--x--x--x--x--x--x--x--x-\n",
      "                   journey before center                    \n"
     ]
    }
   ],
   "source": [
    "# EXAMPLE 1:\n",
    "\n",
    "print('hi'*12)\n",
    "\n",
    "# EXAMPLE 2:\n",
    "\n",
    "print('-x-'*20)\n",
    "print('journey before center'.center(60))"
   ]
  },
  {
   "cell_type": "markdown",
   "metadata": {},
   "source": [
    "# 4.PATTERN "
   ]
  },
  {
   "cell_type": "code",
   "execution_count": 34,
   "metadata": {},
   "outputs": [
    {
     "name": "stdout",
     "output_type": "stream",
     "text": [
      "*\n",
      "**\n",
      "***\n",
      "****\n",
      "*****\n"
     ]
    }
   ],
   "source": [
    "# EXAMPLE 1: PRINT THE FOLLOWING PATTERN \n",
    "for i in range(1,6):\n",
    "      print(i*'*')"
   ]
  },
  {
   "cell_type": "code",
   "execution_count": 67,
   "metadata": {},
   "outputs": [
    {
     "name": "stdout",
     "output_type": "stream",
     "text": [
      "                      *                      \n",
      "                   *  *  *                   \n",
      "                *  *  *  *  *                \n",
      "             *  *  *  *  *  *  *             \n",
      "          *  *  *  *  *  *  *  *  *          \n",
      "       *  *  *  *  *  *  *  *  *  *  *       \n",
      "    *  *  *  *  *  *  *  *  *  *  *  *  *    \n"
     ]
    }
   ],
   "source": [
    "# EXAMPLE 2: PRINT THE FOLLOWING PATTERN \n",
    "\n",
    "for i in range(1,15,2):\n",
    "      print((i* ' * ').center(45))"
   ]
  },
  {
   "cell_type": "code",
   "execution_count": 63,
   "metadata": {},
   "outputs": [
    {
     "name": "stdout",
     "output_type": "stream",
     "text": [
      "!!!!!!!!!!!!!!!!!!!!! * !!!!!!!!!!!!!!!!!!!!!\n",
      "!!!!!!!!!!!!!!!!!! *  *  * !!!!!!!!!!!!!!!!!!\n",
      "!!!!!!!!!!!!!!! *  *  *  *  * !!!!!!!!!!!!!!!\n",
      "!!!!!!!!!!!! *  *  *  *  *  *  * !!!!!!!!!!!!\n",
      "!!!!!!!!! *  *  *  *  *  *  *  *  * !!!!!!!!!\n",
      "!!!!!! *  *  *  *  *  *  *  *  *  *  * !!!!!!\n",
      "!!! *  *  *  *  *  *  *  *  *  *  *  *  * !!!\n"
     ]
    }
   ],
   "source": [
    "# EXAMPLE 3: PRINT THE FOLLOWING PATTERN \n",
    "\n",
    "for i in range(1,15,2):\n",
    "      print((i* ' * ').center(45,'!'))"
   ]
  },
  {
   "cell_type": "code",
   "execution_count": 66,
   "metadata": {},
   "outputs": [
    {
     "name": "stdout",
     "output_type": "stream",
     "text": [
      "--------------------- * ---------------------\n",
      "------------------ 0  0  0 ------------------\n",
      "--------------- *  *  *  *  * ---------------\n",
      "------------ 0  0  0  0  0  0  0 ------------\n",
      "--------- *  *  *  *  *  *  *  *  * ---------\n",
      "------ 0  0  0  0  0  0  0  0  0  0  0 ------\n",
      "--- *  *  *  *  *  *  *  *  *  *  *  *  * ---\n"
     ]
    }
   ],
   "source": [
    "# EXAMPLE 4: PRINT THE GIVEN PATTERN \n",
    "\n",
    "for i in range(1,15,1):\n",
    "      if(i==1 or i==5 or i==9 or i==13):\n",
    "            print((i* ' * ').center(45,'-'))\n",
    "      if(i==3 or i==7 or i==11):\n",
    "            print((i* ' 0 ').center(45,'-'))"
   ]
  }
 ],
 "metadata": {
  "kernelspec": {
   "display_name": "Python 3.9.12 ('base')",
   "language": "python",
   "name": "python3"
  },
  "language_info": {
   "codemirror_mode": {
    "name": "ipython",
    "version": 3
   },
   "file_extension": ".py",
   "mimetype": "text/x-python",
   "name": "python",
   "nbconvert_exporter": "python",
   "pygments_lexer": "ipython3",
   "version": "3.9.12"
  },
  "orig_nbformat": 4,
  "vscode": {
   "interpreter": {
    "hash": "5e310efb610597eecacd14aa46f7cfe8502fb6c4a83fc4086a11f43669e38f1e"
   }
  }
 },
 "nbformat": 4,
 "nbformat_minor": 2
}
