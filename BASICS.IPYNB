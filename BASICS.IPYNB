{
 "cells": [
  {
   "cell_type": "code",
   "execution_count": 34,
   "metadata": {},
   "outputs": [
    {
     "name": "stdout",
     "output_type": "stream",
     "text": [
      "30162\n"
     ]
    }
   ],
   "source": [
    "#LIBRARY INSTALLATION COMMAND ON ANACONDA PROMPT\n",
    "#COMMAND : conda install ipykernel jupyter -y\n",
    "print(20328+9834)"
   ]
  },
  {
   "cell_type": "code",
   "execution_count": 35,
   "metadata": {},
   "outputs": [],
   "source": [
    "#how to upload code on github ??\n",
    "#command to upload email : git config --global user.email eraniruddhverma2023@gmail.com\n",
    "#command to upload username: git config --global user.name Anirudh-Verma\n",
    "\n",
    "\n"
   ]
  },
  {
   "cell_type": "code",
   "execution_count": 36,
   "metadata": {},
   "outputs": [
    {
     "data": {
      "text/plain": [
       "'ANIRUDH VERMA'"
      ]
     },
     "execution_count": 36,
     "metadata": {},
     "output_type": "execute_result"
    }
   ],
   "source": [
    "#HOW TO REPRESENT TEXT(STRING) ON PYTHON ALSO KNOWN AS A RAW OUTPUT\n",
    "#we use double quotes\n",
    "# for example\n",
    "\"ANIRUDH VERMA\""
   ]
  },
  {
   "cell_type": "code",
   "execution_count": 37,
   "metadata": {},
   "outputs": [
    {
     "name": "stdout",
     "output_type": "stream",
     "text": [
      "ANIRUDDH VERMA\n",
      "1 2 3\n",
      "brahmhastra 2022\n"
     ]
    }
   ],
   "source": [
    "#HOW TO REPRESENT STRING INTEGER\n",
    "print(\"ANIRUDDH VERMA\")\n",
    "print(1,2,3)\n",
    "print('brahmhastra',2022)"
   ]
  },
  {
   "cell_type": "code",
   "execution_count": 38,
   "metadata": {},
   "outputs": [
    {
     "name": "stdout",
     "output_type": "stream",
     "text": [
      "this is a line\n",
      "another line\n",
      "and the final line\n"
     ]
    }
   ],
   "source": [
    "#how to print multiple line using print statement \n",
    "print(\"this is a line\")\n",
    "print('another line')\n",
    "print('and the final line')\n"
   ]
  },
  {
   "cell_type": "code",
   "execution_count": 39,
   "metadata": {},
   "outputs": [
    {
     "name": "stdout",
     "output_type": "stream",
     "text": [
      "10\n",
      "20 50\n",
      "lucknow uttar pradesh anirudh\n"
     ]
    }
   ],
   "source": [
    "#how to print variables \n",
    "#example 1:\n",
    "a,b,c=10,20,50\n",
    "print(a)\n",
    "print(b,c)\n",
    "\n",
    "\n",
    "#example 2:\n",
    "city='lucknow'\n",
    "state= 'uttar pradesh'\n",
    "name='anirudh'\n",
    "print(city,state,name)"
   ]
  },
  {
   "cell_type": "code",
   "execution_count": 40,
   "metadata": {},
   "outputs": [
    {
     "name": "stdout",
     "output_type": "stream",
     "text": [
      "12\n"
     ]
    }
   ],
   "source": [
    "#how to take user input using input() function\n",
    "food= input()\n",
    "print(food )\n"
   ]
  },
  {
   "cell_type": "code",
   "execution_count": 41,
   "metadata": {},
   "outputs": [],
   "source": [
    "# datatypes in python:\n",
    "# 1. integer , 2. float , 3. boolean , 4.string , 5.nonetype ,DATA STRUCTURES:- 1. LIST , 2.SET , 3. TUPLE , 4. DICTIONARIES ***MOST IKMPORTANT***  \n",
    "# integer - 1,2,3,0,-1,-2,-3\n",
    "# float - 1.23, 7.3e10, -.31\n",
    "# string - 'HELLO', \"HELLO\",'''HELLO''' *** MOST IMPORTANT***"
   ]
  },
  {
   "cell_type": "code",
   "execution_count": 42,
   "metadata": {},
   "outputs": [
    {
     "name": "stdout",
     "output_type": "stream",
     "text": [
      "<class 'str'>\n",
      "<class 'int'>\n"
     ]
    }
   ],
   "source": [
    "#how to check datatype of variables using type() functions \n",
    "#example:1\n",
    "a='apple'\n",
    "print(type(a))\n",
    "\n",
    "\n",
    "#example:2\n",
    "b=1010\n",
    "print(type(b))\n"
   ]
  },
  {
   "cell_type": "code",
   "execution_count": 43,
   "metadata": {},
   "outputs": [
    {
     "name": "stdout",
     "output_type": "stream",
     "text": [
      "300 <class 'str'>\n",
      "300 <class 'int'>\n"
     ]
    }
   ],
   "source": [
    "#TYPE-CASTING\n",
    "#exmaple1:\n",
    "\n",
    "a=\"300\"\n",
    "print(a,type(a))\n",
    "b=int(a)\n",
    "print(b,type(b))"
   ]
  },
  {
   "cell_type": "code",
   "execution_count": 44,
   "metadata": {},
   "outputs": [
    {
     "name": "stdout",
     "output_type": "stream",
     "text": [
      "300 <class 'str'>\n",
      "300 <class 'str'>\n"
     ]
    }
   ],
   "source": [
    "a=\"300\"\n",
    "print(a,type(a))\n",
    "b=int(a)\n",
    "print(a,type(a))"
   ]
  },
  {
   "cell_type": "code",
   "execution_count": 45,
   "metadata": {},
   "outputs": [
    {
     "name": "stdout",
     "output_type": "stream",
     "text": [
      "300+ <class 'str'>\n"
     ]
    },
    {
     "ename": "ValueError",
     "evalue": "invalid literal for int() with base 10: '300+'",
     "output_type": "error",
     "traceback": [
      "\u001b[1;31m---------------------------------------------------------------------------\u001b[0m",
      "\u001b[1;31mValueError\u001b[0m                                Traceback (most recent call last)",
      "\u001b[1;32md:\\PYDS DIGIPODIUM\\BASICS.IPYNB Cell 12\u001b[0m in \u001b[0;36m<cell line: 4>\u001b[1;34m()\u001b[0m\n\u001b[0;32m      <a href='vscode-notebook-cell:/d%3A/PYDS%20DIGIPODIUM/BASICS.IPYNB#X14sZmlsZQ%3D%3D?line=1'>2</a>\u001b[0m a\u001b[39m=\u001b[39m\u001b[39m\"\u001b[39m\u001b[39m300+\u001b[39m\u001b[39m\"\u001b[39m\n\u001b[0;32m      <a href='vscode-notebook-cell:/d%3A/PYDS%20DIGIPODIUM/BASICS.IPYNB#X14sZmlsZQ%3D%3D?line=2'>3</a>\u001b[0m \u001b[39mprint\u001b[39m(a,\u001b[39mtype\u001b[39m(a))\n\u001b[1;32m----> <a href='vscode-notebook-cell:/d%3A/PYDS%20DIGIPODIUM/BASICS.IPYNB#X14sZmlsZQ%3D%3D?line=3'>4</a>\u001b[0m a\u001b[39m=\u001b[39m\u001b[39mint\u001b[39;49m(a)\n\u001b[0;32m      <a href='vscode-notebook-cell:/d%3A/PYDS%20DIGIPODIUM/BASICS.IPYNB#X14sZmlsZQ%3D%3D?line=4'>5</a>\u001b[0m \u001b[39mprint\u001b[39m(a,\u001b[39mtype\u001b[39m(a))\n",
      "\u001b[1;31mValueError\u001b[0m: invalid literal for int() with base 10: '300+'"
     ]
    }
   ],
   "source": [
    "#this code gives an error because a is not an integer so if we want to typecast a variable then it should be purely an integer\n",
    "a=\"300+\"\n",
    "print(a,type(a))\n",
    "a=int(a)\n",
    "print(a,type(a))"
   ]
  },
  {
   "cell_type": "code",
   "execution_count": null,
   "metadata": {},
   "outputs": [
    {
     "name": "stdout",
     "output_type": "stream",
     "text": [
      "<class 'str'> <class 'str'>\n",
      "26\n",
      "270\n"
     ]
    }
   ],
   "source": [
    "# *** note: input taken by the user is always in the form of string ****\n",
    "\n",
    "#EXAMPLE 1:\n",
    "\n",
    "a=input(\"enter A=\")\n",
    "b=input(\"enter B=\")\n",
    "print(type(a),type(b))\n",
    "a=int(a)\n",
    "b=int(b)\n",
    "print(a+b)\n",
    " \n",
    "\n",
    "#EXAMPLE 2:\n",
    "\n",
    "num1=int(input(\"enter num1 =\"))\n",
    "num2=int(input(\"enter num2 =\"))\n",
    "ans= num1*num2\n",
    "print(ans)\n"
   ]
  },
  {
   "cell_type": "markdown",
   "metadata": {},
   "source": [
    "## operators\n",
    "##### 1.arithmatic operators \n",
    "##### 2.assignment operators\n",
    "##### 3.comparison operators\n",
    "##### 4.logical operators \n",
    "##### 5.membership operators\n",
    "##### 6.instance operators\n",
    "##### 7.bitwise operators\n"
   ]
  },
  {
   "cell_type": "code",
   "execution_count": null,
   "metadata": {},
   "outputs": [
    {
     "name": "stdout",
     "output_type": "stream",
     "text": [
      "13\n",
      "7\n",
      "30\n",
      "3.3333333333333335\n",
      "3\n",
      "1\n",
      "1000\n"
     ]
    }
   ],
   "source": [
    "# ARITHMATIC OPERATOR\n",
    "x=10\n",
    "y=3\n",
    "print(x+y)\n",
    "print(x-y)\n",
    "print(x*y)\n",
    "print(x/y)       # FLOAT DIVISION \n",
    "print(x//y)      # INTEGER DIVISION\n",
    "print(x%y)       # REMAINDER\n",
    "print(x**y)      # EXPONENTIAL "
   ]
  },
  {
   "cell_type": "code",
   "execution_count": null,
   "metadata": {},
   "outputs": [
    {
     "name": "stdout",
     "output_type": "stream",
     "text": [
      "10\n",
      "15\n",
      "5\n",
      "15\n"
     ]
    }
   ],
   "source": [
    "# ASSIGNMENT OPERATORS\n",
    "X=10      #ASSIGNMENT\n",
    "print(X)\n",
    "X+=5      #UPDATE\n",
    "print(X)\n",
    "X-=10\n",
    "print(X)\n",
    "X*=3\n",
    "print(X)"
   ]
  },
  {
   "cell_type": "code",
   "execution_count": null,
   "metadata": {},
   "outputs": [
    {
     "name": "stdout",
     "output_type": "stream",
     "text": [
      "False\n"
     ]
    }
   ],
   "source": [
    "# COMPARISON OPERATORS \n",
    "x=10 \n",
    "y=5\n",
    "x>10\n",
    "y<4"
   ]
  },
  {
   "cell_type": "code",
   "execution_count": null,
   "metadata": {},
   "outputs": [
    {
     "name": "stdout",
     "output_type": "stream",
     "text": [
      "True\n"
     ]
    }
   ],
   "source": [
    "print('Apple'=='Apple')\n"
   ]
  },
  {
   "cell_type": "code",
   "execution_count": null,
   "metadata": {},
   "outputs": [
    {
     "name": "stdout",
     "output_type": "stream",
     "text": [
      "True\n",
      "True\n",
      "False\n"
     ]
    }
   ],
   "source": [
    "# LOGICAL OPERATORS\n",
    "# and , or , not \n",
    "\n",
    "#EXAMPLE 1: and OPERATOR\n",
    "x=10 \n",
    "print(x>5 and x<100)\n",
    "\n",
    "#EXAMPLE 2: OR OPERATORS \n",
    "X=10\n",
    "print(X>5 or X<100)\n",
    "\n",
    "#EXAMPLE 3: not OPERATOR\n",
    "x=10\n",
    "print(x not in range(12))\n"
   ]
  },
  {
   "cell_type": "code",
   "execution_count": null,
   "metadata": {},
   "outputs": [
    {
     "data": {
      "text/plain": [
       "True"
      ]
     },
     "execution_count": 21,
     "metadata": {},
     "output_type": "execute_result"
    }
   ],
   "source": [
    "# MEMBERSHIP OPERATORS \n",
    "#EXAMPLE 1: in OPERATOR\n",
    "a=[1,3,6,2,5,8]\n",
    "2 in a "
   ]
  },
  {
   "cell_type": "markdown",
   "metadata": {},
   "source": [
    "# FORMATTED STRINGS AND MESSAGE\n",
    "  "
   ]
  },
  {
   "cell_type": "code",
   "execution_count": null,
   "metadata": {},
   "outputs": [
    {
     "name": "stdout",
     "output_type": "stream",
     "text": [
      "10.5 6.1 64.05\n",
      "10.5 * 6.1 = 64.05\n",
      "10.5 * 6.1 = 64.05\n",
      "10.5 * 6.1 = 64.0\n",
      "10.5 IS MULTIPLIED BY 6.1 = 64.05\n"
     ]
    }
   ],
   "source": [
    "#EXAMPLE 1:WAP to print the area using different methods\n",
    "\n",
    "L=10.5\n",
    "B=6.10\n",
    "area = L*B\n",
    "print(L,B,area)                            #normal print statement\n",
    "print(\"{} * {} = {}\".format(L,B,area))     #used in version 3.5 \n",
    "print(f'{L} * {B} = {area}')               # f denotes formatted strings \n",
    "print(f'{L} * {B} = {area:.1f}')           # .1f gives 1 value after the decimal \n",
    "print(L,'IS MULTIPLIED BY',B,'=',area)"
   ]
  }
 ],
 "metadata": {
  "kernelspec": {
   "display_name": "Python 3.9.12 ('base')",
   "language": "python",
   "name": "python3"
  },
  "language_info": {
   "codemirror_mode": {
    "name": "ipython",
    "version": 3
   },
   "file_extension": ".py",
   "mimetype": "text/x-python",
   "name": "python",
   "nbconvert_exporter": "python",
   "pygments_lexer": "ipython3",
   "version": "3.9.12"
  },
  "orig_nbformat": 4,
  "vscode": {
   "interpreter": {
    "hash": "5e310efb610597eecacd14aa46f7cfe8502fb6c4a83fc4086a11f43669e38f1e"
   }
  }
 },
 "nbformat": 4,
 "nbformat_minor": 2
}
