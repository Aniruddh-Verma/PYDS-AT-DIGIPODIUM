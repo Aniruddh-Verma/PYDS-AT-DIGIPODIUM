{
 "cells": [
  {
   "cell_type": "code",
   "execution_count": 21,
   "metadata": {},
   "outputs": [
    {
     "name": "stdout",
     "output_type": "stream",
     "text": [
      "my name is Aniruddh Verma\n"
     ]
    }
   ],
   "source": [
    "# EXERCISE 1: Create a string and print it.\n",
    "\n",
    "name='my name is Aniruddh Verma'\n",
    "print(name)"
   ]
  },
  {
   "cell_type": "code",
   "execution_count": 22,
   "metadata": {},
   "outputs": [
    {
     "name": "stdout",
     "output_type": "stream",
     "text": [
      "25\n"
     ]
    }
   ],
   "source": [
    "# EXERCISE 2: Take a string input and print it's length.\n",
    "\n",
    "x=len(name)\n",
    "print(x)"
   ]
  },
  {
   "cell_type": "code",
   "execution_count": 42,
   "metadata": {},
   "outputs": [
    {
     "name": "stdout",
     "output_type": "stream",
     "text": [
      " great\n"
     ]
    }
   ],
   "source": [
    "# EXERCISE 3: Print the last word of the string \"\"\" Python is great \"\"\" using slice\n",
    "\n",
    "X='Python is great'\n",
    "lastspace_index=X.rfind(' ')\n",
    "print(str[lastspace_index:])"
   ]
  },
  {
   "cell_type": "code",
   "execution_count": 44,
   "metadata": {},
   "outputs": [
    {
     "name": "stdout",
     "output_type": "stream",
     "text": [
      "python\n",
      "is\n",
      "everywhere\n"
     ]
    }
   ],
   "source": [
    "# EXERCIE 4: Print the each word in different line of string \"\"\"python is everywhere\"\"\".\n",
    "\n",
    "X='python is everywhere'\n",
    "data=X.split()\n",
    "for i in range(len(data)):\n",
    "      print(data[i])"
   ]
  },
  {
   "cell_type": "code",
   "execution_count": 45,
   "metadata": {},
   "outputs": [
    {
     "name": "stdout",
     "output_type": "stream",
     "text": [
      "!dlroW olleH\n"
     ]
    }
   ],
   "source": [
    "# EXERCISE 5: Print the string \"\"\"Hello World!\"\"\" in reverse.\n",
    "s='Hello World!'\n",
    "print(s[: :-1])"
   ]
  },
  {
   "cell_type": "code",
   "execution_count": 47,
   "metadata": {},
   "outputs": [
    {
     "name": "stdout",
     "output_type": "stream",
     "text": [
      "HOW ARE YOU?\n"
     ]
    }
   ],
   "source": [
    "# EXERCISE 6: Convert the string \"\"\"How are you?\"\"\" in uppercase\n",
    "\n",
    "S='How are You?'\n",
    "print(S.upper())"
   ]
  },
  {
   "cell_type": "code",
   "execution_count": 48,
   "metadata": {},
   "outputs": [
    {
     "name": "stdout",
     "output_type": "stream",
     "text": [
      "how is it going?\n"
     ]
    }
   ],
   "source": [
    "# EXERCISE 7: Convert the string \"\"\"How Is It Going?\"\"\" in lowercase.\n",
    "\n",
    "S='How Is It Going?'\n",
    "print(S.lower())"
   ]
  },
  {
   "cell_type": "code",
   "execution_count": 50,
   "metadata": {},
   "outputs": [
    {
     "name": "stdout",
     "output_type": "stream",
     "text": [
      "Python is easy to learn\n"
     ]
    }
   ],
   "source": [
    "# EXERCISE 8: Join the following list by spaces( ) and print the result\n",
    "\n",
    "words = ['Python', 'is', 'easy', 'to', 'learn']\n",
    "print(' '.join(words))"
   ]
  },
  {
   "cell_type": "code",
   "execution_count": 56,
   "metadata": {},
   "outputs": [
    {
     "name": "stdout",
     "output_type": "stream",
     "text": [
      "Hi i am Aniruddh Verma \n",
      "I am Learning Python Data Science at DIGIPODIUM\n"
     ]
    }
   ],
   "source": [
    "# EXERCISE 9: Print a multiline string using a single print statement\n",
    "\n",
    "print('''Hi i am Aniruddh Verma \n",
    "I am Learning Python Data Science at DIGIPODIUM''')"
   ]
  },
  {
   "cell_type": "code",
   "execution_count": 57,
   "metadata": {},
   "outputs": [
    {
     "name": "stdout",
     "output_type": "stream",
     "text": [
      "Hi i am Aniruddh Verma \n",
      " I am Learning Python Data Science at DIGIPODIUM\n"
     ]
    }
   ],
   "source": [
    "# EXERCISE 10: Print ABOVE string to move to newline '\\n' is used. (results should look exactly like the provided string)\n",
    "\n",
    "print('Hi i am Aniruddh Verma','\\n','I am Learning Python Data Science at DIGIPODIUM')\n"
   ]
  },
  {
   "cell_type": "code",
   "execution_count": 59,
   "metadata": {},
   "outputs": [
    {
     "name": "stdout",
     "output_type": "stream",
     "text": [
      "the variable is 15\n"
     ]
    }
   ],
   "source": [
    "# EXERCISE 11: Print a variable with some text using a single print function, output should look like following.\n",
    "# INPUT: the variable is 15\n",
    "\n",
    "x1= 15\n",
    "print(f'the variable is {x1}')"
   ]
  },
  {
   "cell_type": "code",
   "execution_count": 60,
   "metadata": {},
   "outputs": [
    {
     "name": "stdout",
     "output_type": "stream",
     "text": [
      "python  is  great.\n"
     ]
    }
   ],
   "source": [
    "# EXERCISE 12: concatenate the following strings and print the result\n",
    "\n",
    "s1 = 'python '\n",
    "s2 = 'is '\n",
    "s3 = 'great.'\n",
    "print(s1+' '+s2+' '+s3)"
   ]
  },
  {
   "cell_type": "code",
   "execution_count": 63,
   "metadata": {},
   "outputs": [
    {
     "name": "stdout",
     "output_type": "stream",
     "text": [
      "####################\n"
     ]
    }
   ],
   "source": [
    "# EXERCISE 13:Print # 20 times without using a loop\n",
    " \n",
    "print('#'*20)"
   ]
  },
  {
   "cell_type": "code",
   "execution_count": 67,
   "metadata": {},
   "outputs": [
    {
     "name": "stdout",
     "output_type": "stream",
     "text": [
      "1.\n",
      "2.\n",
      "3.\n",
      "4.\n",
      "5.\n",
      "6.\n",
      "7.\n",
      "8.\n",
      "9.\n"
     ]
    }
   ],
   "source": [
    "# EXERCISE 14: Print numbers from 1 to 9, each on a seperate line, followed by a dot, output should look like the following-\n",
    "\n",
    "num= ['1','2','3','4','5','6','7','8','9']\n",
    "for i in range(len(num)):\n",
    "      print(num[i]+'.')"
   ]
  },
  {
   "cell_type": "code",
   "execution_count": 68,
   "metadata": {},
   "outputs": [
    {
     "name": "stdout",
     "output_type": "stream",
     "text": [
      "my\n",
      "naem\n",
      "si\n",
      "aniruddh\n",
      "verma\n"
     ]
    }
   ],
   "source": [
    "# EXERCISE 15: Ask user to input a sentence and print each word on a different line.\n",
    "\n",
    "usermsg=input('enter the sentence')\n",
    "data=usermsg.split()\n",
    "for i in range(len(data)):\n",
    "      print(data[i])"
   ]
  },
  {
   "cell_type": "code",
   "execution_count": 69,
   "metadata": {},
   "outputs": [
    {
     "name": "stdout",
     "output_type": "stream",
     "text": [
      "correct string\n"
     ]
    }
   ],
   "source": [
    "# EXERCISE 16: Ask user to input a string and check if the string ends with '?'\n",
    "\n",
    "usermsg = input('enter the string')\n",
    "msglen=usermsg[len(usermsg)-1:]\n",
    "if msglen =='?':\n",
    "      print('correct string')\n",
    "else:\n",
    "      print('incorrect string')"
   ]
  },
  {
   "cell_type": "code",
   "execution_count": 70,
   "metadata": {},
   "outputs": [
    {
     "name": "stdout",
     "output_type": "stream",
     "text": [
      "4\n"
     ]
    }
   ],
   "source": [
    "# EXERCISE 17: Ask user to input a string and print how many times \"e\" appeared in the string\n",
    "\n",
    "TEXT = input('enter a string')\n",
    "a=TEXT.count('e')\n",
    "print(a)"
   ]
  },
  {
   "cell_type": "code",
   "execution_count": 73,
   "metadata": {},
   "outputs": [
    {
     "name": "stdout",
     "output_type": "stream",
     "text": [
      "false\n"
     ]
    }
   ],
   "source": [
    "# EXERCISE 18: Check if the user input is a number.\n",
    "\n",
    "numb=input('enter the number')\n",
    "if numb.isnumeric():\n",
    "      print('true')\n",
    "else:\n",
    "      print('false')"
   ]
  },
  {
   "cell_type": "code",
   "execution_count": 75,
   "metadata": {},
   "outputs": [
    {
     "name": "stdout",
     "output_type": "stream",
     "text": [
      "this is not a good string\n"
     ]
    }
   ],
   "source": [
    "# EXERCISE 19: Remove the extra spaces in beginning and in the end of the following string-\n",
    "# INPUT: text = '   this is not a good string           '\n",
    "\n",
    "text = '   this is not a good string           '\n",
    "print(text.strip())"
   ]
  },
  {
   "cell_type": "code",
   "execution_count": 83,
   "metadata": {},
   "outputs": [
    {
     "name": "stdout",
     "output_type": "stream",
     "text": [
      "found\n"
     ]
    }
   ],
   "source": [
    "# EXECISE 20: Ask user to input string, print found if any of the character is upper case.\n",
    "\n",
    "name=input('enter the string')\n",
    "for i in range(len(name)):\n",
    "      if name[i].isupper():\n",
    "            print('found')\n",
    "            break\n",
    "else:\n",
    "      print('not found')"
   ]
  },
  {
   "cell_type": "code",
   "execution_count": 84,
   "metadata": {},
   "outputs": [
    {
     "name": "stdout",
     "output_type": "stream",
     "text": [
      "['Joe', ' David', ' Mark', ' Tom', ' Chris', ' Robert']\n"
     ]
    }
   ],
   "source": [
    "# EXERCISE 21: Extract names from the following string and store them in a list.\n",
    "# INPUT: names = 'Joe, David, Mark, Tom, Chris, Robert'\n",
    "\n",
    "names = 'Joe, David, Mark, Tom, Chris, Robert'\n",
    "data=names.split(',')\n",
    "print(data)"
   ]
  },
  {
   "cell_type": "code",
   "execution_count": 88,
   "metadata": {},
   "outputs": [
    {
     "name": "stdout",
     "output_type": "stream",
     "text": [
      "thisaye isaye someaye textaye "
     ]
    }
   ],
   "source": [
    "# EXERCISE 22: In the following string, add aye in the end of every word and print the results.\n",
    "# INPUT: text = 'this is some text'\n",
    "\n",
    "text = 'this is some text'\n",
    "data=text.split()\n",
    "for i in range(len(data)):\n",
    "      print(data[i]+'aye',end=' ')"
   ]
  },
  {
   "cell_type": "code",
   "execution_count": 7,
   "metadata": {},
   "outputs": [
    {
     "name": "stdout",
     "output_type": "stream",
     "text": [
      "True\n"
     ]
    }
   ],
   "source": [
    "# EXERCISE 23: ask user to enter a string and check if the string contains \"fyi\"\n",
    "\n",
    "b=input('enter the string:')\n",
    "x=b.find('fyi')\n",
    "b1=b[x:x+3]\n",
    "if b1=='fyi':\n",
    "      print('True')\n",
    "else:\n",
    "      print('false')"
   ]
  },
  {
   "cell_type": "code",
   "execution_count": 17,
   "metadata": {},
   "outputs": [
    {
     "ename": "TypeError",
     "evalue": "str.isnumeric() takes no arguments (1 given)",
     "output_type": "error",
     "traceback": [
      "\u001b[1;31m---------------------------------------------------------------------------\u001b[0m",
      "\u001b[1;31mTypeError\u001b[0m                                 Traceback (most recent call last)",
      "\u001b[1;32md:\\PYDS DIGIPODIUM\\STRINGS-EXERCISE.ipynb Cell 24\u001b[0m in \u001b[0;36m<cell line: 2>\u001b[1;34m()\u001b[0m\n\u001b[0;32m      <a href='vscode-notebook-cell:/d%3A/PYDS%20DIGIPODIUM/STRINGS-EXERCISE.ipynb#X32sZmlsZQ%3D%3D?line=0'>1</a>\u001b[0m text2 \u001b[39m=\u001b[39m \u001b[39m'\u001b[39m\u001b[39m%\u001b[39m\u001b[39mp34@y!*-*!t68h#&on404\u001b[39m\u001b[39m'\u001b[39m\n\u001b[0;32m      <a href='vscode-notebook-cell:/d%3A/PYDS%20DIGIPODIUM/STRINGS-EXERCISE.ipynb#X32sZmlsZQ%3D%3D?line=1'>2</a>\u001b[0m \u001b[39mfor\u001b[39;00m i \u001b[39min\u001b[39;00m \u001b[39mrange\u001b[39m(\u001b[39mlen\u001b[39m(text)):\n\u001b[1;32m----> <a href='vscode-notebook-cell:/d%3A/PYDS%20DIGIPODIUM/STRINGS-EXERCISE.ipynb#X32sZmlsZQ%3D%3D?line=2'>3</a>\u001b[0m       \u001b[39mif\u001b[39;00m text2\u001b[39m.\u001b[39;49misnumeric(i):\n\u001b[0;32m      <a href='vscode-notebook-cell:/d%3A/PYDS%20DIGIPODIUM/STRINGS-EXERCISE.ipynb#X32sZmlsZQ%3D%3D?line=3'>4</a>\u001b[0m             \u001b[39mcontinue\u001b[39;00m\n\u001b[0;32m      <a href='vscode-notebook-cell:/d%3A/PYDS%20DIGIPODIUM/STRINGS-EXERCISE.ipynb#X32sZmlsZQ%3D%3D?line=4'>5</a>\u001b[0m       get_ipython()\u001b[39m.\u001b[39mrun_line_magic(\u001b[39m'\u001b[39m\u001b[39mpinfo\u001b[39m\u001b[39m'\u001b[39m, \u001b[39m'\u001b[39m\u001b[39mtext2.is\u001b[39m\u001b[39m'\u001b[39m)\n",
      "\u001b[1;31mTypeError\u001b[0m: str.isnumeric() takes no arguments (1 given)"
     ]
    }
   ],
   "source": [
    "# EXERCISE 24:Remove all the special characters and numbers from the following string\n",
    "# INPUT: text = '%p34@y!*-*!t68h#&on404'\n",
    "\n",
    "text = '%p34@y!*-*!t68h#&on404'\n",
    "s=text.split()\n",
    "for i in range(len(s)):\n",
    "      if s[i].isnumeric() or s[i].is"
   ]
  },
  {
   "cell_type": "code",
   "execution_count": 2,
   "metadata": {},
   "outputs": [
    {
     "name": "stdout",
     "output_type": "stream",
     "text": [
      "'String!!!!!'\n"
     ]
    }
   ],
   "source": []
  },
  {
   "cell_type": "code",
   "execution_count": null,
   "metadata": {},
   "outputs": [],
   "source": []
  }
 ],
 "metadata": {
  "kernelspec": {
   "display_name": "Python 3.9.12 ('base')",
   "language": "python",
   "name": "python3"
  },
  "language_info": {
   "codemirror_mode": {
    "name": "ipython",
    "version": 3
   },
   "file_extension": ".py",
   "mimetype": "text/x-python",
   "name": "python",
   "nbconvert_exporter": "python",
   "pygments_lexer": "ipython3",
   "version": "3.9.12"
  },
  "orig_nbformat": 4,
  "vscode": {
   "interpreter": {
    "hash": "5e310efb610597eecacd14aa46f7cfe8502fb6c4a83fc4086a11f43669e38f1e"
   }
  }
 },
 "nbformat": 4,
 "nbformat_minor": 2
}
