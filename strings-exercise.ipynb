{
 "cells": [
  {
   "cell_type": "code",
   "execution_count": 1,
   "metadata": {},
   "outputs": [
    {
     "name": "stdout",
     "output_type": "stream",
     "text": [
      "my name is Aniruddh Verma\n"
     ]
    }
   ],
   "source": [
    "# exercise 1\n",
    "\n",
    "name='my name is Aniruddh Verma'\n",
    "print(name)"
   ]
  },
  {
   "cell_type": "code",
   "execution_count": 3,
   "metadata": {},
   "outputs": [
    {
     "name": "stdout",
     "output_type": "stream",
     "text": [
      "25\n"
     ]
    }
   ],
   "source": [
    "x=len(name)\n",
    "print(x)"
   ]
  },
  {
   "cell_type": "code",
   "execution_count": 6,
   "metadata": {},
   "outputs": [
    {
     "name": "stdout",
     "output_type": "stream",
     "text": [
      "t\n"
     ]
    }
   ],
   "source": [
    "str='Python is great'\n",
    "print(str[-1])"
   ]
  },
  {
   "cell_type": "code",
   "execution_count": 12,
   "metadata": {},
   "outputs": [
    {
     "name": "stdout",
     "output_type": "stream",
     "text": [
      "python\n",
      "is\n",
      "everywhere\n"
     ]
    }
   ],
   "source": [
    "str1='python is everywhere'\n",
    "data=str1.split()\n",
    "for i in range(len(data)):\n",
    "      print(data[i])"
   ]
  },
  {
   "cell_type": "code",
   "execution_count": 19,
   "metadata": {},
   "outputs": [
    {
     "name": "stdout",
     "output_type": "stream",
     "text": [
      "!dlroW olleH\n"
     ]
    }
   ],
   "source": [
    "str2='Hello World!'\n",
    "print(str2[: :-1])"
   ]
  },
  {
   "cell_type": "code",
   "execution_count": 21,
   "metadata": {},
   "outputs": [
    {
     "data": {
      "text/plain": [
       "'HOW ARE YOU?'"
      ]
     },
     "execution_count": 21,
     "metadata": {},
     "output_type": "execute_result"
    }
   ],
   "source": [
    "str3='How are You?'\n",
    "str3.upper()"
   ]
  },
  {
   "cell_type": "code",
   "execution_count": 22,
   "metadata": {},
   "outputs": [
    {
     "data": {
      "text/plain": [
       "'how is it going?'"
      ]
     },
     "execution_count": 22,
     "metadata": {},
     "output_type": "execute_result"
    }
   ],
   "source": [
    "str4='How Is It Going?'\n",
    "str4.lower()"
   ]
  },
  {
   "cell_type": "code",
   "execution_count": 24,
   "metadata": {},
   "outputs": [
    {
     "data": {
      "text/plain": [
       "'Python is easy to learn'"
      ]
     },
     "execution_count": 24,
     "metadata": {},
     "output_type": "execute_result"
    }
   ],
   "source": [
    "words = ['Python', 'is', 'easy', 'to', 'learn']\n",
    "' '.join(words)"
   ]
  },
  {
   "cell_type": "code",
   "execution_count": 25,
   "metadata": {},
   "outputs": [
    {
     "name": "stdout",
     "output_type": "stream",
     "text": [
      " Hi i am Aniruddh Verma\n",
      "I am Learning Python Data Science at DIGIPODIUM\n"
     ]
    }
   ],
   "source": [
    "print(''' Hi i am Aniruddh Verma\n",
    "I am Learning Python Data Science at DIGIPODIUM''')"
   ]
  },
  {
   "cell_type": "code",
   "execution_count": 31,
   "metadata": {},
   "outputs": [
    {
     "name": "stdout",
     "output_type": "stream",
     "text": [
      "Hi i am Aniruddh Verma \n",
      "\n",
      "I am Learning Python Data Science at DIGIPODIUM\n"
     ]
    }
   ],
   "source": [
    "print('Hi i am Aniruddh Verma','\\n')\n",
    "print('I am Learning Python Data Science at DIGIPODIUM')"
   ]
  },
  {
   "cell_type": "code",
   "execution_count": 34,
   "metadata": {},
   "outputs": [
    {
     "name": "stdout",
     "output_type": "stream",
     "text": [
      "the value of x1 is 15\n"
     ]
    }
   ],
   "source": [
    "x1= 15\n",
    "print(f'the value of x1 is {x1}')"
   ]
  },
  {
   "cell_type": "code",
   "execution_count": 35,
   "metadata": {},
   "outputs": [
    {
     "name": "stdout",
     "output_type": "stream",
     "text": [
      "python  is  great.\n"
     ]
    }
   ],
   "source": [
    "s1 = 'python '\n",
    "s2 = 'is '\n",
    "s3 = 'great.'\n",
    "print(s1+' '+s2+' '+s3)"
   ]
  },
  {
   "cell_type": "code",
   "execution_count": 36,
   "metadata": {},
   "outputs": [
    {
     "name": "stdout",
     "output_type": "stream",
     "text": [
      "####################\n"
     ]
    }
   ],
   "source": [
    "print('#'*20)"
   ]
  },
  {
   "cell_type": "code",
   "execution_count": 42,
   "metadata": {},
   "outputs": [
    {
     "name": "stdout",
     "output_type": "stream",
     "text": [
      "1.\n",
      "2.\n",
      "3.\n",
      "4.\n",
      "5.\n",
      "6.\n",
      "7.\n",
      "8.\n",
      "9.\n"
     ]
    }
   ],
   "source": [
    "for i in range(1,10):\n",
    "      print(i,end='.')\n",
    "      print()"
   ]
  },
  {
   "cell_type": "code",
   "execution_count": 47,
   "metadata": {},
   "outputs": [
    {
     "name": "stdout",
     "output_type": "stream",
     "text": [
      "my\n",
      "name\n",
      "si\n",
      "aniruddh\n",
      "verma\n"
     ]
    }
   ],
   "source": [
    "name1=input('enter the sentence')\n",
    "data2=name1.split()\n",
    "for i in range(len(data2)):\n",
    "      print(data2[i])"
   ]
  },
  {
   "cell_type": "code",
   "execution_count": 48,
   "metadata": {},
   "outputs": [
    {
     "name": "stdout",
     "output_type": "stream",
     "text": [
      "correct string\n"
     ]
    }
   ],
   "source": [
    "name3= input('enter the string')\n",
    "data4=name3[len(name3)-1:]\n",
    "if data4 =='?':\n",
    "      print('correct string')\n",
    "else:\n",
    "      print('incorrect string')"
   ]
  },
  {
   "cell_type": "code",
   "execution_count": 51,
   "metadata": {},
   "outputs": [
    {
     "name": "stdout",
     "output_type": "stream",
     "text": [
      "3\n"
     ]
    }
   ],
   "source": [
    "name4= input('enter a string')\n",
    "a=name4.count('e')\n",
    "print(a)"
   ]
  },
  {
   "cell_type": "code",
   "execution_count": 53,
   "metadata": {},
   "outputs": [
    {
     "name": "stdout",
     "output_type": "stream",
     "text": [
      "is number\n"
     ]
    }
   ],
   "source": [
    "x2=input('enter the number')\n",
    "if x2.isnumeric():\n",
    "      print('is number')"
   ]
  },
  {
   "cell_type": "code",
   "execution_count": 54,
   "metadata": {},
   "outputs": [
    {
     "name": "stdout",
     "output_type": "stream",
     "text": [
      "this is not a good string\n"
     ]
    }
   ],
   "source": [
    "text = '   this is not a good string           '\n",
    "print(text.strip())"
   ]
  },
  {
   "cell_type": "code",
   "execution_count": 57,
   "metadata": {},
   "outputs": [
    {
     "name": "stdout",
     "output_type": "stream",
     "text": [
      "found\n"
     ]
    }
   ],
   "source": [
    "name5=input('enter the string')\n",
    "for i in range(len(name5)):\n",
    "      if name5[i].isupper():\n",
    "            print('found')"
   ]
  },
  {
   "cell_type": "code",
   "execution_count": null,
   "metadata": {},
   "outputs": [],
   "source": [
    "names = 'Joe, David, Mark, Tom, Chris, Robert'\n",
    "for i in range()"
   ]
  }
 ],
 "metadata": {
  "kernelspec": {
   "display_name": "Python 3.9.12 ('base')",
   "language": "python",
   "name": "python3"
  },
  "language_info": {
   "codemirror_mode": {
    "name": "ipython",
    "version": 3
   },
   "file_extension": ".py",
   "mimetype": "text/x-python",
   "name": "python",
   "nbconvert_exporter": "python",
   "pygments_lexer": "ipython3",
   "version": "3.9.12"
  },
  "orig_nbformat": 4,
  "vscode": {
   "interpreter": {
    "hash": "5e310efb610597eecacd14aa46f7cfe8502fb6c4a83fc4086a11f43669e38f1e"
   }
  }
 },
 "nbformat": 4,
 "nbformat_minor": 2
}
