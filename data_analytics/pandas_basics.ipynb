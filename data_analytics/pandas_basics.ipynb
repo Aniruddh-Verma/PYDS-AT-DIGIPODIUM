{
 "cells": [
  {
   "cell_type": "code",
   "execution_count": 93,
   "metadata": {},
   "outputs": [],
   "source": [
    "import pandas as pd\n",
    "import numpy as np \n",
    "import matplotlib.pyplot as plt\n",
    "import plotly.express as px\n"
   ]
  },
  {
   "cell_type": "code",
   "execution_count": 94,
   "metadata": {},
   "outputs": [
    {
     "name": "stderr",
     "output_type": "stream",
     "text": [
      "C:\\Users\\aniruddh\\AppData\\Local\\Temp\\ipykernel_15028\\2886241513.py:4: DtypeWarning:\n",
      "\n",
      "Columns (1,2,3,5,6,7,8,11) have mixed types. Specify dtype option on import or set low_memory=False.\n",
      "\n"
     ]
    },
    {
     "data": {
      "text/html": [
       "<div>\n",
       "<style scoped>\n",
       "    .dataframe tbody tr th:only-of-type {\n",
       "        vertical-align: middle;\n",
       "    }\n",
       "\n",
       "    .dataframe tbody tr th {\n",
       "        vertical-align: top;\n",
       "    }\n",
       "\n",
       "    .dataframe thead th {\n",
       "        text-align: right;\n",
       "    }\n",
       "</style>\n",
       "<table border=\"1\" class=\"dataframe\">\n",
       "  <thead>\n",
       "    <tr style=\"text-align: right;\">\n",
       "      <th></th>\n",
       "      <th>IncidntNum</th>\n",
       "      <th>Category</th>\n",
       "      <th>Descript</th>\n",
       "      <th>DayOfWeek</th>\n",
       "      <th>Date</th>\n",
       "      <th>Time</th>\n",
       "      <th>PdDistrict</th>\n",
       "      <th>Resolution</th>\n",
       "      <th>Address</th>\n",
       "      <th>X</th>\n",
       "      <th>Y</th>\n",
       "      <th>Location</th>\n",
       "      <th>PdId</th>\n",
       "    </tr>\n",
       "  </thead>\n",
       "  <tbody>\n",
       "    <tr>\n",
       "      <th>0</th>\n",
       "      <td>120058272.0</td>\n",
       "      <td>WEAPON LAWS</td>\n",
       "      <td>POSS OF PROHIBITED WEAPON</td>\n",
       "      <td>Friday</td>\n",
       "      <td>2016-01-29</td>\n",
       "      <td>11:00</td>\n",
       "      <td>SOUTHERN</td>\n",
       "      <td>ARREST, BOOKED</td>\n",
       "      <td>800 Block of BRYANT ST</td>\n",
       "      <td>-122.403405</td>\n",
       "      <td>37.775421</td>\n",
       "      <td>(37.775420706711, -122.403404791479)</td>\n",
       "      <td>1.200580e+13</td>\n",
       "    </tr>\n",
       "    <tr>\n",
       "      <th>1</th>\n",
       "      <td>120058272.0</td>\n",
       "      <td>WEAPON LAWS</td>\n",
       "      <td>FIREARM, LOADED, IN VEHICLE, POSSESSION OR USE</td>\n",
       "      <td>Friday</td>\n",
       "      <td>2016-01-29</td>\n",
       "      <td>11:00</td>\n",
       "      <td>SOUTHERN</td>\n",
       "      <td>ARREST, BOOKED</td>\n",
       "      <td>800 Block of BRYANT ST</td>\n",
       "      <td>-122.403405</td>\n",
       "      <td>37.775421</td>\n",
       "      <td>(37.775420706711, -122.403404791479)</td>\n",
       "      <td>1.200580e+13</td>\n",
       "    </tr>\n",
       "    <tr>\n",
       "      <th>2</th>\n",
       "      <td>141059263.0</td>\n",
       "      <td>WARRANTS</td>\n",
       "      <td>WARRANT ARREST</td>\n",
       "      <td>Monday</td>\n",
       "      <td>2016-04-25</td>\n",
       "      <td>14:59</td>\n",
       "      <td>BAYVIEW</td>\n",
       "      <td>ARREST, BOOKED</td>\n",
       "      <td>KEITH ST / SHAFTER AV</td>\n",
       "      <td>-122.388856</td>\n",
       "      <td>37.729981</td>\n",
       "      <td>(37.7299809672996, -122.388856204292)</td>\n",
       "      <td>1.410590e+13</td>\n",
       "    </tr>\n",
       "    <tr>\n",
       "      <th>3</th>\n",
       "      <td>160013662.0</td>\n",
       "      <td>NON-CRIMINAL</td>\n",
       "      <td>LOST PROPERTY</td>\n",
       "      <td>Tuesday</td>\n",
       "      <td>2016-01-05</td>\n",
       "      <td>23:50</td>\n",
       "      <td>TENDERLOIN</td>\n",
       "      <td>NONE</td>\n",
       "      <td>JONES ST / OFARRELL ST</td>\n",
       "      <td>-122.412971</td>\n",
       "      <td>37.785788</td>\n",
       "      <td>(37.7857883766888, -122.412970537591)</td>\n",
       "      <td>1.600140e+13</td>\n",
       "    </tr>\n",
       "    <tr>\n",
       "      <th>4</th>\n",
       "      <td>160002740.0</td>\n",
       "      <td>NON-CRIMINAL</td>\n",
       "      <td>LOST PROPERTY</td>\n",
       "      <td>Friday</td>\n",
       "      <td>2016-01-01</td>\n",
       "      <td>00:30</td>\n",
       "      <td>MISSION</td>\n",
       "      <td>NONE</td>\n",
       "      <td>16TH ST / MISSION ST</td>\n",
       "      <td>-122.419672</td>\n",
       "      <td>37.765050</td>\n",
       "      <td>(37.7650501214668, -122.419671780296)</td>\n",
       "      <td>1.600030e+13</td>\n",
       "    </tr>\n",
       "    <tr>\n",
       "      <th>...</th>\n",
       "      <td>...</td>\n",
       "      <td>...</td>\n",
       "      <td>...</td>\n",
       "      <td>...</td>\n",
       "      <td>...</td>\n",
       "      <td>...</td>\n",
       "      <td>...</td>\n",
       "      <td>...</td>\n",
       "      <td>...</td>\n",
       "      <td>...</td>\n",
       "      <td>...</td>\n",
       "      <td>...</td>\n",
       "      <td>...</td>\n",
       "    </tr>\n",
       "    <tr>\n",
       "      <th>150495</th>\n",
       "      <td>NaN</td>\n",
       "      <td>NaN</td>\n",
       "      <td>NaN</td>\n",
       "      <td>NaN</td>\n",
       "      <td>NaT</td>\n",
       "      <td>NaN</td>\n",
       "      <td>NaN</td>\n",
       "      <td>NaN</td>\n",
       "      <td>NaN</td>\n",
       "      <td>NaN</td>\n",
       "      <td>NaN</td>\n",
       "      <td>NaN</td>\n",
       "      <td>NaN</td>\n",
       "    </tr>\n",
       "    <tr>\n",
       "      <th>150496</th>\n",
       "      <td>NaN</td>\n",
       "      <td>NaN</td>\n",
       "      <td>NaN</td>\n",
       "      <td>NaN</td>\n",
       "      <td>NaT</td>\n",
       "      <td>NaN</td>\n",
       "      <td>NaN</td>\n",
       "      <td>NaN</td>\n",
       "      <td>NaN</td>\n",
       "      <td>NaN</td>\n",
       "      <td>NaN</td>\n",
       "      <td>NaN</td>\n",
       "      <td>NaN</td>\n",
       "    </tr>\n",
       "    <tr>\n",
       "      <th>150497</th>\n",
       "      <td>NaN</td>\n",
       "      <td>NaN</td>\n",
       "      <td>NaN</td>\n",
       "      <td>NaN</td>\n",
       "      <td>NaT</td>\n",
       "      <td>NaN</td>\n",
       "      <td>NaN</td>\n",
       "      <td>NaN</td>\n",
       "      <td>NaN</td>\n",
       "      <td>NaN</td>\n",
       "      <td>NaN</td>\n",
       "      <td>NaN</td>\n",
       "      <td>NaN</td>\n",
       "    </tr>\n",
       "    <tr>\n",
       "      <th>150498</th>\n",
       "      <td>NaN</td>\n",
       "      <td>NaN</td>\n",
       "      <td>NaN</td>\n",
       "      <td>NaN</td>\n",
       "      <td>NaT</td>\n",
       "      <td>NaN</td>\n",
       "      <td>NaN</td>\n",
       "      <td>NaN</td>\n",
       "      <td>NaN</td>\n",
       "      <td>NaN</td>\n",
       "      <td>NaN</td>\n",
       "      <td>NaN</td>\n",
       "      <td>NaN</td>\n",
       "    </tr>\n",
       "    <tr>\n",
       "      <th>150499</th>\n",
       "      <td>NaN</td>\n",
       "      <td>NaN</td>\n",
       "      <td>NaN</td>\n",
       "      <td>NaN</td>\n",
       "      <td>NaT</td>\n",
       "      <td>NaN</td>\n",
       "      <td>NaN</td>\n",
       "      <td>NaN</td>\n",
       "      <td>NaN</td>\n",
       "      <td>NaN</td>\n",
       "      <td>NaN</td>\n",
       "      <td>NaN</td>\n",
       "      <td>NaN</td>\n",
       "    </tr>\n",
       "  </tbody>\n",
       "</table>\n",
       "<p>150500 rows × 13 columns</p>\n",
       "</div>"
      ],
      "text/plain": [
       "         IncidntNum      Category  \\\n",
       "0       120058272.0   WEAPON LAWS   \n",
       "1       120058272.0   WEAPON LAWS   \n",
       "2       141059263.0      WARRANTS   \n",
       "3       160013662.0  NON-CRIMINAL   \n",
       "4       160002740.0  NON-CRIMINAL   \n",
       "...             ...           ...   \n",
       "150495          NaN           NaN   \n",
       "150496          NaN           NaN   \n",
       "150497          NaN           NaN   \n",
       "150498          NaN           NaN   \n",
       "150499          NaN           NaN   \n",
       "\n",
       "                                              Descript DayOfWeek       Date  \\\n",
       "0                            POSS OF PROHIBITED WEAPON    Friday 2016-01-29   \n",
       "1       FIREARM, LOADED, IN VEHICLE, POSSESSION OR USE    Friday 2016-01-29   \n",
       "2                                       WARRANT ARREST    Monday 2016-04-25   \n",
       "3                                        LOST PROPERTY   Tuesday 2016-01-05   \n",
       "4                                        LOST PROPERTY    Friday 2016-01-01   \n",
       "...                                                ...       ...        ...   \n",
       "150495                                             NaN       NaN        NaT   \n",
       "150496                                             NaN       NaN        NaT   \n",
       "150497                                             NaN       NaN        NaT   \n",
       "150498                                             NaN       NaN        NaT   \n",
       "150499                                             NaN       NaN        NaT   \n",
       "\n",
       "         Time  PdDistrict      Resolution                 Address           X  \\\n",
       "0       11:00    SOUTHERN  ARREST, BOOKED  800 Block of BRYANT ST -122.403405   \n",
       "1       11:00    SOUTHERN  ARREST, BOOKED  800 Block of BRYANT ST -122.403405   \n",
       "2       14:59     BAYVIEW  ARREST, BOOKED   KEITH ST / SHAFTER AV -122.388856   \n",
       "3       23:50  TENDERLOIN            NONE  JONES ST / OFARRELL ST -122.412971   \n",
       "4       00:30     MISSION            NONE    16TH ST / MISSION ST -122.419672   \n",
       "...       ...         ...             ...                     ...         ...   \n",
       "150495    NaN         NaN             NaN                     NaN         NaN   \n",
       "150496    NaN         NaN             NaN                     NaN         NaN   \n",
       "150497    NaN         NaN             NaN                     NaN         NaN   \n",
       "150498    NaN         NaN             NaN                     NaN         NaN   \n",
       "150499    NaN         NaN             NaN                     NaN         NaN   \n",
       "\n",
       "                Y                               Location          PdId  \n",
       "0       37.775421   (37.775420706711, -122.403404791479)  1.200580e+13  \n",
       "1       37.775421   (37.775420706711, -122.403404791479)  1.200580e+13  \n",
       "2       37.729981  (37.7299809672996, -122.388856204292)  1.410590e+13  \n",
       "3       37.785788  (37.7857883766888, -122.412970537591)  1.600140e+13  \n",
       "4       37.765050  (37.7650501214668, -122.419671780296)  1.600030e+13  \n",
       "...           ...                                    ...           ...  \n",
       "150495        NaN                                    NaN           NaN  \n",
       "150496        NaN                                    NaN           NaN  \n",
       "150497        NaN                                    NaN           NaN  \n",
       "150498        NaN                                    NaN           NaN  \n",
       "150499        NaN                                    NaN           NaN  \n",
       "\n",
       "[150500 rows x 13 columns]"
      ]
     },
     "execution_count": 94,
     "metadata": {},
     "output_type": "execute_result"
    }
   ],
   "source": [
    "# it is used to do time date analysis\n",
    "\n",
    "\n",
    "df = pd.read_csv('incidents_small.csv',parse_dates=['Date'])\n",
    "df"
   ]
  },
  {
   "cell_type": "code",
   "execution_count": 95,
   "metadata": {},
   "outputs": [
    {
     "name": "stdout",
     "output_type": "stream",
     "text": [
      "<class 'pandas.core.frame.DataFrame'>\n",
      "RangeIndex: 150500 entries, 0 to 150499\n",
      "Data columns (total 13 columns):\n",
      " #   Column      Non-Null Count  Dtype         \n",
      "---  ------      --------------  -----         \n",
      " 0   IncidntNum  10019 non-null  float64       \n",
      " 1   Category    10019 non-null  object        \n",
      " 2   Descript    10019 non-null  object        \n",
      " 3   DayOfWeek   10019 non-null  object        \n",
      " 4   Date        10019 non-null  datetime64[ns]\n",
      " 5   Time        10019 non-null  object        \n",
      " 6   PdDistrict  10019 non-null  object        \n",
      " 7   Resolution  10019 non-null  object        \n",
      " 8   Address     10019 non-null  object        \n",
      " 9   X           10019 non-null  float64       \n",
      " 10  Y           10019 non-null  float64       \n",
      " 11  Location    10019 non-null  object        \n",
      " 12  PdId        10019 non-null  float64       \n",
      "dtypes: datetime64[ns](1), float64(4), object(8)\n",
      "memory usage: 14.9+ MB\n"
     ]
    }
   ],
   "source": [
    "df.info()"
   ]
  },
  {
   "cell_type": "code",
   "execution_count": 96,
   "metadata": {},
   "outputs": [
    {
     "data": {
      "text/plain": [
       "(10019, 13)"
      ]
     },
     "execution_count": 96,
     "metadata": {},
     "output_type": "execute_result"
    }
   ],
   "source": [
    "df.dropna(inplace=True)\n",
    "df.shape"
   ]
  },
  {
   "cell_type": "code",
   "execution_count": 97,
   "metadata": {},
   "outputs": [
    {
     "data": {
      "text/html": [
       "<div>\n",
       "<style scoped>\n",
       "    .dataframe tbody tr th:only-of-type {\n",
       "        vertical-align: middle;\n",
       "    }\n",
       "\n",
       "    .dataframe tbody tr th {\n",
       "        vertical-align: top;\n",
       "    }\n",
       "\n",
       "    .dataframe thead th {\n",
       "        text-align: right;\n",
       "    }\n",
       "</style>\n",
       "<table border=\"1\" class=\"dataframe\">\n",
       "  <thead>\n",
       "    <tr style=\"text-align: right;\">\n",
       "      <th></th>\n",
       "      <th>IncidntNum</th>\n",
       "      <th>Category</th>\n",
       "      <th>Descript</th>\n",
       "      <th>DayOfWeek</th>\n",
       "      <th>Date</th>\n",
       "      <th>Time</th>\n",
       "      <th>PdDistrict</th>\n",
       "      <th>Resolution</th>\n",
       "      <th>Address</th>\n",
       "      <th>X</th>\n",
       "      <th>Y</th>\n",
       "      <th>Location</th>\n",
       "      <th>PdId</th>\n",
       "    </tr>\n",
       "  </thead>\n",
       "  <tbody>\n",
       "    <tr>\n",
       "      <th>9554</th>\n",
       "      <td>160939676.0</td>\n",
       "      <td>ASSAULT</td>\n",
       "      <td>BATTERY</td>\n",
       "      <td>Monday</td>\n",
       "      <td>2016-11-14</td>\n",
       "      <td>09:20</td>\n",
       "      <td>NORTHERN</td>\n",
       "      <td>NONE</td>\n",
       "      <td>ELLIS ST / POLK ST</td>\n",
       "      <td>-122.419366</td>\n",
       "      <td>37.784028</td>\n",
       "      <td>(37.7840280452032, -122.419366294797)</td>\n",
       "      <td>1.609400e+13</td>\n",
       "    </tr>\n",
       "    <tr>\n",
       "      <th>9986</th>\n",
       "      <td>160895846.0</td>\n",
       "      <td>OTHER OFFENSES</td>\n",
       "      <td>FALSE PERSONATION</td>\n",
       "      <td>Monday</td>\n",
       "      <td>2016-10-31</td>\n",
       "      <td>10:00</td>\n",
       "      <td>MISSION</td>\n",
       "      <td>NONE</td>\n",
       "      <td>100 Block of CAPP ST</td>\n",
       "      <td>-122.418550</td>\n",
       "      <td>37.764284</td>\n",
       "      <td>(37.7642837095036, -122.418549940195)</td>\n",
       "      <td>1.608960e+13</td>\n",
       "    </tr>\n",
       "    <tr>\n",
       "      <th>9964</th>\n",
       "      <td>160893652.0</td>\n",
       "      <td>NON-CRIMINAL</td>\n",
       "      <td>CIVIL SIDEWALKS, WARNING</td>\n",
       "      <td>Wednesday</td>\n",
       "      <td>2016-11-02</td>\n",
       "      <td>18:02</td>\n",
       "      <td>MISSION</td>\n",
       "      <td>NONE</td>\n",
       "      <td>21ST ST / SHOTWELL ST</td>\n",
       "      <td>-122.415629</td>\n",
       "      <td>37.757232</td>\n",
       "      <td>(37.757232227914, -122.415629332446)</td>\n",
       "      <td>1.608940e+13</td>\n",
       "    </tr>\n",
       "    <tr>\n",
       "      <th>9963</th>\n",
       "      <td>160893464.0</td>\n",
       "      <td>WEAPON LAWS</td>\n",
       "      <td>CARRYING A CONCEALED WEAPON</td>\n",
       "      <td>Wednesday</td>\n",
       "      <td>2016-11-02</td>\n",
       "      <td>16:42</td>\n",
       "      <td>BAYVIEW</td>\n",
       "      <td>NONE</td>\n",
       "      <td>1100 Block of 18TH ST</td>\n",
       "      <td>-122.394108</td>\n",
       "      <td>37.762671</td>\n",
       "      <td>(37.7626705352496, -122.394108177688)</td>\n",
       "      <td>1.608930e+13</td>\n",
       "    </tr>\n",
       "    <tr>\n",
       "      <th>9962</th>\n",
       "      <td>160893395.0</td>\n",
       "      <td>ASSAULT</td>\n",
       "      <td>BATTERY</td>\n",
       "      <td>Wednesday</td>\n",
       "      <td>2016-11-02</td>\n",
       "      <td>16:15</td>\n",
       "      <td>TARAVAL</td>\n",
       "      <td>NONE</td>\n",
       "      <td>MONTEREY BL / NORTHGATE DR</td>\n",
       "      <td>-122.461737</td>\n",
       "      <td>37.730023</td>\n",
       "      <td>(37.7300233378439, -122.461736679015)</td>\n",
       "      <td>1.608930e+13</td>\n",
       "    </tr>\n",
       "    <tr>\n",
       "      <th>9953</th>\n",
       "      <td>160892842.0</td>\n",
       "      <td>SUSPICIOUS OCC</td>\n",
       "      <td>SUSPICIOUS OCCURRENCE</td>\n",
       "      <td>Wednesday</td>\n",
       "      <td>2016-11-02</td>\n",
       "      <td>10:00</td>\n",
       "      <td>MISSION</td>\n",
       "      <td>NONE</td>\n",
       "      <td>200 Block of 14TH ST</td>\n",
       "      <td>-122.418885</td>\n",
       "      <td>37.768285</td>\n",
       "      <td>(37.7682847825555, -122.418885184858)</td>\n",
       "      <td>1.608930e+13</td>\n",
       "    </tr>\n",
       "    <tr>\n",
       "      <th>9952</th>\n",
       "      <td>160892836.0</td>\n",
       "      <td>LARCENY/THEFT</td>\n",
       "      <td>PETTY THEFT FROM LOCKED AUTO</td>\n",
       "      <td>Tuesday</td>\n",
       "      <td>2016-10-18</td>\n",
       "      <td>10:00</td>\n",
       "      <td>CENTRAL</td>\n",
       "      <td>NONE</td>\n",
       "      <td>VALLEJO ST / MASON ST</td>\n",
       "      <td>-122.412099</td>\n",
       "      <td>37.798166</td>\n",
       "      <td>(37.7981663310688, -122.412098601225)</td>\n",
       "      <td>1.608930e+13</td>\n",
       "    </tr>\n",
       "    <tr>\n",
       "      <th>9951</th>\n",
       "      <td>160892820.0</td>\n",
       "      <td>ASSAULT</td>\n",
       "      <td>THREATS AGAINST LIFE</td>\n",
       "      <td>Wednesday</td>\n",
       "      <td>2016-11-02</td>\n",
       "      <td>11:45</td>\n",
       "      <td>PARK</td>\n",
       "      <td>NONE</td>\n",
       "      <td>STANYAN ST / WALLER ST</td>\n",
       "      <td>-122.453355</td>\n",
       "      <td>37.768246</td>\n",
       "      <td>(37.7682463076665, -122.453354647469)</td>\n",
       "      <td>1.608930e+13</td>\n",
       "    </tr>\n",
       "    <tr>\n",
       "      <th>9950</th>\n",
       "      <td>160892814.0</td>\n",
       "      <td>OTHER OFFENSES</td>\n",
       "      <td>DRIVERS LICENSE, SUSPENDED OR REVOKED</td>\n",
       "      <td>Wednesday</td>\n",
       "      <td>2016-11-02</td>\n",
       "      <td>12:10</td>\n",
       "      <td>BAYVIEW</td>\n",
       "      <td>ARREST, BOOKED</td>\n",
       "      <td>QUESADA AV / 3RD ST</td>\n",
       "      <td>-122.391246</td>\n",
       "      <td>37.733225</td>\n",
       "      <td>(37.7332252032804, -122.391245623019)</td>\n",
       "      <td>1.608930e+13</td>\n",
       "    </tr>\n",
       "    <tr>\n",
       "      <th>9945</th>\n",
       "      <td>160892591.0</td>\n",
       "      <td>ASSAULT</td>\n",
       "      <td>THREATS AGAINST LIFE</td>\n",
       "      <td>Wednesday</td>\n",
       "      <td>2016-11-02</td>\n",
       "      <td>10:19</td>\n",
       "      <td>BAYVIEW</td>\n",
       "      <td>NONE</td>\n",
       "      <td>0 Block of CASHMERE ST</td>\n",
       "      <td>-122.382705</td>\n",
       "      <td>37.735886</td>\n",
       "      <td>(37.7358858148594, -122.382705072801)</td>\n",
       "      <td>1.608930e+13</td>\n",
       "    </tr>\n",
       "    <tr>\n",
       "      <th>9944</th>\n",
       "      <td>160892585.0</td>\n",
       "      <td>VANDALISM</td>\n",
       "      <td>MALICIOUS MISCHIEF, VANDALISM OF VEHICLES</td>\n",
       "      <td>Wednesday</td>\n",
       "      <td>2016-11-02</td>\n",
       "      <td>10:38</td>\n",
       "      <td>NORTHERN</td>\n",
       "      <td>ARREST, BOOKED</td>\n",
       "      <td>100 Block of GROVE ST</td>\n",
       "      <td>-122.419064</td>\n",
       "      <td>37.778327</td>\n",
       "      <td>(37.7783268674219, -122.419063862505)</td>\n",
       "      <td>1.608930e+13</td>\n",
       "    </tr>\n",
       "    <tr>\n",
       "      <th>9933</th>\n",
       "      <td>160891662.0</td>\n",
       "      <td>ASSAULT</td>\n",
       "      <td>FALSE IMPRISONMENT</td>\n",
       "      <td>Tuesday</td>\n",
       "      <td>2016-11-01</td>\n",
       "      <td>22:30</td>\n",
       "      <td>INGLESIDE</td>\n",
       "      <td>ARREST, BOOKED</td>\n",
       "      <td>MISSION ST / OCEAN AV</td>\n",
       "      <td>-122.435385</td>\n",
       "      <td>37.723910</td>\n",
       "      <td>(37.7239104470753, -122.435385454946)</td>\n",
       "      <td>1.608920e+13</td>\n",
       "    </tr>\n",
       "    <tr>\n",
       "      <th>9860</th>\n",
       "      <td>160889786.0</td>\n",
       "      <td>BURGLARY</td>\n",
       "      <td>BURGLARY OF RESIDENCE, ATTEMPTED FORCIBLE ENTRY</td>\n",
       "      <td>Tuesday</td>\n",
       "      <td>2016-11-01</td>\n",
       "      <td>02:54</td>\n",
       "      <td>MISSION</td>\n",
       "      <td>NONE</td>\n",
       "      <td>4000 Block of 19TH ST</td>\n",
       "      <td>-122.433209</td>\n",
       "      <td>37.759334</td>\n",
       "      <td>(37.7593336636293, -122.433208516014)</td>\n",
       "      <td>1.608900e+13</td>\n",
       "    </tr>\n",
       "    <tr>\n",
       "      <th>9859</th>\n",
       "      <td>160889764.0</td>\n",
       "      <td>OTHER OFFENSES</td>\n",
       "      <td>LOST/STOLEN LICENSE PLATE</td>\n",
       "      <td>Monday</td>\n",
       "      <td>2016-10-31</td>\n",
       "      <td>17:30</td>\n",
       "      <td>MISSION</td>\n",
       "      <td>NONE</td>\n",
       "      <td>SOUTH VAN NESS AV / 26TH ST</td>\n",
       "      <td>-122.415954</td>\n",
       "      <td>37.749173</td>\n",
       "      <td>(37.7491729638325, -122.415954301518)</td>\n",
       "      <td>1.608900e+13</td>\n",
       "    </tr>\n",
       "    <tr>\n",
       "      <th>9858</th>\n",
       "      <td>160889742.0</td>\n",
       "      <td>OTHER OFFENSES</td>\n",
       "      <td>FALSE PERSONATION AND CHEAT CRIMES (GENERAL)</td>\n",
       "      <td>Monday</td>\n",
       "      <td>2016-10-03</td>\n",
       "      <td>08:00</td>\n",
       "      <td>TARAVAL</td>\n",
       "      <td>NONE</td>\n",
       "      <td>2000 Block of GREAT HY</td>\n",
       "      <td>-122.507747</td>\n",
       "      <td>37.748168</td>\n",
       "      <td>(37.7481676180147, -122.507747058887)</td>\n",
       "      <td>1.608900e+13</td>\n",
       "    </tr>\n",
       "    <tr>\n",
       "      <th>9857</th>\n",
       "      <td>160889736.0</td>\n",
       "      <td>WARRANTS</td>\n",
       "      <td>ENROUTE TO OUTSIDE JURISDICTION</td>\n",
       "      <td>Tuesday</td>\n",
       "      <td>2016-11-01</td>\n",
       "      <td>10:43</td>\n",
       "      <td>SOUTHERN</td>\n",
       "      <td>ARREST, BOOKED</td>\n",
       "      <td>800 Block of BRYANT ST</td>\n",
       "      <td>-122.403405</td>\n",
       "      <td>37.775421</td>\n",
       "      <td>(37.775420706711, -122.403404791479)</td>\n",
       "      <td>1.608900e+13</td>\n",
       "    </tr>\n",
       "    <tr>\n",
       "      <th>9826</th>\n",
       "      <td>160887677.0</td>\n",
       "      <td>ASSAULT</td>\n",
       "      <td>BATTERY</td>\n",
       "      <td>Monday</td>\n",
       "      <td>2016-10-31</td>\n",
       "      <td>16:48</td>\n",
       "      <td>TENDERLOIN</td>\n",
       "      <td>NONE</td>\n",
       "      <td>100 Block of HYDE ST</td>\n",
       "      <td>-122.415670</td>\n",
       "      <td>37.782120</td>\n",
       "      <td>(37.7821198488931, -122.415669661443)</td>\n",
       "      <td>1.608880e+13</td>\n",
       "    </tr>\n",
       "    <tr>\n",
       "      <th>9727</th>\n",
       "      <td>160884689.0</td>\n",
       "      <td>VEHICLE THEFT</td>\n",
       "      <td>STOLEN TRUCK</td>\n",
       "      <td>Sunday</td>\n",
       "      <td>2016-10-30</td>\n",
       "      <td>13:20</td>\n",
       "      <td>INGLESIDE</td>\n",
       "      <td>NONE</td>\n",
       "      <td>100 Block of OCEAN AV</td>\n",
       "      <td>-122.439345</td>\n",
       "      <td>37.723624</td>\n",
       "      <td>(37.723624467748, -122.43934468789)</td>\n",
       "      <td>1.608850e+13</td>\n",
       "    </tr>\n",
       "    <tr>\n",
       "      <th>9715</th>\n",
       "      <td>160883766.0</td>\n",
       "      <td>WEAPON LAWS</td>\n",
       "      <td>EXHIBITING DEADLY WEAPON IN A THREATING MANNER</td>\n",
       "      <td>Sunday</td>\n",
       "      <td>2016-10-30</td>\n",
       "      <td>11:17</td>\n",
       "      <td>BAYVIEW</td>\n",
       "      <td>ARREST, BOOKED</td>\n",
       "      <td>3800 Block of 3RD ST</td>\n",
       "      <td>-122.387940</td>\n",
       "      <td>37.742260</td>\n",
       "      <td>(37.7422600519555, -122.387939452192)</td>\n",
       "      <td>1.608840e+13</td>\n",
       "    </tr>\n",
       "    <tr>\n",
       "      <th>9714</th>\n",
       "      <td>160883750.0</td>\n",
       "      <td>BURGLARY</td>\n",
       "      <td>BURGLARY OF STORE, FORCIBLE ENTRY</td>\n",
       "      <td>Saturday</td>\n",
       "      <td>2016-10-29</td>\n",
       "      <td>19:00</td>\n",
       "      <td>CENTRAL</td>\n",
       "      <td>NONE</td>\n",
       "      <td>200 Block of GRANT AV</td>\n",
       "      <td>-122.405185</td>\n",
       "      <td>37.788876</td>\n",
       "      <td>(37.7888762183538, -122.405184569667)</td>\n",
       "      <td>1.608840e+13</td>\n",
       "    </tr>\n",
       "    <tr>\n",
       "      <th>9711</th>\n",
       "      <td>160883255.0</td>\n",
       "      <td>LARCENY/THEFT</td>\n",
       "      <td>GRAND THEFT FROM LOCKED AUTO</td>\n",
       "      <td>Saturday</td>\n",
       "      <td>2016-10-29</td>\n",
       "      <td>21:50</td>\n",
       "      <td>SOUTHERN</td>\n",
       "      <td>NONE</td>\n",
       "      <td>600 Block of MINNA ST</td>\n",
       "      <td>-122.411206</td>\n",
       "      <td>37.778224</td>\n",
       "      <td>(37.7782244806331, -122.411205728723)</td>\n",
       "      <td>1.608830e+13</td>\n",
       "    </tr>\n",
       "    <tr>\n",
       "      <th>9710</th>\n",
       "      <td>160883249.0</td>\n",
       "      <td>VANDALISM</td>\n",
       "      <td>MALICIOUS MISCHIEF, VANDALISM OF VEHICLES</td>\n",
       "      <td>Sunday</td>\n",
       "      <td>2016-10-30</td>\n",
       "      <td>03:08</td>\n",
       "      <td>CENTRAL</td>\n",
       "      <td>ARREST, BOOKED</td>\n",
       "      <td>0 Block of BROADWAY ST</td>\n",
       "      <td>-122.399296</td>\n",
       "      <td>37.798859</td>\n",
       "      <td>(37.798859198392, -122.399295690795)</td>\n",
       "      <td>1.608830e+13</td>\n",
       "    </tr>\n",
       "    <tr>\n",
       "      <th>9644</th>\n",
       "      <td>160880427.0</td>\n",
       "      <td>OTHER OFFENSES</td>\n",
       "      <td>RESISTING ARREST</td>\n",
       "      <td>Saturday</td>\n",
       "      <td>2016-10-29</td>\n",
       "      <td>06:20</td>\n",
       "      <td>MISSION</td>\n",
       "      <td>ARREST, BOOKED</td>\n",
       "      <td>20TH ST / DOLORES ST</td>\n",
       "      <td>-122.425768</td>\n",
       "      <td>37.758226</td>\n",
       "      <td>(37.7582261992584, -122.425768246873)</td>\n",
       "      <td>1.608800e+13</td>\n",
       "    </tr>\n",
       "    <tr>\n",
       "      <th>9645</th>\n",
       "      <td>160880427.0</td>\n",
       "      <td>VANDALISM</td>\n",
       "      <td>MALICIOUS MISCHIEF, GRAFFITI</td>\n",
       "      <td>Saturday</td>\n",
       "      <td>2016-10-29</td>\n",
       "      <td>06:20</td>\n",
       "      <td>MISSION</td>\n",
       "      <td>ARREST, BOOKED</td>\n",
       "      <td>20TH ST / DOLORES ST</td>\n",
       "      <td>-122.425768</td>\n",
       "      <td>37.758226</td>\n",
       "      <td>(37.7582261992584, -122.425768246873)</td>\n",
       "      <td>1.608800e+13</td>\n",
       "    </tr>\n",
       "    <tr>\n",
       "      <th>9611</th>\n",
       "      <td>160877424.0</td>\n",
       "      <td>VANDALISM</td>\n",
       "      <td>MALICIOUS MISCHIEF, VANDALISM OF VEHICLES</td>\n",
       "      <td>Friday</td>\n",
       "      <td>2016-10-28</td>\n",
       "      <td>05:30</td>\n",
       "      <td>NORTHERN</td>\n",
       "      <td>NONE</td>\n",
       "      <td>0 Block of DANIELBURNHAM CT</td>\n",
       "      <td>-122.422541</td>\n",
       "      <td>37.786909</td>\n",
       "      <td>(37.7869088658022, -122.422540554174)</td>\n",
       "      <td>1.608770e+13</td>\n",
       "    </tr>\n",
       "    <tr>\n",
       "      <th>9603</th>\n",
       "      <td>160876642.0</td>\n",
       "      <td>ASSAULT</td>\n",
       "      <td>BATTERY</td>\n",
       "      <td>Thursday</td>\n",
       "      <td>2016-10-27</td>\n",
       "      <td>20:55</td>\n",
       "      <td>MISSION</td>\n",
       "      <td>ARREST, BOOKED</td>\n",
       "      <td>2000 Block of MISSION ST</td>\n",
       "      <td>-122.419658</td>\n",
       "      <td>37.764221</td>\n",
       "      <td>(37.7642205603745, -122.41965834371)</td>\n",
       "      <td>1.608770e+13</td>\n",
       "    </tr>\n",
       "    <tr>\n",
       "      <th>9602</th>\n",
       "      <td>160876006.0</td>\n",
       "      <td>ASSAULT</td>\n",
       "      <td>ELDER ADULT OR DEPENDENT ABUSE (NOT EMBEZZLEME...</td>\n",
       "      <td>Monday</td>\n",
       "      <td>2016-10-24</td>\n",
       "      <td>10:00</td>\n",
       "      <td>INGLESIDE</td>\n",
       "      <td>ARREST, BOOKED</td>\n",
       "      <td>0 Block of SOUTHHILL BL</td>\n",
       "      <td>-122.432639</td>\n",
       "      <td>37.712453</td>\n",
       "      <td>(37.7124534320617, -122.43263862183)</td>\n",
       "      <td>1.608760e+13</td>\n",
       "    </tr>\n",
       "    <tr>\n",
       "      <th>9601</th>\n",
       "      <td>160876006.0</td>\n",
       "      <td>ASSAULT</td>\n",
       "      <td>AGGRAVATED ASSAULT WITH BODILY FORCE</td>\n",
       "      <td>Monday</td>\n",
       "      <td>2016-10-24</td>\n",
       "      <td>10:00</td>\n",
       "      <td>INGLESIDE</td>\n",
       "      <td>ARREST, BOOKED</td>\n",
       "      <td>0 Block of SOUTHHILL BL</td>\n",
       "      <td>-122.432639</td>\n",
       "      <td>37.712453</td>\n",
       "      <td>(37.7124534320617, -122.43263862183)</td>\n",
       "      <td>1.608760e+13</td>\n",
       "    </tr>\n",
       "    <tr>\n",
       "      <th>9932</th>\n",
       "      <td>160875876.0</td>\n",
       "      <td>NON-CRIMINAL</td>\n",
       "      <td>COURTESY REPORT</td>\n",
       "      <td>Thursday</td>\n",
       "      <td>2016-10-27</td>\n",
       "      <td>16:00</td>\n",
       "      <td>SOUTHERN</td>\n",
       "      <td>NONE</td>\n",
       "      <td>HOWARD ST / 11TH ST</td>\n",
       "      <td>-122.415565</td>\n",
       "      <td>37.773099</td>\n",
       "      <td>(37.773099482048, -122.415564465695)</td>\n",
       "      <td>1.608760e+13</td>\n",
       "    </tr>\n",
       "    <tr>\n",
       "      <th>9598</th>\n",
       "      <td>160875008.0</td>\n",
       "      <td>NON-CRIMINAL</td>\n",
       "      <td>AIDED CASE, MENTAL DISTURBED</td>\n",
       "      <td>Thursday</td>\n",
       "      <td>2016-10-27</td>\n",
       "      <td>11:15</td>\n",
       "      <td>PARK</td>\n",
       "      <td>NONE</td>\n",
       "      <td>800 Block of BUENAVISTAWEST AV</td>\n",
       "      <td>-122.442598</td>\n",
       "      <td>37.769312</td>\n",
       "      <td>(37.7693116425317, -122.442597549743)</td>\n",
       "      <td>1.608750e+13</td>\n",
       "    </tr>\n",
       "  </tbody>\n",
       "</table>\n",
       "</div>"
      ],
      "text/plain": [
       "       IncidntNum        Category  \\\n",
       "9554  160939676.0         ASSAULT   \n",
       "9986  160895846.0  OTHER OFFENSES   \n",
       "9964  160893652.0    NON-CRIMINAL   \n",
       "9963  160893464.0     WEAPON LAWS   \n",
       "9962  160893395.0         ASSAULT   \n",
       "9953  160892842.0  SUSPICIOUS OCC   \n",
       "9952  160892836.0   LARCENY/THEFT   \n",
       "9951  160892820.0         ASSAULT   \n",
       "9950  160892814.0  OTHER OFFENSES   \n",
       "9945  160892591.0         ASSAULT   \n",
       "9944  160892585.0       VANDALISM   \n",
       "9933  160891662.0         ASSAULT   \n",
       "9860  160889786.0        BURGLARY   \n",
       "9859  160889764.0  OTHER OFFENSES   \n",
       "9858  160889742.0  OTHER OFFENSES   \n",
       "9857  160889736.0        WARRANTS   \n",
       "9826  160887677.0         ASSAULT   \n",
       "9727  160884689.0   VEHICLE THEFT   \n",
       "9715  160883766.0     WEAPON LAWS   \n",
       "9714  160883750.0        BURGLARY   \n",
       "9711  160883255.0   LARCENY/THEFT   \n",
       "9710  160883249.0       VANDALISM   \n",
       "9644  160880427.0  OTHER OFFENSES   \n",
       "9645  160880427.0       VANDALISM   \n",
       "9611  160877424.0       VANDALISM   \n",
       "9603  160876642.0         ASSAULT   \n",
       "9602  160876006.0         ASSAULT   \n",
       "9601  160876006.0         ASSAULT   \n",
       "9932  160875876.0    NON-CRIMINAL   \n",
       "9598  160875008.0    NON-CRIMINAL   \n",
       "\n",
       "                                               Descript  DayOfWeek       Date  \\\n",
       "9554                                            BATTERY     Monday 2016-11-14   \n",
       "9986                                  FALSE PERSONATION     Monday 2016-10-31   \n",
       "9964                           CIVIL SIDEWALKS, WARNING  Wednesday 2016-11-02   \n",
       "9963                        CARRYING A CONCEALED WEAPON  Wednesday 2016-11-02   \n",
       "9962                                            BATTERY  Wednesday 2016-11-02   \n",
       "9953                              SUSPICIOUS OCCURRENCE  Wednesday 2016-11-02   \n",
       "9952                       PETTY THEFT FROM LOCKED AUTO    Tuesday 2016-10-18   \n",
       "9951                               THREATS AGAINST LIFE  Wednesday 2016-11-02   \n",
       "9950              DRIVERS LICENSE, SUSPENDED OR REVOKED  Wednesday 2016-11-02   \n",
       "9945                               THREATS AGAINST LIFE  Wednesday 2016-11-02   \n",
       "9944          MALICIOUS MISCHIEF, VANDALISM OF VEHICLES  Wednesday 2016-11-02   \n",
       "9933                                 FALSE IMPRISONMENT    Tuesday 2016-11-01   \n",
       "9860    BURGLARY OF RESIDENCE, ATTEMPTED FORCIBLE ENTRY    Tuesday 2016-11-01   \n",
       "9859                          LOST/STOLEN LICENSE PLATE     Monday 2016-10-31   \n",
       "9858       FALSE PERSONATION AND CHEAT CRIMES (GENERAL)     Monday 2016-10-03   \n",
       "9857                    ENROUTE TO OUTSIDE JURISDICTION    Tuesday 2016-11-01   \n",
       "9826                                            BATTERY     Monday 2016-10-31   \n",
       "9727                                       STOLEN TRUCK     Sunday 2016-10-30   \n",
       "9715     EXHIBITING DEADLY WEAPON IN A THREATING MANNER     Sunday 2016-10-30   \n",
       "9714                  BURGLARY OF STORE, FORCIBLE ENTRY   Saturday 2016-10-29   \n",
       "9711                       GRAND THEFT FROM LOCKED AUTO   Saturday 2016-10-29   \n",
       "9710          MALICIOUS MISCHIEF, VANDALISM OF VEHICLES     Sunday 2016-10-30   \n",
       "9644                                   RESISTING ARREST   Saturday 2016-10-29   \n",
       "9645                       MALICIOUS MISCHIEF, GRAFFITI   Saturday 2016-10-29   \n",
       "9611          MALICIOUS MISCHIEF, VANDALISM OF VEHICLES     Friday 2016-10-28   \n",
       "9603                                            BATTERY   Thursday 2016-10-27   \n",
       "9602  ELDER ADULT OR DEPENDENT ABUSE (NOT EMBEZZLEME...     Monday 2016-10-24   \n",
       "9601               AGGRAVATED ASSAULT WITH BODILY FORCE     Monday 2016-10-24   \n",
       "9932                                    COURTESY REPORT   Thursday 2016-10-27   \n",
       "9598                       AIDED CASE, MENTAL DISTURBED   Thursday 2016-10-27   \n",
       "\n",
       "       Time  PdDistrict      Resolution                         Address  \\\n",
       "9554  09:20    NORTHERN            NONE              ELLIS ST / POLK ST   \n",
       "9986  10:00     MISSION            NONE            100 Block of CAPP ST   \n",
       "9964  18:02     MISSION            NONE           21ST ST / SHOTWELL ST   \n",
       "9963  16:42     BAYVIEW            NONE           1100 Block of 18TH ST   \n",
       "9962  16:15     TARAVAL            NONE      MONTEREY BL / NORTHGATE DR   \n",
       "9953  10:00     MISSION            NONE            200 Block of 14TH ST   \n",
       "9952  10:00     CENTRAL            NONE           VALLEJO ST / MASON ST   \n",
       "9951  11:45        PARK            NONE          STANYAN ST / WALLER ST   \n",
       "9950  12:10     BAYVIEW  ARREST, BOOKED             QUESADA AV / 3RD ST   \n",
       "9945  10:19     BAYVIEW            NONE          0 Block of CASHMERE ST   \n",
       "9944  10:38    NORTHERN  ARREST, BOOKED           100 Block of GROVE ST   \n",
       "9933  22:30   INGLESIDE  ARREST, BOOKED           MISSION ST / OCEAN AV   \n",
       "9860  02:54     MISSION            NONE           4000 Block of 19TH ST   \n",
       "9859  17:30     MISSION            NONE     SOUTH VAN NESS AV / 26TH ST   \n",
       "9858  08:00     TARAVAL            NONE          2000 Block of GREAT HY   \n",
       "9857  10:43    SOUTHERN  ARREST, BOOKED          800 Block of BRYANT ST   \n",
       "9826  16:48  TENDERLOIN            NONE            100 Block of HYDE ST   \n",
       "9727  13:20   INGLESIDE            NONE           100 Block of OCEAN AV   \n",
       "9715  11:17     BAYVIEW  ARREST, BOOKED            3800 Block of 3RD ST   \n",
       "9714  19:00     CENTRAL            NONE           200 Block of GRANT AV   \n",
       "9711  21:50    SOUTHERN            NONE           600 Block of MINNA ST   \n",
       "9710  03:08     CENTRAL  ARREST, BOOKED          0 Block of BROADWAY ST   \n",
       "9644  06:20     MISSION  ARREST, BOOKED            20TH ST / DOLORES ST   \n",
       "9645  06:20     MISSION  ARREST, BOOKED            20TH ST / DOLORES ST   \n",
       "9611  05:30    NORTHERN            NONE     0 Block of DANIELBURNHAM CT   \n",
       "9603  20:55     MISSION  ARREST, BOOKED        2000 Block of MISSION ST   \n",
       "9602  10:00   INGLESIDE  ARREST, BOOKED         0 Block of SOUTHHILL BL   \n",
       "9601  10:00   INGLESIDE  ARREST, BOOKED         0 Block of SOUTHHILL BL   \n",
       "9932  16:00    SOUTHERN            NONE             HOWARD ST / 11TH ST   \n",
       "9598  11:15        PARK            NONE  800 Block of BUENAVISTAWEST AV   \n",
       "\n",
       "               X          Y                               Location  \\\n",
       "9554 -122.419366  37.784028  (37.7840280452032, -122.419366294797)   \n",
       "9986 -122.418550  37.764284  (37.7642837095036, -122.418549940195)   \n",
       "9964 -122.415629  37.757232   (37.757232227914, -122.415629332446)   \n",
       "9963 -122.394108  37.762671  (37.7626705352496, -122.394108177688)   \n",
       "9962 -122.461737  37.730023  (37.7300233378439, -122.461736679015)   \n",
       "9953 -122.418885  37.768285  (37.7682847825555, -122.418885184858)   \n",
       "9952 -122.412099  37.798166  (37.7981663310688, -122.412098601225)   \n",
       "9951 -122.453355  37.768246  (37.7682463076665, -122.453354647469)   \n",
       "9950 -122.391246  37.733225  (37.7332252032804, -122.391245623019)   \n",
       "9945 -122.382705  37.735886  (37.7358858148594, -122.382705072801)   \n",
       "9944 -122.419064  37.778327  (37.7783268674219, -122.419063862505)   \n",
       "9933 -122.435385  37.723910  (37.7239104470753, -122.435385454946)   \n",
       "9860 -122.433209  37.759334  (37.7593336636293, -122.433208516014)   \n",
       "9859 -122.415954  37.749173  (37.7491729638325, -122.415954301518)   \n",
       "9858 -122.507747  37.748168  (37.7481676180147, -122.507747058887)   \n",
       "9857 -122.403405  37.775421   (37.775420706711, -122.403404791479)   \n",
       "9826 -122.415670  37.782120  (37.7821198488931, -122.415669661443)   \n",
       "9727 -122.439345  37.723624    (37.723624467748, -122.43934468789)   \n",
       "9715 -122.387940  37.742260  (37.7422600519555, -122.387939452192)   \n",
       "9714 -122.405185  37.788876  (37.7888762183538, -122.405184569667)   \n",
       "9711 -122.411206  37.778224  (37.7782244806331, -122.411205728723)   \n",
       "9710 -122.399296  37.798859   (37.798859198392, -122.399295690795)   \n",
       "9644 -122.425768  37.758226  (37.7582261992584, -122.425768246873)   \n",
       "9645 -122.425768  37.758226  (37.7582261992584, -122.425768246873)   \n",
       "9611 -122.422541  37.786909  (37.7869088658022, -122.422540554174)   \n",
       "9603 -122.419658  37.764221   (37.7642205603745, -122.41965834371)   \n",
       "9602 -122.432639  37.712453   (37.7124534320617, -122.43263862183)   \n",
       "9601 -122.432639  37.712453   (37.7124534320617, -122.43263862183)   \n",
       "9932 -122.415565  37.773099   (37.773099482048, -122.415564465695)   \n",
       "9598 -122.442598  37.769312  (37.7693116425317, -122.442597549743)   \n",
       "\n",
       "              PdId  \n",
       "9554  1.609400e+13  \n",
       "9986  1.608960e+13  \n",
       "9964  1.608940e+13  \n",
       "9963  1.608930e+13  \n",
       "9962  1.608930e+13  \n",
       "9953  1.608930e+13  \n",
       "9952  1.608930e+13  \n",
       "9951  1.608930e+13  \n",
       "9950  1.608930e+13  \n",
       "9945  1.608930e+13  \n",
       "9944  1.608930e+13  \n",
       "9933  1.608920e+13  \n",
       "9860  1.608900e+13  \n",
       "9859  1.608900e+13  \n",
       "9858  1.608900e+13  \n",
       "9857  1.608900e+13  \n",
       "9826  1.608880e+13  \n",
       "9727  1.608850e+13  \n",
       "9715  1.608840e+13  \n",
       "9714  1.608840e+13  \n",
       "9711  1.608830e+13  \n",
       "9710  1.608830e+13  \n",
       "9644  1.608800e+13  \n",
       "9645  1.608800e+13  \n",
       "9611  1.608770e+13  \n",
       "9603  1.608770e+13  \n",
       "9602  1.608760e+13  \n",
       "9601  1.608760e+13  \n",
       "9932  1.608760e+13  \n",
       "9598  1.608750e+13  "
      ]
     },
     "execution_count": 97,
     "metadata": {},
     "output_type": "execute_result"
    }
   ],
   "source": [
    "df.sort_values(by=['IncidntNum'], ascending=False,inplace=True)\n",
    "df.head(30)"
   ]
  },
  {
   "cell_type": "code",
   "execution_count": 98,
   "metadata": {},
   "outputs": [
    {
     "data": {
      "text/html": [
       "<div>\n",
       "<style scoped>\n",
       "    .dataframe tbody tr th:only-of-type {\n",
       "        vertical-align: middle;\n",
       "    }\n",
       "\n",
       "    .dataframe tbody tr th {\n",
       "        vertical-align: top;\n",
       "    }\n",
       "\n",
       "    .dataframe thead th {\n",
       "        text-align: right;\n",
       "    }\n",
       "</style>\n",
       "<table border=\"1\" class=\"dataframe\">\n",
       "  <thead>\n",
       "    <tr style=\"text-align: right;\">\n",
       "      <th></th>\n",
       "      <th>IncidntNum</th>\n",
       "      <th>Category</th>\n",
       "      <th>Descript</th>\n",
       "      <th>DayOfWeek</th>\n",
       "      <th>Date</th>\n",
       "      <th>Time</th>\n",
       "      <th>PdDistrict</th>\n",
       "      <th>Resolution</th>\n",
       "      <th>Address</th>\n",
       "      <th>X</th>\n",
       "      <th>Y</th>\n",
       "      <th>Location</th>\n",
       "      <th>PdId</th>\n",
       "    </tr>\n",
       "  </thead>\n",
       "  <tbody>\n",
       "    <tr>\n",
       "      <th>2467</th>\n",
       "      <td>150273337.0</td>\n",
       "      <td>WARRANTS</td>\n",
       "      <td>WARRANT ARREST</td>\n",
       "      <td>Wednesday</td>\n",
       "      <td>2016-12-21</td>\n",
       "      <td>18:17</td>\n",
       "      <td>TENDERLOIN</td>\n",
       "      <td>ARREST, BOOKED</td>\n",
       "      <td>300 Block of JONES ST</td>\n",
       "      <td>-122.412759</td>\n",
       "      <td>37.784400</td>\n",
       "      <td>(37.7843997500192, -122.412758846145)</td>\n",
       "      <td>1.502730e+13</td>\n",
       "    </tr>\n",
       "    <tr>\n",
       "      <th>115</th>\n",
       "      <td>150480366.0</td>\n",
       "      <td>VEHICLE THEFT</td>\n",
       "      <td>STOLEN AND RECOVERED VEHICLE</td>\n",
       "      <td>Thursday</td>\n",
       "      <td>2016-12-08</td>\n",
       "      <td>15:00</td>\n",
       "      <td>NORTHERN</td>\n",
       "      <td>ARREST, BOOKED</td>\n",
       "      <td>PINE ST / POLK ST</td>\n",
       "      <td>-122.420497</td>\n",
       "      <td>37.789619</td>\n",
       "      <td>(37.789618819255, -122.42049728879)</td>\n",
       "      <td>1.504800e+13</td>\n",
       "    </tr>\n",
       "    <tr>\n",
       "      <th>116</th>\n",
       "      <td>150480366.0</td>\n",
       "      <td>DRUNKENNESS</td>\n",
       "      <td>UNDER INFLUENCE OF ALCOHOL IN A PUBLIC PLACE</td>\n",
       "      <td>Thursday</td>\n",
       "      <td>2016-12-08</td>\n",
       "      <td>15:00</td>\n",
       "      <td>NORTHERN</td>\n",
       "      <td>ARREST, BOOKED</td>\n",
       "      <td>PINE ST / POLK ST</td>\n",
       "      <td>-122.420497</td>\n",
       "      <td>37.789619</td>\n",
       "      <td>(37.789618819255, -122.42049728879)</td>\n",
       "      <td>1.504800e+13</td>\n",
       "    </tr>\n",
       "    <tr>\n",
       "      <th>117</th>\n",
       "      <td>150480366.0</td>\n",
       "      <td>VANDALISM</td>\n",
       "      <td>MALICIOUS MISCHIEF, VANDALISM</td>\n",
       "      <td>Thursday</td>\n",
       "      <td>2016-12-08</td>\n",
       "      <td>15:00</td>\n",
       "      <td>NORTHERN</td>\n",
       "      <td>ARREST, BOOKED</td>\n",
       "      <td>PINE ST / POLK ST</td>\n",
       "      <td>-122.420497</td>\n",
       "      <td>37.789619</td>\n",
       "      <td>(37.789618819255, -122.42049728879)</td>\n",
       "      <td>1.504800e+13</td>\n",
       "    </tr>\n",
       "    <tr>\n",
       "      <th>118</th>\n",
       "      <td>150480366.0</td>\n",
       "      <td>VANDALISM</td>\n",
       "      <td>MALICIOUS MISCHIEF, VANDALISM OF VEHICLES</td>\n",
       "      <td>Thursday</td>\n",
       "      <td>2016-12-08</td>\n",
       "      <td>15:00</td>\n",
       "      <td>NORTHERN</td>\n",
       "      <td>ARREST, BOOKED</td>\n",
       "      <td>PINE ST / POLK ST</td>\n",
       "      <td>-122.420497</td>\n",
       "      <td>37.789619</td>\n",
       "      <td>(37.789618819255, -122.42049728879)</td>\n",
       "      <td>1.504800e+13</td>\n",
       "    </tr>\n",
       "    <tr>\n",
       "      <th>5332</th>\n",
       "      <td>160220970.0</td>\n",
       "      <td>FRAUD</td>\n",
       "      <td>CREDIT CARD, THEFT BY USE OF</td>\n",
       "      <td>Friday</td>\n",
       "      <td>2016-11-18</td>\n",
       "      <td>12:00</td>\n",
       "      <td>BAYVIEW</td>\n",
       "      <td>NONE</td>\n",
       "      <td>1200 Block of DEHARO ST</td>\n",
       "      <td>-122.400632</td>\n",
       "      <td>37.753965</td>\n",
       "      <td>(37.7539653995399, -122.4006319548)</td>\n",
       "      <td>1.602210e+13</td>\n",
       "    </tr>\n",
       "    <tr>\n",
       "      <th>9554</th>\n",
       "      <td>160939676.0</td>\n",
       "      <td>ASSAULT</td>\n",
       "      <td>BATTERY</td>\n",
       "      <td>Monday</td>\n",
       "      <td>2016-11-14</td>\n",
       "      <td>09:20</td>\n",
       "      <td>NORTHERN</td>\n",
       "      <td>NONE</td>\n",
       "      <td>ELLIS ST / POLK ST</td>\n",
       "      <td>-122.419366</td>\n",
       "      <td>37.784028</td>\n",
       "      <td>(37.7840280452032, -122.419366294797)</td>\n",
       "      <td>1.609400e+13</td>\n",
       "    </tr>\n",
       "    <tr>\n",
       "      <th>9964</th>\n",
       "      <td>160893652.0</td>\n",
       "      <td>NON-CRIMINAL</td>\n",
       "      <td>CIVIL SIDEWALKS, WARNING</td>\n",
       "      <td>Wednesday</td>\n",
       "      <td>2016-11-02</td>\n",
       "      <td>18:02</td>\n",
       "      <td>MISSION</td>\n",
       "      <td>NONE</td>\n",
       "      <td>21ST ST / SHOTWELL ST</td>\n",
       "      <td>-122.415629</td>\n",
       "      <td>37.757232</td>\n",
       "      <td>(37.757232227914, -122.415629332446)</td>\n",
       "      <td>1.608940e+13</td>\n",
       "    </tr>\n",
       "    <tr>\n",
       "      <th>9963</th>\n",
       "      <td>160893464.0</td>\n",
       "      <td>WEAPON LAWS</td>\n",
       "      <td>CARRYING A CONCEALED WEAPON</td>\n",
       "      <td>Wednesday</td>\n",
       "      <td>2016-11-02</td>\n",
       "      <td>16:42</td>\n",
       "      <td>BAYVIEW</td>\n",
       "      <td>NONE</td>\n",
       "      <td>1100 Block of 18TH ST</td>\n",
       "      <td>-122.394108</td>\n",
       "      <td>37.762671</td>\n",
       "      <td>(37.7626705352496, -122.394108177688)</td>\n",
       "      <td>1.608930e+13</td>\n",
       "    </tr>\n",
       "    <tr>\n",
       "      <th>9962</th>\n",
       "      <td>160893395.0</td>\n",
       "      <td>ASSAULT</td>\n",
       "      <td>BATTERY</td>\n",
       "      <td>Wednesday</td>\n",
       "      <td>2016-11-02</td>\n",
       "      <td>16:15</td>\n",
       "      <td>TARAVAL</td>\n",
       "      <td>NONE</td>\n",
       "      <td>MONTEREY BL / NORTHGATE DR</td>\n",
       "      <td>-122.461737</td>\n",
       "      <td>37.730023</td>\n",
       "      <td>(37.7300233378439, -122.461736679015)</td>\n",
       "      <td>1.608930e+13</td>\n",
       "    </tr>\n",
       "    <tr>\n",
       "      <th>9953</th>\n",
       "      <td>160892842.0</td>\n",
       "      <td>SUSPICIOUS OCC</td>\n",
       "      <td>SUSPICIOUS OCCURRENCE</td>\n",
       "      <td>Wednesday</td>\n",
       "      <td>2016-11-02</td>\n",
       "      <td>10:00</td>\n",
       "      <td>MISSION</td>\n",
       "      <td>NONE</td>\n",
       "      <td>200 Block of 14TH ST</td>\n",
       "      <td>-122.418885</td>\n",
       "      <td>37.768285</td>\n",
       "      <td>(37.7682847825555, -122.418885184858)</td>\n",
       "      <td>1.608930e+13</td>\n",
       "    </tr>\n",
       "    <tr>\n",
       "      <th>9951</th>\n",
       "      <td>160892820.0</td>\n",
       "      <td>ASSAULT</td>\n",
       "      <td>THREATS AGAINST LIFE</td>\n",
       "      <td>Wednesday</td>\n",
       "      <td>2016-11-02</td>\n",
       "      <td>11:45</td>\n",
       "      <td>PARK</td>\n",
       "      <td>NONE</td>\n",
       "      <td>STANYAN ST / WALLER ST</td>\n",
       "      <td>-122.453355</td>\n",
       "      <td>37.768246</td>\n",
       "      <td>(37.7682463076665, -122.453354647469)</td>\n",
       "      <td>1.608930e+13</td>\n",
       "    </tr>\n",
       "    <tr>\n",
       "      <th>9950</th>\n",
       "      <td>160892814.0</td>\n",
       "      <td>OTHER OFFENSES</td>\n",
       "      <td>DRIVERS LICENSE, SUSPENDED OR REVOKED</td>\n",
       "      <td>Wednesday</td>\n",
       "      <td>2016-11-02</td>\n",
       "      <td>12:10</td>\n",
       "      <td>BAYVIEW</td>\n",
       "      <td>ARREST, BOOKED</td>\n",
       "      <td>QUESADA AV / 3RD ST</td>\n",
       "      <td>-122.391246</td>\n",
       "      <td>37.733225</td>\n",
       "      <td>(37.7332252032804, -122.391245623019)</td>\n",
       "      <td>1.608930e+13</td>\n",
       "    </tr>\n",
       "    <tr>\n",
       "      <th>9945</th>\n",
       "      <td>160892591.0</td>\n",
       "      <td>ASSAULT</td>\n",
       "      <td>THREATS AGAINST LIFE</td>\n",
       "      <td>Wednesday</td>\n",
       "      <td>2016-11-02</td>\n",
       "      <td>10:19</td>\n",
       "      <td>BAYVIEW</td>\n",
       "      <td>NONE</td>\n",
       "      <td>0 Block of CASHMERE ST</td>\n",
       "      <td>-122.382705</td>\n",
       "      <td>37.735886</td>\n",
       "      <td>(37.7358858148594, -122.382705072801)</td>\n",
       "      <td>1.608930e+13</td>\n",
       "    </tr>\n",
       "    <tr>\n",
       "      <th>9944</th>\n",
       "      <td>160892585.0</td>\n",
       "      <td>VANDALISM</td>\n",
       "      <td>MALICIOUS MISCHIEF, VANDALISM OF VEHICLES</td>\n",
       "      <td>Wednesday</td>\n",
       "      <td>2016-11-02</td>\n",
       "      <td>10:38</td>\n",
       "      <td>NORTHERN</td>\n",
       "      <td>ARREST, BOOKED</td>\n",
       "      <td>100 Block of GROVE ST</td>\n",
       "      <td>-122.419064</td>\n",
       "      <td>37.778327</td>\n",
       "      <td>(37.7783268674219, -122.419063862505)</td>\n",
       "      <td>1.608930e+13</td>\n",
       "    </tr>\n",
       "    <tr>\n",
       "      <th>9933</th>\n",
       "      <td>160891662.0</td>\n",
       "      <td>ASSAULT</td>\n",
       "      <td>FALSE IMPRISONMENT</td>\n",
       "      <td>Tuesday</td>\n",
       "      <td>2016-11-01</td>\n",
       "      <td>22:30</td>\n",
       "      <td>INGLESIDE</td>\n",
       "      <td>ARREST, BOOKED</td>\n",
       "      <td>MISSION ST / OCEAN AV</td>\n",
       "      <td>-122.435385</td>\n",
       "      <td>37.723910</td>\n",
       "      <td>(37.7239104470753, -122.435385454946)</td>\n",
       "      <td>1.608920e+13</td>\n",
       "    </tr>\n",
       "    <tr>\n",
       "      <th>9860</th>\n",
       "      <td>160889786.0</td>\n",
       "      <td>BURGLARY</td>\n",
       "      <td>BURGLARY OF RESIDENCE, ATTEMPTED FORCIBLE ENTRY</td>\n",
       "      <td>Tuesday</td>\n",
       "      <td>2016-11-01</td>\n",
       "      <td>02:54</td>\n",
       "      <td>MISSION</td>\n",
       "      <td>NONE</td>\n",
       "      <td>4000 Block of 19TH ST</td>\n",
       "      <td>-122.433209</td>\n",
       "      <td>37.759334</td>\n",
       "      <td>(37.7593336636293, -122.433208516014)</td>\n",
       "      <td>1.608900e+13</td>\n",
       "    </tr>\n",
       "    <tr>\n",
       "      <th>9857</th>\n",
       "      <td>160889736.0</td>\n",
       "      <td>WARRANTS</td>\n",
       "      <td>ENROUTE TO OUTSIDE JURISDICTION</td>\n",
       "      <td>Tuesday</td>\n",
       "      <td>2016-11-01</td>\n",
       "      <td>10:43</td>\n",
       "      <td>SOUTHERN</td>\n",
       "      <td>ARREST, BOOKED</td>\n",
       "      <td>800 Block of BRYANT ST</td>\n",
       "      <td>-122.403405</td>\n",
       "      <td>37.775421</td>\n",
       "      <td>(37.775420706711, -122.403404791479)</td>\n",
       "      <td>1.608900e+13</td>\n",
       "    </tr>\n",
       "    <tr>\n",
       "      <th>9986</th>\n",
       "      <td>160895846.0</td>\n",
       "      <td>OTHER OFFENSES</td>\n",
       "      <td>FALSE PERSONATION</td>\n",
       "      <td>Monday</td>\n",
       "      <td>2016-10-31</td>\n",
       "      <td>10:00</td>\n",
       "      <td>MISSION</td>\n",
       "      <td>NONE</td>\n",
       "      <td>100 Block of CAPP ST</td>\n",
       "      <td>-122.418550</td>\n",
       "      <td>37.764284</td>\n",
       "      <td>(37.7642837095036, -122.418549940195)</td>\n",
       "      <td>1.608960e+13</td>\n",
       "    </tr>\n",
       "    <tr>\n",
       "      <th>9859</th>\n",
       "      <td>160889764.0</td>\n",
       "      <td>OTHER OFFENSES</td>\n",
       "      <td>LOST/STOLEN LICENSE PLATE</td>\n",
       "      <td>Monday</td>\n",
       "      <td>2016-10-31</td>\n",
       "      <td>17:30</td>\n",
       "      <td>MISSION</td>\n",
       "      <td>NONE</td>\n",
       "      <td>SOUTH VAN NESS AV / 26TH ST</td>\n",
       "      <td>-122.415954</td>\n",
       "      <td>37.749173</td>\n",
       "      <td>(37.7491729638325, -122.415954301518)</td>\n",
       "      <td>1.608900e+13</td>\n",
       "    </tr>\n",
       "    <tr>\n",
       "      <th>9826</th>\n",
       "      <td>160887677.0</td>\n",
       "      <td>ASSAULT</td>\n",
       "      <td>BATTERY</td>\n",
       "      <td>Monday</td>\n",
       "      <td>2016-10-31</td>\n",
       "      <td>16:48</td>\n",
       "      <td>TENDERLOIN</td>\n",
       "      <td>NONE</td>\n",
       "      <td>100 Block of HYDE ST</td>\n",
       "      <td>-122.415670</td>\n",
       "      <td>37.782120</td>\n",
       "      <td>(37.7821198488931, -122.415669661443)</td>\n",
       "      <td>1.608880e+13</td>\n",
       "    </tr>\n",
       "    <tr>\n",
       "      <th>9727</th>\n",
       "      <td>160884689.0</td>\n",
       "      <td>VEHICLE THEFT</td>\n",
       "      <td>STOLEN TRUCK</td>\n",
       "      <td>Sunday</td>\n",
       "      <td>2016-10-30</td>\n",
       "      <td>13:20</td>\n",
       "      <td>INGLESIDE</td>\n",
       "      <td>NONE</td>\n",
       "      <td>100 Block of OCEAN AV</td>\n",
       "      <td>-122.439345</td>\n",
       "      <td>37.723624</td>\n",
       "      <td>(37.723624467748, -122.43934468789)</td>\n",
       "      <td>1.608850e+13</td>\n",
       "    </tr>\n",
       "    <tr>\n",
       "      <th>9715</th>\n",
       "      <td>160883766.0</td>\n",
       "      <td>WEAPON LAWS</td>\n",
       "      <td>EXHIBITING DEADLY WEAPON IN A THREATING MANNER</td>\n",
       "      <td>Sunday</td>\n",
       "      <td>2016-10-30</td>\n",
       "      <td>11:17</td>\n",
       "      <td>BAYVIEW</td>\n",
       "      <td>ARREST, BOOKED</td>\n",
       "      <td>3800 Block of 3RD ST</td>\n",
       "      <td>-122.387940</td>\n",
       "      <td>37.742260</td>\n",
       "      <td>(37.7422600519555, -122.387939452192)</td>\n",
       "      <td>1.608840e+13</td>\n",
       "    </tr>\n",
       "    <tr>\n",
       "      <th>9710</th>\n",
       "      <td>160883249.0</td>\n",
       "      <td>VANDALISM</td>\n",
       "      <td>MALICIOUS MISCHIEF, VANDALISM OF VEHICLES</td>\n",
       "      <td>Sunday</td>\n",
       "      <td>2016-10-30</td>\n",
       "      <td>03:08</td>\n",
       "      <td>CENTRAL</td>\n",
       "      <td>ARREST, BOOKED</td>\n",
       "      <td>0 Block of BROADWAY ST</td>\n",
       "      <td>-122.399296</td>\n",
       "      <td>37.798859</td>\n",
       "      <td>(37.798859198392, -122.399295690795)</td>\n",
       "      <td>1.608830e+13</td>\n",
       "    </tr>\n",
       "    <tr>\n",
       "      <th>9714</th>\n",
       "      <td>160883750.0</td>\n",
       "      <td>BURGLARY</td>\n",
       "      <td>BURGLARY OF STORE, FORCIBLE ENTRY</td>\n",
       "      <td>Saturday</td>\n",
       "      <td>2016-10-29</td>\n",
       "      <td>19:00</td>\n",
       "      <td>CENTRAL</td>\n",
       "      <td>NONE</td>\n",
       "      <td>200 Block of GRANT AV</td>\n",
       "      <td>-122.405185</td>\n",
       "      <td>37.788876</td>\n",
       "      <td>(37.7888762183538, -122.405184569667)</td>\n",
       "      <td>1.608840e+13</td>\n",
       "    </tr>\n",
       "    <tr>\n",
       "      <th>9711</th>\n",
       "      <td>160883255.0</td>\n",
       "      <td>LARCENY/THEFT</td>\n",
       "      <td>GRAND THEFT FROM LOCKED AUTO</td>\n",
       "      <td>Saturday</td>\n",
       "      <td>2016-10-29</td>\n",
       "      <td>21:50</td>\n",
       "      <td>SOUTHERN</td>\n",
       "      <td>NONE</td>\n",
       "      <td>600 Block of MINNA ST</td>\n",
       "      <td>-122.411206</td>\n",
       "      <td>37.778224</td>\n",
       "      <td>(37.7782244806331, -122.411205728723)</td>\n",
       "      <td>1.608830e+13</td>\n",
       "    </tr>\n",
       "    <tr>\n",
       "      <th>9644</th>\n",
       "      <td>160880427.0</td>\n",
       "      <td>OTHER OFFENSES</td>\n",
       "      <td>RESISTING ARREST</td>\n",
       "      <td>Saturday</td>\n",
       "      <td>2016-10-29</td>\n",
       "      <td>06:20</td>\n",
       "      <td>MISSION</td>\n",
       "      <td>ARREST, BOOKED</td>\n",
       "      <td>20TH ST / DOLORES ST</td>\n",
       "      <td>-122.425768</td>\n",
       "      <td>37.758226</td>\n",
       "      <td>(37.7582261992584, -122.425768246873)</td>\n",
       "      <td>1.608800e+13</td>\n",
       "    </tr>\n",
       "    <tr>\n",
       "      <th>9645</th>\n",
       "      <td>160880427.0</td>\n",
       "      <td>VANDALISM</td>\n",
       "      <td>MALICIOUS MISCHIEF, GRAFFITI</td>\n",
       "      <td>Saturday</td>\n",
       "      <td>2016-10-29</td>\n",
       "      <td>06:20</td>\n",
       "      <td>MISSION</td>\n",
       "      <td>ARREST, BOOKED</td>\n",
       "      <td>20TH ST / DOLORES ST</td>\n",
       "      <td>-122.425768</td>\n",
       "      <td>37.758226</td>\n",
       "      <td>(37.7582261992584, -122.425768246873)</td>\n",
       "      <td>1.608800e+13</td>\n",
       "    </tr>\n",
       "    <tr>\n",
       "      <th>9611</th>\n",
       "      <td>160877424.0</td>\n",
       "      <td>VANDALISM</td>\n",
       "      <td>MALICIOUS MISCHIEF, VANDALISM OF VEHICLES</td>\n",
       "      <td>Friday</td>\n",
       "      <td>2016-10-28</td>\n",
       "      <td>05:30</td>\n",
       "      <td>NORTHERN</td>\n",
       "      <td>NONE</td>\n",
       "      <td>0 Block of DANIELBURNHAM CT</td>\n",
       "      <td>-122.422541</td>\n",
       "      <td>37.786909</td>\n",
       "      <td>(37.7869088658022, -122.422540554174)</td>\n",
       "      <td>1.608770e+13</td>\n",
       "    </tr>\n",
       "    <tr>\n",
       "      <th>9603</th>\n",
       "      <td>160876642.0</td>\n",
       "      <td>ASSAULT</td>\n",
       "      <td>BATTERY</td>\n",
       "      <td>Thursday</td>\n",
       "      <td>2016-10-27</td>\n",
       "      <td>20:55</td>\n",
       "      <td>MISSION</td>\n",
       "      <td>ARREST, BOOKED</td>\n",
       "      <td>2000 Block of MISSION ST</td>\n",
       "      <td>-122.419658</td>\n",
       "      <td>37.764221</td>\n",
       "      <td>(37.7642205603745, -122.41965834371)</td>\n",
       "      <td>1.608770e+13</td>\n",
       "    </tr>\n",
       "  </tbody>\n",
       "</table>\n",
       "</div>"
      ],
      "text/plain": [
       "       IncidntNum        Category  \\\n",
       "2467  150273337.0        WARRANTS   \n",
       "115   150480366.0   VEHICLE THEFT   \n",
       "116   150480366.0     DRUNKENNESS   \n",
       "117   150480366.0       VANDALISM   \n",
       "118   150480366.0       VANDALISM   \n",
       "5332  160220970.0           FRAUD   \n",
       "9554  160939676.0         ASSAULT   \n",
       "9964  160893652.0    NON-CRIMINAL   \n",
       "9963  160893464.0     WEAPON LAWS   \n",
       "9962  160893395.0         ASSAULT   \n",
       "9953  160892842.0  SUSPICIOUS OCC   \n",
       "9951  160892820.0         ASSAULT   \n",
       "9950  160892814.0  OTHER OFFENSES   \n",
       "9945  160892591.0         ASSAULT   \n",
       "9944  160892585.0       VANDALISM   \n",
       "9933  160891662.0         ASSAULT   \n",
       "9860  160889786.0        BURGLARY   \n",
       "9857  160889736.0        WARRANTS   \n",
       "9986  160895846.0  OTHER OFFENSES   \n",
       "9859  160889764.0  OTHER OFFENSES   \n",
       "9826  160887677.0         ASSAULT   \n",
       "9727  160884689.0   VEHICLE THEFT   \n",
       "9715  160883766.0     WEAPON LAWS   \n",
       "9710  160883249.0       VANDALISM   \n",
       "9714  160883750.0        BURGLARY   \n",
       "9711  160883255.0   LARCENY/THEFT   \n",
       "9644  160880427.0  OTHER OFFENSES   \n",
       "9645  160880427.0       VANDALISM   \n",
       "9611  160877424.0       VANDALISM   \n",
       "9603  160876642.0         ASSAULT   \n",
       "\n",
       "                                             Descript  DayOfWeek       Date  \\\n",
       "2467                                   WARRANT ARREST  Wednesday 2016-12-21   \n",
       "115                      STOLEN AND RECOVERED VEHICLE   Thursday 2016-12-08   \n",
       "116      UNDER INFLUENCE OF ALCOHOL IN A PUBLIC PLACE   Thursday 2016-12-08   \n",
       "117                     MALICIOUS MISCHIEF, VANDALISM   Thursday 2016-12-08   \n",
       "118         MALICIOUS MISCHIEF, VANDALISM OF VEHICLES   Thursday 2016-12-08   \n",
       "5332                     CREDIT CARD, THEFT BY USE OF     Friday 2016-11-18   \n",
       "9554                                          BATTERY     Monday 2016-11-14   \n",
       "9964                         CIVIL SIDEWALKS, WARNING  Wednesday 2016-11-02   \n",
       "9963                      CARRYING A CONCEALED WEAPON  Wednesday 2016-11-02   \n",
       "9962                                          BATTERY  Wednesday 2016-11-02   \n",
       "9953                            SUSPICIOUS OCCURRENCE  Wednesday 2016-11-02   \n",
       "9951                             THREATS AGAINST LIFE  Wednesday 2016-11-02   \n",
       "9950            DRIVERS LICENSE, SUSPENDED OR REVOKED  Wednesday 2016-11-02   \n",
       "9945                             THREATS AGAINST LIFE  Wednesday 2016-11-02   \n",
       "9944        MALICIOUS MISCHIEF, VANDALISM OF VEHICLES  Wednesday 2016-11-02   \n",
       "9933                               FALSE IMPRISONMENT    Tuesday 2016-11-01   \n",
       "9860  BURGLARY OF RESIDENCE, ATTEMPTED FORCIBLE ENTRY    Tuesday 2016-11-01   \n",
       "9857                  ENROUTE TO OUTSIDE JURISDICTION    Tuesday 2016-11-01   \n",
       "9986                                FALSE PERSONATION     Monday 2016-10-31   \n",
       "9859                        LOST/STOLEN LICENSE PLATE     Monday 2016-10-31   \n",
       "9826                                          BATTERY     Monday 2016-10-31   \n",
       "9727                                     STOLEN TRUCK     Sunday 2016-10-30   \n",
       "9715   EXHIBITING DEADLY WEAPON IN A THREATING MANNER     Sunday 2016-10-30   \n",
       "9710        MALICIOUS MISCHIEF, VANDALISM OF VEHICLES     Sunday 2016-10-30   \n",
       "9714                BURGLARY OF STORE, FORCIBLE ENTRY   Saturday 2016-10-29   \n",
       "9711                     GRAND THEFT FROM LOCKED AUTO   Saturday 2016-10-29   \n",
       "9644                                 RESISTING ARREST   Saturday 2016-10-29   \n",
       "9645                     MALICIOUS MISCHIEF, GRAFFITI   Saturday 2016-10-29   \n",
       "9611        MALICIOUS MISCHIEF, VANDALISM OF VEHICLES     Friday 2016-10-28   \n",
       "9603                                          BATTERY   Thursday 2016-10-27   \n",
       "\n",
       "       Time  PdDistrict      Resolution                      Address  \\\n",
       "2467  18:17  TENDERLOIN  ARREST, BOOKED        300 Block of JONES ST   \n",
       "115   15:00    NORTHERN  ARREST, BOOKED            PINE ST / POLK ST   \n",
       "116   15:00    NORTHERN  ARREST, BOOKED            PINE ST / POLK ST   \n",
       "117   15:00    NORTHERN  ARREST, BOOKED            PINE ST / POLK ST   \n",
       "118   15:00    NORTHERN  ARREST, BOOKED            PINE ST / POLK ST   \n",
       "5332  12:00     BAYVIEW            NONE      1200 Block of DEHARO ST   \n",
       "9554  09:20    NORTHERN            NONE           ELLIS ST / POLK ST   \n",
       "9964  18:02     MISSION            NONE        21ST ST / SHOTWELL ST   \n",
       "9963  16:42     BAYVIEW            NONE        1100 Block of 18TH ST   \n",
       "9962  16:15     TARAVAL            NONE   MONTEREY BL / NORTHGATE DR   \n",
       "9953  10:00     MISSION            NONE         200 Block of 14TH ST   \n",
       "9951  11:45        PARK            NONE       STANYAN ST / WALLER ST   \n",
       "9950  12:10     BAYVIEW  ARREST, BOOKED          QUESADA AV / 3RD ST   \n",
       "9945  10:19     BAYVIEW            NONE       0 Block of CASHMERE ST   \n",
       "9944  10:38    NORTHERN  ARREST, BOOKED        100 Block of GROVE ST   \n",
       "9933  22:30   INGLESIDE  ARREST, BOOKED        MISSION ST / OCEAN AV   \n",
       "9860  02:54     MISSION            NONE        4000 Block of 19TH ST   \n",
       "9857  10:43    SOUTHERN  ARREST, BOOKED       800 Block of BRYANT ST   \n",
       "9986  10:00     MISSION            NONE         100 Block of CAPP ST   \n",
       "9859  17:30     MISSION            NONE  SOUTH VAN NESS AV / 26TH ST   \n",
       "9826  16:48  TENDERLOIN            NONE         100 Block of HYDE ST   \n",
       "9727  13:20   INGLESIDE            NONE        100 Block of OCEAN AV   \n",
       "9715  11:17     BAYVIEW  ARREST, BOOKED         3800 Block of 3RD ST   \n",
       "9710  03:08     CENTRAL  ARREST, BOOKED       0 Block of BROADWAY ST   \n",
       "9714  19:00     CENTRAL            NONE        200 Block of GRANT AV   \n",
       "9711  21:50    SOUTHERN            NONE        600 Block of MINNA ST   \n",
       "9644  06:20     MISSION  ARREST, BOOKED         20TH ST / DOLORES ST   \n",
       "9645  06:20     MISSION  ARREST, BOOKED         20TH ST / DOLORES ST   \n",
       "9611  05:30    NORTHERN            NONE  0 Block of DANIELBURNHAM CT   \n",
       "9603  20:55     MISSION  ARREST, BOOKED     2000 Block of MISSION ST   \n",
       "\n",
       "               X          Y                               Location  \\\n",
       "2467 -122.412759  37.784400  (37.7843997500192, -122.412758846145)   \n",
       "115  -122.420497  37.789619    (37.789618819255, -122.42049728879)   \n",
       "116  -122.420497  37.789619    (37.789618819255, -122.42049728879)   \n",
       "117  -122.420497  37.789619    (37.789618819255, -122.42049728879)   \n",
       "118  -122.420497  37.789619    (37.789618819255, -122.42049728879)   \n",
       "5332 -122.400632  37.753965    (37.7539653995399, -122.4006319548)   \n",
       "9554 -122.419366  37.784028  (37.7840280452032, -122.419366294797)   \n",
       "9964 -122.415629  37.757232   (37.757232227914, -122.415629332446)   \n",
       "9963 -122.394108  37.762671  (37.7626705352496, -122.394108177688)   \n",
       "9962 -122.461737  37.730023  (37.7300233378439, -122.461736679015)   \n",
       "9953 -122.418885  37.768285  (37.7682847825555, -122.418885184858)   \n",
       "9951 -122.453355  37.768246  (37.7682463076665, -122.453354647469)   \n",
       "9950 -122.391246  37.733225  (37.7332252032804, -122.391245623019)   \n",
       "9945 -122.382705  37.735886  (37.7358858148594, -122.382705072801)   \n",
       "9944 -122.419064  37.778327  (37.7783268674219, -122.419063862505)   \n",
       "9933 -122.435385  37.723910  (37.7239104470753, -122.435385454946)   \n",
       "9860 -122.433209  37.759334  (37.7593336636293, -122.433208516014)   \n",
       "9857 -122.403405  37.775421   (37.775420706711, -122.403404791479)   \n",
       "9986 -122.418550  37.764284  (37.7642837095036, -122.418549940195)   \n",
       "9859 -122.415954  37.749173  (37.7491729638325, -122.415954301518)   \n",
       "9826 -122.415670  37.782120  (37.7821198488931, -122.415669661443)   \n",
       "9727 -122.439345  37.723624    (37.723624467748, -122.43934468789)   \n",
       "9715 -122.387940  37.742260  (37.7422600519555, -122.387939452192)   \n",
       "9710 -122.399296  37.798859   (37.798859198392, -122.399295690795)   \n",
       "9714 -122.405185  37.788876  (37.7888762183538, -122.405184569667)   \n",
       "9711 -122.411206  37.778224  (37.7782244806331, -122.411205728723)   \n",
       "9644 -122.425768  37.758226  (37.7582261992584, -122.425768246873)   \n",
       "9645 -122.425768  37.758226  (37.7582261992584, -122.425768246873)   \n",
       "9611 -122.422541  37.786909  (37.7869088658022, -122.422540554174)   \n",
       "9603 -122.419658  37.764221   (37.7642205603745, -122.41965834371)   \n",
       "\n",
       "              PdId  \n",
       "2467  1.502730e+13  \n",
       "115   1.504800e+13  \n",
       "116   1.504800e+13  \n",
       "117   1.504800e+13  \n",
       "118   1.504800e+13  \n",
       "5332  1.602210e+13  \n",
       "9554  1.609400e+13  \n",
       "9964  1.608940e+13  \n",
       "9963  1.608930e+13  \n",
       "9962  1.608930e+13  \n",
       "9953  1.608930e+13  \n",
       "9951  1.608930e+13  \n",
       "9950  1.608930e+13  \n",
       "9945  1.608930e+13  \n",
       "9944  1.608930e+13  \n",
       "9933  1.608920e+13  \n",
       "9860  1.608900e+13  \n",
       "9857  1.608900e+13  \n",
       "9986  1.608960e+13  \n",
       "9859  1.608900e+13  \n",
       "9826  1.608880e+13  \n",
       "9727  1.608850e+13  \n",
       "9715  1.608840e+13  \n",
       "9710  1.608830e+13  \n",
       "9714  1.608840e+13  \n",
       "9711  1.608830e+13  \n",
       "9644  1.608800e+13  \n",
       "9645  1.608800e+13  \n",
       "9611  1.608770e+13  \n",
       "9603  1.608770e+13  "
      ]
     },
     "execution_count": 98,
     "metadata": {},
     "output_type": "execute_result"
    }
   ],
   "source": [
    "df.sort_values(by=['Date','IncidntNum'], ascending=False,inplace=True)\n",
    "df.head(30)"
   ]
  },
  {
   "cell_type": "code",
   "execution_count": 99,
   "metadata": {},
   "outputs": [
    {
     "data": {
      "text/html": [
       "<div>\n",
       "<style scoped>\n",
       "    .dataframe tbody tr th:only-of-type {\n",
       "        vertical-align: middle;\n",
       "    }\n",
       "\n",
       "    .dataframe tbody tr th {\n",
       "        vertical-align: top;\n",
       "    }\n",
       "\n",
       "    .dataframe thead th {\n",
       "        text-align: right;\n",
       "    }\n",
       "</style>\n",
       "<table border=\"1\" class=\"dataframe\">\n",
       "  <thead>\n",
       "    <tr style=\"text-align: right;\">\n",
       "      <th></th>\n",
       "      <th>Category</th>\n",
       "      <th>Case_counts</th>\n",
       "    </tr>\n",
       "  </thead>\n",
       "  <tbody>\n",
       "    <tr>\n",
       "      <th>0</th>\n",
       "      <td>LARCENY/THEFT</td>\n",
       "      <td>1566</td>\n",
       "    </tr>\n",
       "    <tr>\n",
       "      <th>1</th>\n",
       "      <td>OTHER OFFENSES</td>\n",
       "      <td>1476</td>\n",
       "    </tr>\n",
       "    <tr>\n",
       "      <th>2</th>\n",
       "      <td>NON-CRIMINAL</td>\n",
       "      <td>1242</td>\n",
       "    </tr>\n",
       "    <tr>\n",
       "      <th>3</th>\n",
       "      <td>ASSAULT</td>\n",
       "      <td>1075</td>\n",
       "    </tr>\n",
       "    <tr>\n",
       "      <th>4</th>\n",
       "      <td>WARRANTS</td>\n",
       "      <td>555</td>\n",
       "    </tr>\n",
       "    <tr>\n",
       "      <th>5</th>\n",
       "      <td>VEHICLE THEFT</td>\n",
       "      <td>529</td>\n",
       "    </tr>\n",
       "    <tr>\n",
       "      <th>6</th>\n",
       "      <td>VANDALISM</td>\n",
       "      <td>475</td>\n",
       "    </tr>\n",
       "    <tr>\n",
       "      <th>7</th>\n",
       "      <td>BURGLARY</td>\n",
       "      <td>458</td>\n",
       "    </tr>\n",
       "    <tr>\n",
       "      <th>8</th>\n",
       "      <td>SUSPICIOUS OCC</td>\n",
       "      <td>443</td>\n",
       "    </tr>\n",
       "    <tr>\n",
       "      <th>9</th>\n",
       "      <td>DRUG/NARCOTIC</td>\n",
       "      <td>396</td>\n",
       "    </tr>\n",
       "    <tr>\n",
       "      <th>10</th>\n",
       "      <td>MISSING PERSON</td>\n",
       "      <td>364</td>\n",
       "    </tr>\n",
       "    <tr>\n",
       "      <th>11</th>\n",
       "      <td>ROBBERY</td>\n",
       "      <td>268</td>\n",
       "    </tr>\n",
       "    <tr>\n",
       "      <th>12</th>\n",
       "      <td>FRAUD</td>\n",
       "      <td>188</td>\n",
       "    </tr>\n",
       "    <tr>\n",
       "      <th>13</th>\n",
       "      <td>SECONDARY CODES</td>\n",
       "      <td>146</td>\n",
       "    </tr>\n",
       "    <tr>\n",
       "      <th>14</th>\n",
       "      <td>TRESPASS</td>\n",
       "      <td>146</td>\n",
       "    </tr>\n",
       "    <tr>\n",
       "      <th>15</th>\n",
       "      <td>WEAPON LAWS</td>\n",
       "      <td>141</td>\n",
       "    </tr>\n",
       "    <tr>\n",
       "      <th>16</th>\n",
       "      <td>RECOVERED VEHICLE</td>\n",
       "      <td>77</td>\n",
       "    </tr>\n",
       "    <tr>\n",
       "      <th>17</th>\n",
       "      <td>SEX OFFENSES, FORCIBLE</td>\n",
       "      <td>74</td>\n",
       "    </tr>\n",
       "    <tr>\n",
       "      <th>18</th>\n",
       "      <td>PROSTITUTION</td>\n",
       "      <td>59</td>\n",
       "    </tr>\n",
       "    <tr>\n",
       "      <th>19</th>\n",
       "      <td>STOLEN PROPERTY</td>\n",
       "      <td>55</td>\n",
       "    </tr>\n",
       "    <tr>\n",
       "      <th>20</th>\n",
       "      <td>DRUNKENNESS</td>\n",
       "      <td>51</td>\n",
       "    </tr>\n",
       "    <tr>\n",
       "      <th>21</th>\n",
       "      <td>FORGERY/COUNTERFEITING</td>\n",
       "      <td>48</td>\n",
       "    </tr>\n",
       "    <tr>\n",
       "      <th>22</th>\n",
       "      <td>DISORDERLY CONDUCT</td>\n",
       "      <td>45</td>\n",
       "    </tr>\n",
       "    <tr>\n",
       "      <th>23</th>\n",
       "      <td>DRIVING UNDER THE INFLUENCE</td>\n",
       "      <td>32</td>\n",
       "    </tr>\n",
       "    <tr>\n",
       "      <th>24</th>\n",
       "      <td>ARSON</td>\n",
       "      <td>28</td>\n",
       "    </tr>\n",
       "    <tr>\n",
       "      <th>25</th>\n",
       "      <td>KIDNAPPING</td>\n",
       "      <td>22</td>\n",
       "    </tr>\n",
       "    <tr>\n",
       "      <th>26</th>\n",
       "      <td>RUNAWAY</td>\n",
       "      <td>13</td>\n",
       "    </tr>\n",
       "    <tr>\n",
       "      <th>27</th>\n",
       "      <td>BRIBERY</td>\n",
       "      <td>13</td>\n",
       "    </tr>\n",
       "    <tr>\n",
       "      <th>28</th>\n",
       "      <td>LIQUOR LAWS</td>\n",
       "      <td>9</td>\n",
       "    </tr>\n",
       "    <tr>\n",
       "      <th>29</th>\n",
       "      <td>SUICIDE</td>\n",
       "      <td>6</td>\n",
       "    </tr>\n",
       "    <tr>\n",
       "      <th>30</th>\n",
       "      <td>EXTORTION</td>\n",
       "      <td>5</td>\n",
       "    </tr>\n",
       "    <tr>\n",
       "      <th>31</th>\n",
       "      <td>EMBEZZLEMENT</td>\n",
       "      <td>5</td>\n",
       "    </tr>\n",
       "    <tr>\n",
       "      <th>32</th>\n",
       "      <td>FAMILY OFFENSES</td>\n",
       "      <td>4</td>\n",
       "    </tr>\n",
       "    <tr>\n",
       "      <th>33</th>\n",
       "      <td>LOITERING</td>\n",
       "      <td>2</td>\n",
       "    </tr>\n",
       "    <tr>\n",
       "      <th>34</th>\n",
       "      <td>SEX OFFENSES, NON FORCIBLE</td>\n",
       "      <td>2</td>\n",
       "    </tr>\n",
       "    <tr>\n",
       "      <th>35</th>\n",
       "      <td>GAMBLING</td>\n",
       "      <td>1</td>\n",
       "    </tr>\n",
       "  </tbody>\n",
       "</table>\n",
       "</div>"
      ],
      "text/plain": [
       "                       Category  Case_counts\n",
       "0                 LARCENY/THEFT         1566\n",
       "1                OTHER OFFENSES         1476\n",
       "2                  NON-CRIMINAL         1242\n",
       "3                       ASSAULT         1075\n",
       "4                      WARRANTS          555\n",
       "5                 VEHICLE THEFT          529\n",
       "6                     VANDALISM          475\n",
       "7                      BURGLARY          458\n",
       "8                SUSPICIOUS OCC          443\n",
       "9                 DRUG/NARCOTIC          396\n",
       "10               MISSING PERSON          364\n",
       "11                      ROBBERY          268\n",
       "12                        FRAUD          188\n",
       "13              SECONDARY CODES          146\n",
       "14                     TRESPASS          146\n",
       "15                  WEAPON LAWS          141\n",
       "16            RECOVERED VEHICLE           77\n",
       "17       SEX OFFENSES, FORCIBLE           74\n",
       "18                 PROSTITUTION           59\n",
       "19              STOLEN PROPERTY           55\n",
       "20                  DRUNKENNESS           51\n",
       "21       FORGERY/COUNTERFEITING           48\n",
       "22           DISORDERLY CONDUCT           45\n",
       "23  DRIVING UNDER THE INFLUENCE           32\n",
       "24                        ARSON           28\n",
       "25                   KIDNAPPING           22\n",
       "26                      RUNAWAY           13\n",
       "27                      BRIBERY           13\n",
       "28                  LIQUOR LAWS            9\n",
       "29                      SUICIDE            6\n",
       "30                    EXTORTION            5\n",
       "31                 EMBEZZLEMENT            5\n",
       "32              FAMILY OFFENSES            4\n",
       "33                    LOITERING            2\n",
       "34   SEX OFFENSES, NON FORCIBLE            2\n",
       "35                     GAMBLING            1"
      ]
     },
     "execution_count": 99,
     "metadata": {},
     "output_type": "execute_result"
    }
   ],
   "source": [
    "category_count = df.Category.value_counts().reset_index()\n",
    "category_count.columns = ['Category','Case_counts']\n",
    "category_count"
   ]
  },
  {
   "cell_type": "code",
   "execution_count": 100,
   "metadata": {},
   "outputs": [
    {
     "data": {
      "application/vnd.plotly.v1+json": {
       "config": {
        "plotlyServerURL": "https://plot.ly"
       },
       "data": [
        {
         "domain": {
          "x": [
           0,
           1
          ],
          "y": [
           0,
           1
          ]
         },
         "hovertemplate": "Category=%{label}<br>Case_counts=%{value}<extra></extra>",
         "labels": [
          "LARCENY/THEFT",
          "OTHER OFFENSES",
          "NON-CRIMINAL",
          "ASSAULT",
          "WARRANTS",
          "VEHICLE THEFT",
          "VANDALISM",
          "BURGLARY",
          "SUSPICIOUS OCC",
          "DRUG/NARCOTIC"
         ],
         "legendgroup": "",
         "name": "",
         "showlegend": true,
         "type": "pie",
         "values": [
          1566,
          1476,
          1242,
          1075,
          555,
          529,
          475,
          458,
          443,
          396
         ]
        }
       ],
       "layout": {
        "legend": {
         "tracegroupgap": 0
        },
        "margin": {
         "t": 60
        },
        "template": {
         "data": {
          "bar": [
           {
            "error_x": {
             "color": "#2a3f5f"
            },
            "error_y": {
             "color": "#2a3f5f"
            },
            "marker": {
             "line": {
              "color": "#E5ECF6",
              "width": 0.5
             },
             "pattern": {
              "fillmode": "overlay",
              "size": 10,
              "solidity": 0.2
             }
            },
            "type": "bar"
           }
          ],
          "barpolar": [
           {
            "marker": {
             "line": {
              "color": "#E5ECF6",
              "width": 0.5
             },
             "pattern": {
              "fillmode": "overlay",
              "size": 10,
              "solidity": 0.2
             }
            },
            "type": "barpolar"
           }
          ],
          "carpet": [
           {
            "aaxis": {
             "endlinecolor": "#2a3f5f",
             "gridcolor": "white",
             "linecolor": "white",
             "minorgridcolor": "white",
             "startlinecolor": "#2a3f5f"
            },
            "baxis": {
             "endlinecolor": "#2a3f5f",
             "gridcolor": "white",
             "linecolor": "white",
             "minorgridcolor": "white",
             "startlinecolor": "#2a3f5f"
            },
            "type": "carpet"
           }
          ],
          "choropleth": [
           {
            "colorbar": {
             "outlinewidth": 0,
             "ticks": ""
            },
            "type": "choropleth"
           }
          ],
          "contour": [
           {
            "colorbar": {
             "outlinewidth": 0,
             "ticks": ""
            },
            "colorscale": [
             [
              0,
              "#0d0887"
             ],
             [
              0.1111111111111111,
              "#46039f"
             ],
             [
              0.2222222222222222,
              "#7201a8"
             ],
             [
              0.3333333333333333,
              "#9c179e"
             ],
             [
              0.4444444444444444,
              "#bd3786"
             ],
             [
              0.5555555555555556,
              "#d8576b"
             ],
             [
              0.6666666666666666,
              "#ed7953"
             ],
             [
              0.7777777777777778,
              "#fb9f3a"
             ],
             [
              0.8888888888888888,
              "#fdca26"
             ],
             [
              1,
              "#f0f921"
             ]
            ],
            "type": "contour"
           }
          ],
          "contourcarpet": [
           {
            "colorbar": {
             "outlinewidth": 0,
             "ticks": ""
            },
            "type": "contourcarpet"
           }
          ],
          "heatmap": [
           {
            "colorbar": {
             "outlinewidth": 0,
             "ticks": ""
            },
            "colorscale": [
             [
              0,
              "#0d0887"
             ],
             [
              0.1111111111111111,
              "#46039f"
             ],
             [
              0.2222222222222222,
              "#7201a8"
             ],
             [
              0.3333333333333333,
              "#9c179e"
             ],
             [
              0.4444444444444444,
              "#bd3786"
             ],
             [
              0.5555555555555556,
              "#d8576b"
             ],
             [
              0.6666666666666666,
              "#ed7953"
             ],
             [
              0.7777777777777778,
              "#fb9f3a"
             ],
             [
              0.8888888888888888,
              "#fdca26"
             ],
             [
              1,
              "#f0f921"
             ]
            ],
            "type": "heatmap"
           }
          ],
          "heatmapgl": [
           {
            "colorbar": {
             "outlinewidth": 0,
             "ticks": ""
            },
            "colorscale": [
             [
              0,
              "#0d0887"
             ],
             [
              0.1111111111111111,
              "#46039f"
             ],
             [
              0.2222222222222222,
              "#7201a8"
             ],
             [
              0.3333333333333333,
              "#9c179e"
             ],
             [
              0.4444444444444444,
              "#bd3786"
             ],
             [
              0.5555555555555556,
              "#d8576b"
             ],
             [
              0.6666666666666666,
              "#ed7953"
             ],
             [
              0.7777777777777778,
              "#fb9f3a"
             ],
             [
              0.8888888888888888,
              "#fdca26"
             ],
             [
              1,
              "#f0f921"
             ]
            ],
            "type": "heatmapgl"
           }
          ],
          "histogram": [
           {
            "marker": {
             "pattern": {
              "fillmode": "overlay",
              "size": 10,
              "solidity": 0.2
             }
            },
            "type": "histogram"
           }
          ],
          "histogram2d": [
           {
            "colorbar": {
             "outlinewidth": 0,
             "ticks": ""
            },
            "colorscale": [
             [
              0,
              "#0d0887"
             ],
             [
              0.1111111111111111,
              "#46039f"
             ],
             [
              0.2222222222222222,
              "#7201a8"
             ],
             [
              0.3333333333333333,
              "#9c179e"
             ],
             [
              0.4444444444444444,
              "#bd3786"
             ],
             [
              0.5555555555555556,
              "#d8576b"
             ],
             [
              0.6666666666666666,
              "#ed7953"
             ],
             [
              0.7777777777777778,
              "#fb9f3a"
             ],
             [
              0.8888888888888888,
              "#fdca26"
             ],
             [
              1,
              "#f0f921"
             ]
            ],
            "type": "histogram2d"
           }
          ],
          "histogram2dcontour": [
           {
            "colorbar": {
             "outlinewidth": 0,
             "ticks": ""
            },
            "colorscale": [
             [
              0,
              "#0d0887"
             ],
             [
              0.1111111111111111,
              "#46039f"
             ],
             [
              0.2222222222222222,
              "#7201a8"
             ],
             [
              0.3333333333333333,
              "#9c179e"
             ],
             [
              0.4444444444444444,
              "#bd3786"
             ],
             [
              0.5555555555555556,
              "#d8576b"
             ],
             [
              0.6666666666666666,
              "#ed7953"
             ],
             [
              0.7777777777777778,
              "#fb9f3a"
             ],
             [
              0.8888888888888888,
              "#fdca26"
             ],
             [
              1,
              "#f0f921"
             ]
            ],
            "type": "histogram2dcontour"
           }
          ],
          "mesh3d": [
           {
            "colorbar": {
             "outlinewidth": 0,
             "ticks": ""
            },
            "type": "mesh3d"
           }
          ],
          "parcoords": [
           {
            "line": {
             "colorbar": {
              "outlinewidth": 0,
              "ticks": ""
             }
            },
            "type": "parcoords"
           }
          ],
          "pie": [
           {
            "automargin": true,
            "type": "pie"
           }
          ],
          "scatter": [
           {
            "fillpattern": {
             "fillmode": "overlay",
             "size": 10,
             "solidity": 0.2
            },
            "type": "scatter"
           }
          ],
          "scatter3d": [
           {
            "line": {
             "colorbar": {
              "outlinewidth": 0,
              "ticks": ""
             }
            },
            "marker": {
             "colorbar": {
              "outlinewidth": 0,
              "ticks": ""
             }
            },
            "type": "scatter3d"
           }
          ],
          "scattercarpet": [
           {
            "marker": {
             "colorbar": {
              "outlinewidth": 0,
              "ticks": ""
             }
            },
            "type": "scattercarpet"
           }
          ],
          "scattergeo": [
           {
            "marker": {
             "colorbar": {
              "outlinewidth": 0,
              "ticks": ""
             }
            },
            "type": "scattergeo"
           }
          ],
          "scattergl": [
           {
            "marker": {
             "colorbar": {
              "outlinewidth": 0,
              "ticks": ""
             }
            },
            "type": "scattergl"
           }
          ],
          "scattermapbox": [
           {
            "marker": {
             "colorbar": {
              "outlinewidth": 0,
              "ticks": ""
             }
            },
            "type": "scattermapbox"
           }
          ],
          "scatterpolar": [
           {
            "marker": {
             "colorbar": {
              "outlinewidth": 0,
              "ticks": ""
             }
            },
            "type": "scatterpolar"
           }
          ],
          "scatterpolargl": [
           {
            "marker": {
             "colorbar": {
              "outlinewidth": 0,
              "ticks": ""
             }
            },
            "type": "scatterpolargl"
           }
          ],
          "scatterternary": [
           {
            "marker": {
             "colorbar": {
              "outlinewidth": 0,
              "ticks": ""
             }
            },
            "type": "scatterternary"
           }
          ],
          "surface": [
           {
            "colorbar": {
             "outlinewidth": 0,
             "ticks": ""
            },
            "colorscale": [
             [
              0,
              "#0d0887"
             ],
             [
              0.1111111111111111,
              "#46039f"
             ],
             [
              0.2222222222222222,
              "#7201a8"
             ],
             [
              0.3333333333333333,
              "#9c179e"
             ],
             [
              0.4444444444444444,
              "#bd3786"
             ],
             [
              0.5555555555555556,
              "#d8576b"
             ],
             [
              0.6666666666666666,
              "#ed7953"
             ],
             [
              0.7777777777777778,
              "#fb9f3a"
             ],
             [
              0.8888888888888888,
              "#fdca26"
             ],
             [
              1,
              "#f0f921"
             ]
            ],
            "type": "surface"
           }
          ],
          "table": [
           {
            "cells": {
             "fill": {
              "color": "#EBF0F8"
             },
             "line": {
              "color": "white"
             }
            },
            "header": {
             "fill": {
              "color": "#C8D4E3"
             },
             "line": {
              "color": "white"
             }
            },
            "type": "table"
           }
          ]
         },
         "layout": {
          "annotationdefaults": {
           "arrowcolor": "#2a3f5f",
           "arrowhead": 0,
           "arrowwidth": 1
          },
          "autotypenumbers": "strict",
          "coloraxis": {
           "colorbar": {
            "outlinewidth": 0,
            "ticks": ""
           }
          },
          "colorscale": {
           "diverging": [
            [
             0,
             "#8e0152"
            ],
            [
             0.1,
             "#c51b7d"
            ],
            [
             0.2,
             "#de77ae"
            ],
            [
             0.3,
             "#f1b6da"
            ],
            [
             0.4,
             "#fde0ef"
            ],
            [
             0.5,
             "#f7f7f7"
            ],
            [
             0.6,
             "#e6f5d0"
            ],
            [
             0.7,
             "#b8e186"
            ],
            [
             0.8,
             "#7fbc41"
            ],
            [
             0.9,
             "#4d9221"
            ],
            [
             1,
             "#276419"
            ]
           ],
           "sequential": [
            [
             0,
             "#0d0887"
            ],
            [
             0.1111111111111111,
             "#46039f"
            ],
            [
             0.2222222222222222,
             "#7201a8"
            ],
            [
             0.3333333333333333,
             "#9c179e"
            ],
            [
             0.4444444444444444,
             "#bd3786"
            ],
            [
             0.5555555555555556,
             "#d8576b"
            ],
            [
             0.6666666666666666,
             "#ed7953"
            ],
            [
             0.7777777777777778,
             "#fb9f3a"
            ],
            [
             0.8888888888888888,
             "#fdca26"
            ],
            [
             1,
             "#f0f921"
            ]
           ],
           "sequentialminus": [
            [
             0,
             "#0d0887"
            ],
            [
             0.1111111111111111,
             "#46039f"
            ],
            [
             0.2222222222222222,
             "#7201a8"
            ],
            [
             0.3333333333333333,
             "#9c179e"
            ],
            [
             0.4444444444444444,
             "#bd3786"
            ],
            [
             0.5555555555555556,
             "#d8576b"
            ],
            [
             0.6666666666666666,
             "#ed7953"
            ],
            [
             0.7777777777777778,
             "#fb9f3a"
            ],
            [
             0.8888888888888888,
             "#fdca26"
            ],
            [
             1,
             "#f0f921"
            ]
           ]
          },
          "colorway": [
           "#636efa",
           "#EF553B",
           "#00cc96",
           "#ab63fa",
           "#FFA15A",
           "#19d3f3",
           "#FF6692",
           "#B6E880",
           "#FF97FF",
           "#FECB52"
          ],
          "font": {
           "color": "#2a3f5f"
          },
          "geo": {
           "bgcolor": "white",
           "lakecolor": "white",
           "landcolor": "#E5ECF6",
           "showlakes": true,
           "showland": true,
           "subunitcolor": "white"
          },
          "hoverlabel": {
           "align": "left"
          },
          "hovermode": "closest",
          "mapbox": {
           "style": "light"
          },
          "paper_bgcolor": "white",
          "plot_bgcolor": "#E5ECF6",
          "polar": {
           "angularaxis": {
            "gridcolor": "white",
            "linecolor": "white",
            "ticks": ""
           },
           "bgcolor": "#E5ECF6",
           "radialaxis": {
            "gridcolor": "white",
            "linecolor": "white",
            "ticks": ""
           }
          },
          "scene": {
           "xaxis": {
            "backgroundcolor": "#E5ECF6",
            "gridcolor": "white",
            "gridwidth": 2,
            "linecolor": "white",
            "showbackground": true,
            "ticks": "",
            "zerolinecolor": "white"
           },
           "yaxis": {
            "backgroundcolor": "#E5ECF6",
            "gridcolor": "white",
            "gridwidth": 2,
            "linecolor": "white",
            "showbackground": true,
            "ticks": "",
            "zerolinecolor": "white"
           },
           "zaxis": {
            "backgroundcolor": "#E5ECF6",
            "gridcolor": "white",
            "gridwidth": 2,
            "linecolor": "white",
            "showbackground": true,
            "ticks": "",
            "zerolinecolor": "white"
           }
          },
          "shapedefaults": {
           "line": {
            "color": "#2a3f5f"
           }
          },
          "ternary": {
           "aaxis": {
            "gridcolor": "white",
            "linecolor": "white",
            "ticks": ""
           },
           "baxis": {
            "gridcolor": "white",
            "linecolor": "white",
            "ticks": ""
           },
           "bgcolor": "#E5ECF6",
           "caxis": {
            "gridcolor": "white",
            "linecolor": "white",
            "ticks": ""
           }
          },
          "title": {
           "x": 0.05
          },
          "xaxis": {
           "automargin": true,
           "gridcolor": "white",
           "linecolor": "white",
           "ticks": "",
           "title": {
            "standoff": 15
           },
           "zerolinecolor": "white",
           "zerolinewidth": 2
          },
          "yaxis": {
           "automargin": true,
           "gridcolor": "white",
           "linecolor": "white",
           "ticks": "",
           "title": {
            "standoff": 15
           },
           "zerolinecolor": "white",
           "zerolinewidth": 2
          }
         }
        }
       }
      }
     },
     "metadata": {},
     "output_type": "display_data"
    }
   ],
   "source": [
    "category_count_top10 = category_count.head(10)\n",
    "px.pie(category_count_top10,'Category','Case_counts')"
   ]
  },
  {
   "cell_type": "code",
   "execution_count": 101,
   "metadata": {},
   "outputs": [
    {
     "data": {
      "text/html": [
       "<div>\n",
       "<style scoped>\n",
       "    .dataframe tbody tr th:only-of-type {\n",
       "        vertical-align: middle;\n",
       "    }\n",
       "\n",
       "    .dataframe tbody tr th {\n",
       "        vertical-align: top;\n",
       "    }\n",
       "\n",
       "    .dataframe thead th {\n",
       "        text-align: right;\n",
       "    }\n",
       "</style>\n",
       "<table border=\"1\" class=\"dataframe\">\n",
       "  <thead>\n",
       "    <tr style=\"text-align: right;\">\n",
       "      <th></th>\n",
       "      <th>IncidntNum</th>\n",
       "      <th>Category</th>\n",
       "      <th>Descript</th>\n",
       "      <th>DayOfWeek</th>\n",
       "      <th>Date</th>\n",
       "      <th>Time</th>\n",
       "      <th>PdDistrict</th>\n",
       "      <th>Resolution</th>\n",
       "      <th>Address</th>\n",
       "      <th>X</th>\n",
       "      <th>Y</th>\n",
       "      <th>Location</th>\n",
       "      <th>PdId</th>\n",
       "    </tr>\n",
       "  </thead>\n",
       "  <tbody>\n",
       "    <tr>\n",
       "      <th>2467</th>\n",
       "      <td>150273337.0</td>\n",
       "      <td>WARRANTS</td>\n",
       "      <td>WARRANT ARREST</td>\n",
       "      <td>Wednesday</td>\n",
       "      <td>2016-12-21</td>\n",
       "      <td>18:17</td>\n",
       "      <td>TENDERLOIN</td>\n",
       "      <td>ARREST, BOOKED</td>\n",
       "      <td>300 Block of JONES ST</td>\n",
       "      <td>-122.412759</td>\n",
       "      <td>37.784400</td>\n",
       "      <td>(37.7843997500192, -122.412758846145)</td>\n",
       "      <td>1.502730e+13</td>\n",
       "    </tr>\n",
       "    <tr>\n",
       "      <th>115</th>\n",
       "      <td>150480366.0</td>\n",
       "      <td>VEHICLE THEFT</td>\n",
       "      <td>STOLEN AND RECOVERED VEHICLE</td>\n",
       "      <td>Thursday</td>\n",
       "      <td>2016-12-08</td>\n",
       "      <td>15:00</td>\n",
       "      <td>NORTHERN</td>\n",
       "      <td>ARREST, BOOKED</td>\n",
       "      <td>PINE ST / POLK ST</td>\n",
       "      <td>-122.420497</td>\n",
       "      <td>37.789619</td>\n",
       "      <td>(37.789618819255, -122.42049728879)</td>\n",
       "      <td>1.504800e+13</td>\n",
       "    </tr>\n",
       "    <tr>\n",
       "      <th>116</th>\n",
       "      <td>150480366.0</td>\n",
       "      <td>DRUNKENNESS</td>\n",
       "      <td>UNDER INFLUENCE OF ALCOHOL IN A PUBLIC PLACE</td>\n",
       "      <td>Thursday</td>\n",
       "      <td>2016-12-08</td>\n",
       "      <td>15:00</td>\n",
       "      <td>NORTHERN</td>\n",
       "      <td>ARREST, BOOKED</td>\n",
       "      <td>PINE ST / POLK ST</td>\n",
       "      <td>-122.420497</td>\n",
       "      <td>37.789619</td>\n",
       "      <td>(37.789618819255, -122.42049728879)</td>\n",
       "      <td>1.504800e+13</td>\n",
       "    </tr>\n",
       "    <tr>\n",
       "      <th>117</th>\n",
       "      <td>150480366.0</td>\n",
       "      <td>VANDALISM</td>\n",
       "      <td>MALICIOUS MISCHIEF, VANDALISM</td>\n",
       "      <td>Thursday</td>\n",
       "      <td>2016-12-08</td>\n",
       "      <td>15:00</td>\n",
       "      <td>NORTHERN</td>\n",
       "      <td>ARREST, BOOKED</td>\n",
       "      <td>PINE ST / POLK ST</td>\n",
       "      <td>-122.420497</td>\n",
       "      <td>37.789619</td>\n",
       "      <td>(37.789618819255, -122.42049728879)</td>\n",
       "      <td>1.504800e+13</td>\n",
       "    </tr>\n",
       "    <tr>\n",
       "      <th>118</th>\n",
       "      <td>150480366.0</td>\n",
       "      <td>VANDALISM</td>\n",
       "      <td>MALICIOUS MISCHIEF, VANDALISM OF VEHICLES</td>\n",
       "      <td>Thursday</td>\n",
       "      <td>2016-12-08</td>\n",
       "      <td>15:00</td>\n",
       "      <td>NORTHERN</td>\n",
       "      <td>ARREST, BOOKED</td>\n",
       "      <td>PINE ST / POLK ST</td>\n",
       "      <td>-122.420497</td>\n",
       "      <td>37.789619</td>\n",
       "      <td>(37.789618819255, -122.42049728879)</td>\n",
       "      <td>1.504800e+13</td>\n",
       "    </tr>\n",
       "  </tbody>\n",
       "</table>\n",
       "</div>"
      ],
      "text/plain": [
       "       IncidntNum       Category  \\\n",
       "2467  150273337.0       WARRANTS   \n",
       "115   150480366.0  VEHICLE THEFT   \n",
       "116   150480366.0    DRUNKENNESS   \n",
       "117   150480366.0      VANDALISM   \n",
       "118   150480366.0      VANDALISM   \n",
       "\n",
       "                                          Descript  DayOfWeek       Date  \\\n",
       "2467                                WARRANT ARREST  Wednesday 2016-12-21   \n",
       "115                   STOLEN AND RECOVERED VEHICLE   Thursday 2016-12-08   \n",
       "116   UNDER INFLUENCE OF ALCOHOL IN A PUBLIC PLACE   Thursday 2016-12-08   \n",
       "117                  MALICIOUS MISCHIEF, VANDALISM   Thursday 2016-12-08   \n",
       "118      MALICIOUS MISCHIEF, VANDALISM OF VEHICLES   Thursday 2016-12-08   \n",
       "\n",
       "       Time  PdDistrict      Resolution                Address           X  \\\n",
       "2467  18:17  TENDERLOIN  ARREST, BOOKED  300 Block of JONES ST -122.412759   \n",
       "115   15:00    NORTHERN  ARREST, BOOKED      PINE ST / POLK ST -122.420497   \n",
       "116   15:00    NORTHERN  ARREST, BOOKED      PINE ST / POLK ST -122.420497   \n",
       "117   15:00    NORTHERN  ARREST, BOOKED      PINE ST / POLK ST -122.420497   \n",
       "118   15:00    NORTHERN  ARREST, BOOKED      PINE ST / POLK ST -122.420497   \n",
       "\n",
       "              Y                               Location          PdId  \n",
       "2467  37.784400  (37.7843997500192, -122.412758846145)  1.502730e+13  \n",
       "115   37.789619    (37.789618819255, -122.42049728879)  1.504800e+13  \n",
       "116   37.789619    (37.789618819255, -122.42049728879)  1.504800e+13  \n",
       "117   37.789619    (37.789618819255, -122.42049728879)  1.504800e+13  \n",
       "118   37.789619    (37.789618819255, -122.42049728879)  1.504800e+13  "
      ]
     },
     "execution_count": 101,
     "metadata": {},
     "output_type": "execute_result"
    }
   ],
   "source": [
    "df.head()"
   ]
  },
  {
   "attachments": {},
   "cell_type": "markdown",
   "metadata": {},
   "source": [
    "#### Find the most commom way of handling incidents in SanFrancisco"
   ]
  },
  {
   "cell_type": "code",
   "execution_count": 102,
   "metadata": {},
   "outputs": [],
   "source": [
    "#df.drop(df[df.Resolution == 'NONE'].index())"
   ]
  },
  {
   "cell_type": "code",
   "execution_count": 103,
   "metadata": {},
   "outputs": [
    {
     "data": {
      "text/html": [
       "<div>\n",
       "<style scoped>\n",
       "    .dataframe tbody tr th:only-of-type {\n",
       "        vertical-align: middle;\n",
       "    }\n",
       "\n",
       "    .dataframe tbody tr th {\n",
       "        vertical-align: top;\n",
       "    }\n",
       "\n",
       "    .dataframe thead th {\n",
       "        text-align: right;\n",
       "    }\n",
       "</style>\n",
       "<table border=\"1\" class=\"dataframe\">\n",
       "  <thead>\n",
       "    <tr style=\"text-align: right;\">\n",
       "      <th></th>\n",
       "      <th>Resolution</th>\n",
       "      <th>Number</th>\n",
       "    </tr>\n",
       "  </thead>\n",
       "  <tbody>\n",
       "    <tr>\n",
       "      <th>0</th>\n",
       "      <td>NONE</td>\n",
       "      <td>6390</td>\n",
       "    </tr>\n",
       "    <tr>\n",
       "      <th>1</th>\n",
       "      <td>ARREST, BOOKED</td>\n",
       "      <td>3356</td>\n",
       "    </tr>\n",
       "    <tr>\n",
       "      <th>2</th>\n",
       "      <td>UNFOUNDED</td>\n",
       "      <td>159</td>\n",
       "    </tr>\n",
       "    <tr>\n",
       "      <th>3</th>\n",
       "      <td>JUVENILE BOOKED</td>\n",
       "      <td>56</td>\n",
       "    </tr>\n",
       "    <tr>\n",
       "      <th>4</th>\n",
       "      <td>EXCEPTIONAL CLEARANCE</td>\n",
       "      <td>28</td>\n",
       "    </tr>\n",
       "    <tr>\n",
       "      <th>5</th>\n",
       "      <td>ARREST, CITED</td>\n",
       "      <td>18</td>\n",
       "    </tr>\n",
       "    <tr>\n",
       "      <th>6</th>\n",
       "      <td>CLEARED-CONTACT JUVENILE FOR MORE INFO</td>\n",
       "      <td>5</td>\n",
       "    </tr>\n",
       "    <tr>\n",
       "      <th>7</th>\n",
       "      <td>LOCATED</td>\n",
       "      <td>3</td>\n",
       "    </tr>\n",
       "    <tr>\n",
       "      <th>8</th>\n",
       "      <td>COMPLAINANT REFUSES TO PROSECUTE</td>\n",
       "      <td>1</td>\n",
       "    </tr>\n",
       "    <tr>\n",
       "      <th>9</th>\n",
       "      <td>JUVENILE DIVERTED</td>\n",
       "      <td>1</td>\n",
       "    </tr>\n",
       "    <tr>\n",
       "      <th>10</th>\n",
       "      <td>NOT PROSECUTED</td>\n",
       "      <td>1</td>\n",
       "    </tr>\n",
       "    <tr>\n",
       "      <th>11</th>\n",
       "      <td>PSYCHOPATHIC CASE</td>\n",
       "      <td>1</td>\n",
       "    </tr>\n",
       "  </tbody>\n",
       "</table>\n",
       "</div>"
      ],
      "text/plain": [
       "                                Resolution  Number\n",
       "0                                     NONE    6390\n",
       "1                           ARREST, BOOKED    3356\n",
       "2                                UNFOUNDED     159\n",
       "3                          JUVENILE BOOKED      56\n",
       "4                    EXCEPTIONAL CLEARANCE      28\n",
       "5                            ARREST, CITED      18\n",
       "6   CLEARED-CONTACT JUVENILE FOR MORE INFO       5\n",
       "7                                  LOCATED       3\n",
       "8         COMPLAINANT REFUSES TO PROSECUTE       1\n",
       "9                        JUVENILE DIVERTED       1\n",
       "10                          NOT PROSECUTED       1\n",
       "11                       PSYCHOPATHIC CASE       1"
      ]
     },
     "execution_count": 103,
     "metadata": {},
     "output_type": "execute_result"
    }
   ],
   "source": [
    "df1 = df.value_counts('Resolution').reset_index()\n",
    "df1.columns = ['Resolution','Number']\n",
    "df1"
   ]
  },
  {
   "cell_type": "code",
   "execution_count": 104,
   "metadata": {},
   "outputs": [
    {
     "data": {
      "application/vnd.plotly.v1+json": {
       "config": {
        "plotlyServerURL": "https://plot.ly"
       },
       "data": [
        {
         "domain": {
          "x": [
           0,
           1
          ],
          "y": [
           0,
           1
          ]
         },
         "hovertemplate": "Resolution=%{label}<br>Number=%{value}<extra></extra>",
         "labels": [
          "NONE",
          "ARREST, BOOKED",
          "UNFOUNDED",
          "JUVENILE BOOKED",
          "EXCEPTIONAL CLEARANCE",
          "ARREST, CITED"
         ],
         "legendgroup": "",
         "name": "",
         "showlegend": true,
         "type": "pie",
         "values": [
          6390,
          3356,
          159,
          56,
          28,
          18
         ]
        }
       ],
       "layout": {
        "legend": {
         "tracegroupgap": 0
        },
        "margin": {
         "t": 60
        },
        "template": {
         "data": {
          "bar": [
           {
            "error_x": {
             "color": "#2a3f5f"
            },
            "error_y": {
             "color": "#2a3f5f"
            },
            "marker": {
             "line": {
              "color": "#E5ECF6",
              "width": 0.5
             },
             "pattern": {
              "fillmode": "overlay",
              "size": 10,
              "solidity": 0.2
             }
            },
            "type": "bar"
           }
          ],
          "barpolar": [
           {
            "marker": {
             "line": {
              "color": "#E5ECF6",
              "width": 0.5
             },
             "pattern": {
              "fillmode": "overlay",
              "size": 10,
              "solidity": 0.2
             }
            },
            "type": "barpolar"
           }
          ],
          "carpet": [
           {
            "aaxis": {
             "endlinecolor": "#2a3f5f",
             "gridcolor": "white",
             "linecolor": "white",
             "minorgridcolor": "white",
             "startlinecolor": "#2a3f5f"
            },
            "baxis": {
             "endlinecolor": "#2a3f5f",
             "gridcolor": "white",
             "linecolor": "white",
             "minorgridcolor": "white",
             "startlinecolor": "#2a3f5f"
            },
            "type": "carpet"
           }
          ],
          "choropleth": [
           {
            "colorbar": {
             "outlinewidth": 0,
             "ticks": ""
            },
            "type": "choropleth"
           }
          ],
          "contour": [
           {
            "colorbar": {
             "outlinewidth": 0,
             "ticks": ""
            },
            "colorscale": [
             [
              0,
              "#0d0887"
             ],
             [
              0.1111111111111111,
              "#46039f"
             ],
             [
              0.2222222222222222,
              "#7201a8"
             ],
             [
              0.3333333333333333,
              "#9c179e"
             ],
             [
              0.4444444444444444,
              "#bd3786"
             ],
             [
              0.5555555555555556,
              "#d8576b"
             ],
             [
              0.6666666666666666,
              "#ed7953"
             ],
             [
              0.7777777777777778,
              "#fb9f3a"
             ],
             [
              0.8888888888888888,
              "#fdca26"
             ],
             [
              1,
              "#f0f921"
             ]
            ],
            "type": "contour"
           }
          ],
          "contourcarpet": [
           {
            "colorbar": {
             "outlinewidth": 0,
             "ticks": ""
            },
            "type": "contourcarpet"
           }
          ],
          "heatmap": [
           {
            "colorbar": {
             "outlinewidth": 0,
             "ticks": ""
            },
            "colorscale": [
             [
              0,
              "#0d0887"
             ],
             [
              0.1111111111111111,
              "#46039f"
             ],
             [
              0.2222222222222222,
              "#7201a8"
             ],
             [
              0.3333333333333333,
              "#9c179e"
             ],
             [
              0.4444444444444444,
              "#bd3786"
             ],
             [
              0.5555555555555556,
              "#d8576b"
             ],
             [
              0.6666666666666666,
              "#ed7953"
             ],
             [
              0.7777777777777778,
              "#fb9f3a"
             ],
             [
              0.8888888888888888,
              "#fdca26"
             ],
             [
              1,
              "#f0f921"
             ]
            ],
            "type": "heatmap"
           }
          ],
          "heatmapgl": [
           {
            "colorbar": {
             "outlinewidth": 0,
             "ticks": ""
            },
            "colorscale": [
             [
              0,
              "#0d0887"
             ],
             [
              0.1111111111111111,
              "#46039f"
             ],
             [
              0.2222222222222222,
              "#7201a8"
             ],
             [
              0.3333333333333333,
              "#9c179e"
             ],
             [
              0.4444444444444444,
              "#bd3786"
             ],
             [
              0.5555555555555556,
              "#d8576b"
             ],
             [
              0.6666666666666666,
              "#ed7953"
             ],
             [
              0.7777777777777778,
              "#fb9f3a"
             ],
             [
              0.8888888888888888,
              "#fdca26"
             ],
             [
              1,
              "#f0f921"
             ]
            ],
            "type": "heatmapgl"
           }
          ],
          "histogram": [
           {
            "marker": {
             "pattern": {
              "fillmode": "overlay",
              "size": 10,
              "solidity": 0.2
             }
            },
            "type": "histogram"
           }
          ],
          "histogram2d": [
           {
            "colorbar": {
             "outlinewidth": 0,
             "ticks": ""
            },
            "colorscale": [
             [
              0,
              "#0d0887"
             ],
             [
              0.1111111111111111,
              "#46039f"
             ],
             [
              0.2222222222222222,
              "#7201a8"
             ],
             [
              0.3333333333333333,
              "#9c179e"
             ],
             [
              0.4444444444444444,
              "#bd3786"
             ],
             [
              0.5555555555555556,
              "#d8576b"
             ],
             [
              0.6666666666666666,
              "#ed7953"
             ],
             [
              0.7777777777777778,
              "#fb9f3a"
             ],
             [
              0.8888888888888888,
              "#fdca26"
             ],
             [
              1,
              "#f0f921"
             ]
            ],
            "type": "histogram2d"
           }
          ],
          "histogram2dcontour": [
           {
            "colorbar": {
             "outlinewidth": 0,
             "ticks": ""
            },
            "colorscale": [
             [
              0,
              "#0d0887"
             ],
             [
              0.1111111111111111,
              "#46039f"
             ],
             [
              0.2222222222222222,
              "#7201a8"
             ],
             [
              0.3333333333333333,
              "#9c179e"
             ],
             [
              0.4444444444444444,
              "#bd3786"
             ],
             [
              0.5555555555555556,
              "#d8576b"
             ],
             [
              0.6666666666666666,
              "#ed7953"
             ],
             [
              0.7777777777777778,
              "#fb9f3a"
             ],
             [
              0.8888888888888888,
              "#fdca26"
             ],
             [
              1,
              "#f0f921"
             ]
            ],
            "type": "histogram2dcontour"
           }
          ],
          "mesh3d": [
           {
            "colorbar": {
             "outlinewidth": 0,
             "ticks": ""
            },
            "type": "mesh3d"
           }
          ],
          "parcoords": [
           {
            "line": {
             "colorbar": {
              "outlinewidth": 0,
              "ticks": ""
             }
            },
            "type": "parcoords"
           }
          ],
          "pie": [
           {
            "automargin": true,
            "type": "pie"
           }
          ],
          "scatter": [
           {
            "fillpattern": {
             "fillmode": "overlay",
             "size": 10,
             "solidity": 0.2
            },
            "type": "scatter"
           }
          ],
          "scatter3d": [
           {
            "line": {
             "colorbar": {
              "outlinewidth": 0,
              "ticks": ""
             }
            },
            "marker": {
             "colorbar": {
              "outlinewidth": 0,
              "ticks": ""
             }
            },
            "type": "scatter3d"
           }
          ],
          "scattercarpet": [
           {
            "marker": {
             "colorbar": {
              "outlinewidth": 0,
              "ticks": ""
             }
            },
            "type": "scattercarpet"
           }
          ],
          "scattergeo": [
           {
            "marker": {
             "colorbar": {
              "outlinewidth": 0,
              "ticks": ""
             }
            },
            "type": "scattergeo"
           }
          ],
          "scattergl": [
           {
            "marker": {
             "colorbar": {
              "outlinewidth": 0,
              "ticks": ""
             }
            },
            "type": "scattergl"
           }
          ],
          "scattermapbox": [
           {
            "marker": {
             "colorbar": {
              "outlinewidth": 0,
              "ticks": ""
             }
            },
            "type": "scattermapbox"
           }
          ],
          "scatterpolar": [
           {
            "marker": {
             "colorbar": {
              "outlinewidth": 0,
              "ticks": ""
             }
            },
            "type": "scatterpolar"
           }
          ],
          "scatterpolargl": [
           {
            "marker": {
             "colorbar": {
              "outlinewidth": 0,
              "ticks": ""
             }
            },
            "type": "scatterpolargl"
           }
          ],
          "scatterternary": [
           {
            "marker": {
             "colorbar": {
              "outlinewidth": 0,
              "ticks": ""
             }
            },
            "type": "scatterternary"
           }
          ],
          "surface": [
           {
            "colorbar": {
             "outlinewidth": 0,
             "ticks": ""
            },
            "colorscale": [
             [
              0,
              "#0d0887"
             ],
             [
              0.1111111111111111,
              "#46039f"
             ],
             [
              0.2222222222222222,
              "#7201a8"
             ],
             [
              0.3333333333333333,
              "#9c179e"
             ],
             [
              0.4444444444444444,
              "#bd3786"
             ],
             [
              0.5555555555555556,
              "#d8576b"
             ],
             [
              0.6666666666666666,
              "#ed7953"
             ],
             [
              0.7777777777777778,
              "#fb9f3a"
             ],
             [
              0.8888888888888888,
              "#fdca26"
             ],
             [
              1,
              "#f0f921"
             ]
            ],
            "type": "surface"
           }
          ],
          "table": [
           {
            "cells": {
             "fill": {
              "color": "#EBF0F8"
             },
             "line": {
              "color": "white"
             }
            },
            "header": {
             "fill": {
              "color": "#C8D4E3"
             },
             "line": {
              "color": "white"
             }
            },
            "type": "table"
           }
          ]
         },
         "layout": {
          "annotationdefaults": {
           "arrowcolor": "#2a3f5f",
           "arrowhead": 0,
           "arrowwidth": 1
          },
          "autotypenumbers": "strict",
          "coloraxis": {
           "colorbar": {
            "outlinewidth": 0,
            "ticks": ""
           }
          },
          "colorscale": {
           "diverging": [
            [
             0,
             "#8e0152"
            ],
            [
             0.1,
             "#c51b7d"
            ],
            [
             0.2,
             "#de77ae"
            ],
            [
             0.3,
             "#f1b6da"
            ],
            [
             0.4,
             "#fde0ef"
            ],
            [
             0.5,
             "#f7f7f7"
            ],
            [
             0.6,
             "#e6f5d0"
            ],
            [
             0.7,
             "#b8e186"
            ],
            [
             0.8,
             "#7fbc41"
            ],
            [
             0.9,
             "#4d9221"
            ],
            [
             1,
             "#276419"
            ]
           ],
           "sequential": [
            [
             0,
             "#0d0887"
            ],
            [
             0.1111111111111111,
             "#46039f"
            ],
            [
             0.2222222222222222,
             "#7201a8"
            ],
            [
             0.3333333333333333,
             "#9c179e"
            ],
            [
             0.4444444444444444,
             "#bd3786"
            ],
            [
             0.5555555555555556,
             "#d8576b"
            ],
            [
             0.6666666666666666,
             "#ed7953"
            ],
            [
             0.7777777777777778,
             "#fb9f3a"
            ],
            [
             0.8888888888888888,
             "#fdca26"
            ],
            [
             1,
             "#f0f921"
            ]
           ],
           "sequentialminus": [
            [
             0,
             "#0d0887"
            ],
            [
             0.1111111111111111,
             "#46039f"
            ],
            [
             0.2222222222222222,
             "#7201a8"
            ],
            [
             0.3333333333333333,
             "#9c179e"
            ],
            [
             0.4444444444444444,
             "#bd3786"
            ],
            [
             0.5555555555555556,
             "#d8576b"
            ],
            [
             0.6666666666666666,
             "#ed7953"
            ],
            [
             0.7777777777777778,
             "#fb9f3a"
            ],
            [
             0.8888888888888888,
             "#fdca26"
            ],
            [
             1,
             "#f0f921"
            ]
           ]
          },
          "colorway": [
           "#636efa",
           "#EF553B",
           "#00cc96",
           "#ab63fa",
           "#FFA15A",
           "#19d3f3",
           "#FF6692",
           "#B6E880",
           "#FF97FF",
           "#FECB52"
          ],
          "font": {
           "color": "#2a3f5f"
          },
          "geo": {
           "bgcolor": "white",
           "lakecolor": "white",
           "landcolor": "#E5ECF6",
           "showlakes": true,
           "showland": true,
           "subunitcolor": "white"
          },
          "hoverlabel": {
           "align": "left"
          },
          "hovermode": "closest",
          "mapbox": {
           "style": "light"
          },
          "paper_bgcolor": "white",
          "plot_bgcolor": "#E5ECF6",
          "polar": {
           "angularaxis": {
            "gridcolor": "white",
            "linecolor": "white",
            "ticks": ""
           },
           "bgcolor": "#E5ECF6",
           "radialaxis": {
            "gridcolor": "white",
            "linecolor": "white",
            "ticks": ""
           }
          },
          "scene": {
           "xaxis": {
            "backgroundcolor": "#E5ECF6",
            "gridcolor": "white",
            "gridwidth": 2,
            "linecolor": "white",
            "showbackground": true,
            "ticks": "",
            "zerolinecolor": "white"
           },
           "yaxis": {
            "backgroundcolor": "#E5ECF6",
            "gridcolor": "white",
            "gridwidth": 2,
            "linecolor": "white",
            "showbackground": true,
            "ticks": "",
            "zerolinecolor": "white"
           },
           "zaxis": {
            "backgroundcolor": "#E5ECF6",
            "gridcolor": "white",
            "gridwidth": 2,
            "linecolor": "white",
            "showbackground": true,
            "ticks": "",
            "zerolinecolor": "white"
           }
          },
          "shapedefaults": {
           "line": {
            "color": "#2a3f5f"
           }
          },
          "ternary": {
           "aaxis": {
            "gridcolor": "white",
            "linecolor": "white",
            "ticks": ""
           },
           "baxis": {
            "gridcolor": "white",
            "linecolor": "white",
            "ticks": ""
           },
           "bgcolor": "#E5ECF6",
           "caxis": {
            "gridcolor": "white",
            "linecolor": "white",
            "ticks": ""
           }
          },
          "title": {
           "x": 0.05
          },
          "xaxis": {
           "automargin": true,
           "gridcolor": "white",
           "linecolor": "white",
           "ticks": "",
           "title": {
            "standoff": 15
           },
           "zerolinecolor": "white",
           "zerolinewidth": 2
          },
          "yaxis": {
           "automargin": true,
           "gridcolor": "white",
           "linecolor": "white",
           "ticks": "",
           "title": {
            "standoff": 15
           },
           "zerolinecolor": "white",
           "zerolinewidth": 2
          }
         }
        }
       }
      }
     },
     "metadata": {},
     "output_type": "display_data"
    }
   ],
   "source": [
    "Resolution_5 = df1.head(6)\n",
    "px.pie(Resolution_5,'Resolution','Number') "
   ]
  },
  {
   "cell_type": "code",
   "execution_count": 105,
   "metadata": {},
   "outputs": [
    {
     "data": {
      "text/html": [
       "<div>\n",
       "<style scoped>\n",
       "    .dataframe tbody tr th:only-of-type {\n",
       "        vertical-align: middle;\n",
       "    }\n",
       "\n",
       "    .dataframe tbody tr th {\n",
       "        vertical-align: top;\n",
       "    }\n",
       "\n",
       "    .dataframe thead th {\n",
       "        text-align: right;\n",
       "    }\n",
       "</style>\n",
       "<table border=\"1\" class=\"dataframe\">\n",
       "  <thead>\n",
       "    <tr style=\"text-align: right;\">\n",
       "      <th></th>\n",
       "      <th>Category</th>\n",
       "      <th>Values</th>\n",
       "    </tr>\n",
       "  </thead>\n",
       "  <tbody>\n",
       "    <tr>\n",
       "      <th>0</th>\n",
       "      <td>OTHER OFFENSES</td>\n",
       "      <td>32</td>\n",
       "    </tr>\n",
       "    <tr>\n",
       "      <th>1</th>\n",
       "      <td>LARCENY/THEFT</td>\n",
       "      <td>25</td>\n",
       "    </tr>\n",
       "    <tr>\n",
       "      <th>2</th>\n",
       "      <td>ASSAULT</td>\n",
       "      <td>18</td>\n",
       "    </tr>\n",
       "    <tr>\n",
       "      <th>3</th>\n",
       "      <td>NON-CRIMINAL</td>\n",
       "      <td>16</td>\n",
       "    </tr>\n",
       "    <tr>\n",
       "      <th>4</th>\n",
       "      <td>VEHICLE THEFT</td>\n",
       "      <td>12</td>\n",
       "    </tr>\n",
       "    <tr>\n",
       "      <th>5</th>\n",
       "      <td>VANDALISM</td>\n",
       "      <td>12</td>\n",
       "    </tr>\n",
       "    <tr>\n",
       "      <th>6</th>\n",
       "      <td>DRUG/NARCOTIC</td>\n",
       "      <td>10</td>\n",
       "    </tr>\n",
       "    <tr>\n",
       "      <th>7</th>\n",
       "      <td>SUSPICIOUS OCC</td>\n",
       "      <td>10</td>\n",
       "    </tr>\n",
       "    <tr>\n",
       "      <th>8</th>\n",
       "      <td>BURGLARY</td>\n",
       "      <td>9</td>\n",
       "    </tr>\n",
       "    <tr>\n",
       "      <th>9</th>\n",
       "      <td>WARRANTS</td>\n",
       "      <td>8</td>\n",
       "    </tr>\n",
       "    <tr>\n",
       "      <th>10</th>\n",
       "      <td>MISSING PERSON</td>\n",
       "      <td>7</td>\n",
       "    </tr>\n",
       "    <tr>\n",
       "      <th>11</th>\n",
       "      <td>WEAPON LAWS</td>\n",
       "      <td>6</td>\n",
       "    </tr>\n",
       "    <tr>\n",
       "      <th>12</th>\n",
       "      <td>ROBBERY</td>\n",
       "      <td>5</td>\n",
       "    </tr>\n",
       "    <tr>\n",
       "      <th>13</th>\n",
       "      <td>SECONDARY CODES</td>\n",
       "      <td>5</td>\n",
       "    </tr>\n",
       "    <tr>\n",
       "      <th>14</th>\n",
       "      <td>PROSTITUTION</td>\n",
       "      <td>4</td>\n",
       "    </tr>\n",
       "    <tr>\n",
       "      <th>15</th>\n",
       "      <td>TRESPASS</td>\n",
       "      <td>2</td>\n",
       "    </tr>\n",
       "    <tr>\n",
       "      <th>16</th>\n",
       "      <td>FRAUD</td>\n",
       "      <td>1</td>\n",
       "    </tr>\n",
       "  </tbody>\n",
       "</table>\n",
       "</div>"
      ],
      "text/plain": [
       "           Category  Values\n",
       "0    OTHER OFFENSES      32\n",
       "1     LARCENY/THEFT      25\n",
       "2           ASSAULT      18\n",
       "3      NON-CRIMINAL      16\n",
       "4     VEHICLE THEFT      12\n",
       "5         VANDALISM      12\n",
       "6     DRUG/NARCOTIC      10\n",
       "7    SUSPICIOUS OCC      10\n",
       "8          BURGLARY       9\n",
       "9          WARRANTS       8\n",
       "10   MISSING PERSON       7\n",
       "11      WEAPON LAWS       6\n",
       "12          ROBBERY       5\n",
       "13  SECONDARY CODES       5\n",
       "14     PROSTITUTION       4\n",
       "15         TRESPASS       2\n",
       "16            FRAUD       1"
      ]
     },
     "execution_count": 105,
     "metadata": {},
     "output_type": "execute_result"
    }
   ],
   "source": [
    "# how to get only november entry\n",
    "date = df[df.Date.dt.month == 10].Category.value_counts().reset_index()\n",
    "date.columns = ['Category','Values']\n",
    "date\n",
    "# Visualize the Data"
   ]
  },
  {
   "cell_type": "code",
   "execution_count": 106,
   "metadata": {},
   "outputs": [
    {
     "data": {
      "application/vnd.plotly.v1+json": {
       "config": {
        "plotlyServerURL": "https://plot.ly"
       },
       "data": [
        {
         "alignmentgroup": "True",
         "hovertemplate": "Category=%{x}<br>Values=%{y}<extra></extra>",
         "legendgroup": "",
         "marker": {
          "color": "#636efa",
          "pattern": {
           "shape": ""
          }
         },
         "name": "",
         "offsetgroup": "",
         "orientation": "v",
         "showlegend": false,
         "textposition": "auto",
         "type": "bar",
         "x": [
          "OTHER OFFENSES",
          "LARCENY/THEFT",
          "ASSAULT",
          "NON-CRIMINAL",
          "VEHICLE THEFT",
          "VANDALISM",
          "DRUG/NARCOTIC",
          "SUSPICIOUS OCC",
          "BURGLARY",
          "WARRANTS",
          "MISSING PERSON",
          "WEAPON LAWS",
          "ROBBERY",
          "SECONDARY CODES",
          "PROSTITUTION",
          "TRESPASS",
          "FRAUD"
         ],
         "xaxis": "x",
         "y": [
          32,
          25,
          18,
          16,
          12,
          12,
          10,
          10,
          9,
          8,
          7,
          6,
          5,
          5,
          4,
          2,
          1
         ],
         "yaxis": "y"
        }
       ],
       "layout": {
        "barmode": "relative",
        "legend": {
         "tracegroupgap": 0
        },
        "margin": {
         "t": 60
        },
        "template": {
         "data": {
          "bar": [
           {
            "error_x": {
             "color": "#2a3f5f"
            },
            "error_y": {
             "color": "#2a3f5f"
            },
            "marker": {
             "line": {
              "color": "#E5ECF6",
              "width": 0.5
             },
             "pattern": {
              "fillmode": "overlay",
              "size": 10,
              "solidity": 0.2
             }
            },
            "type": "bar"
           }
          ],
          "barpolar": [
           {
            "marker": {
             "line": {
              "color": "#E5ECF6",
              "width": 0.5
             },
             "pattern": {
              "fillmode": "overlay",
              "size": 10,
              "solidity": 0.2
             }
            },
            "type": "barpolar"
           }
          ],
          "carpet": [
           {
            "aaxis": {
             "endlinecolor": "#2a3f5f",
             "gridcolor": "white",
             "linecolor": "white",
             "minorgridcolor": "white",
             "startlinecolor": "#2a3f5f"
            },
            "baxis": {
             "endlinecolor": "#2a3f5f",
             "gridcolor": "white",
             "linecolor": "white",
             "minorgridcolor": "white",
             "startlinecolor": "#2a3f5f"
            },
            "type": "carpet"
           }
          ],
          "choropleth": [
           {
            "colorbar": {
             "outlinewidth": 0,
             "ticks": ""
            },
            "type": "choropleth"
           }
          ],
          "contour": [
           {
            "colorbar": {
             "outlinewidth": 0,
             "ticks": ""
            },
            "colorscale": [
             [
              0,
              "#0d0887"
             ],
             [
              0.1111111111111111,
              "#46039f"
             ],
             [
              0.2222222222222222,
              "#7201a8"
             ],
             [
              0.3333333333333333,
              "#9c179e"
             ],
             [
              0.4444444444444444,
              "#bd3786"
             ],
             [
              0.5555555555555556,
              "#d8576b"
             ],
             [
              0.6666666666666666,
              "#ed7953"
             ],
             [
              0.7777777777777778,
              "#fb9f3a"
             ],
             [
              0.8888888888888888,
              "#fdca26"
             ],
             [
              1,
              "#f0f921"
             ]
            ],
            "type": "contour"
           }
          ],
          "contourcarpet": [
           {
            "colorbar": {
             "outlinewidth": 0,
             "ticks": ""
            },
            "type": "contourcarpet"
           }
          ],
          "heatmap": [
           {
            "colorbar": {
             "outlinewidth": 0,
             "ticks": ""
            },
            "colorscale": [
             [
              0,
              "#0d0887"
             ],
             [
              0.1111111111111111,
              "#46039f"
             ],
             [
              0.2222222222222222,
              "#7201a8"
             ],
             [
              0.3333333333333333,
              "#9c179e"
             ],
             [
              0.4444444444444444,
              "#bd3786"
             ],
             [
              0.5555555555555556,
              "#d8576b"
             ],
             [
              0.6666666666666666,
              "#ed7953"
             ],
             [
              0.7777777777777778,
              "#fb9f3a"
             ],
             [
              0.8888888888888888,
              "#fdca26"
             ],
             [
              1,
              "#f0f921"
             ]
            ],
            "type": "heatmap"
           }
          ],
          "heatmapgl": [
           {
            "colorbar": {
             "outlinewidth": 0,
             "ticks": ""
            },
            "colorscale": [
             [
              0,
              "#0d0887"
             ],
             [
              0.1111111111111111,
              "#46039f"
             ],
             [
              0.2222222222222222,
              "#7201a8"
             ],
             [
              0.3333333333333333,
              "#9c179e"
             ],
             [
              0.4444444444444444,
              "#bd3786"
             ],
             [
              0.5555555555555556,
              "#d8576b"
             ],
             [
              0.6666666666666666,
              "#ed7953"
             ],
             [
              0.7777777777777778,
              "#fb9f3a"
             ],
             [
              0.8888888888888888,
              "#fdca26"
             ],
             [
              1,
              "#f0f921"
             ]
            ],
            "type": "heatmapgl"
           }
          ],
          "histogram": [
           {
            "marker": {
             "pattern": {
              "fillmode": "overlay",
              "size": 10,
              "solidity": 0.2
             }
            },
            "type": "histogram"
           }
          ],
          "histogram2d": [
           {
            "colorbar": {
             "outlinewidth": 0,
             "ticks": ""
            },
            "colorscale": [
             [
              0,
              "#0d0887"
             ],
             [
              0.1111111111111111,
              "#46039f"
             ],
             [
              0.2222222222222222,
              "#7201a8"
             ],
             [
              0.3333333333333333,
              "#9c179e"
             ],
             [
              0.4444444444444444,
              "#bd3786"
             ],
             [
              0.5555555555555556,
              "#d8576b"
             ],
             [
              0.6666666666666666,
              "#ed7953"
             ],
             [
              0.7777777777777778,
              "#fb9f3a"
             ],
             [
              0.8888888888888888,
              "#fdca26"
             ],
             [
              1,
              "#f0f921"
             ]
            ],
            "type": "histogram2d"
           }
          ],
          "histogram2dcontour": [
           {
            "colorbar": {
             "outlinewidth": 0,
             "ticks": ""
            },
            "colorscale": [
             [
              0,
              "#0d0887"
             ],
             [
              0.1111111111111111,
              "#46039f"
             ],
             [
              0.2222222222222222,
              "#7201a8"
             ],
             [
              0.3333333333333333,
              "#9c179e"
             ],
             [
              0.4444444444444444,
              "#bd3786"
             ],
             [
              0.5555555555555556,
              "#d8576b"
             ],
             [
              0.6666666666666666,
              "#ed7953"
             ],
             [
              0.7777777777777778,
              "#fb9f3a"
             ],
             [
              0.8888888888888888,
              "#fdca26"
             ],
             [
              1,
              "#f0f921"
             ]
            ],
            "type": "histogram2dcontour"
           }
          ],
          "mesh3d": [
           {
            "colorbar": {
             "outlinewidth": 0,
             "ticks": ""
            },
            "type": "mesh3d"
           }
          ],
          "parcoords": [
           {
            "line": {
             "colorbar": {
              "outlinewidth": 0,
              "ticks": ""
             }
            },
            "type": "parcoords"
           }
          ],
          "pie": [
           {
            "automargin": true,
            "type": "pie"
           }
          ],
          "scatter": [
           {
            "fillpattern": {
             "fillmode": "overlay",
             "size": 10,
             "solidity": 0.2
            },
            "type": "scatter"
           }
          ],
          "scatter3d": [
           {
            "line": {
             "colorbar": {
              "outlinewidth": 0,
              "ticks": ""
             }
            },
            "marker": {
             "colorbar": {
              "outlinewidth": 0,
              "ticks": ""
             }
            },
            "type": "scatter3d"
           }
          ],
          "scattercarpet": [
           {
            "marker": {
             "colorbar": {
              "outlinewidth": 0,
              "ticks": ""
             }
            },
            "type": "scattercarpet"
           }
          ],
          "scattergeo": [
           {
            "marker": {
             "colorbar": {
              "outlinewidth": 0,
              "ticks": ""
             }
            },
            "type": "scattergeo"
           }
          ],
          "scattergl": [
           {
            "marker": {
             "colorbar": {
              "outlinewidth": 0,
              "ticks": ""
             }
            },
            "type": "scattergl"
           }
          ],
          "scattermapbox": [
           {
            "marker": {
             "colorbar": {
              "outlinewidth": 0,
              "ticks": ""
             }
            },
            "type": "scattermapbox"
           }
          ],
          "scatterpolar": [
           {
            "marker": {
             "colorbar": {
              "outlinewidth": 0,
              "ticks": ""
             }
            },
            "type": "scatterpolar"
           }
          ],
          "scatterpolargl": [
           {
            "marker": {
             "colorbar": {
              "outlinewidth": 0,
              "ticks": ""
             }
            },
            "type": "scatterpolargl"
           }
          ],
          "scatterternary": [
           {
            "marker": {
             "colorbar": {
              "outlinewidth": 0,
              "ticks": ""
             }
            },
            "type": "scatterternary"
           }
          ],
          "surface": [
           {
            "colorbar": {
             "outlinewidth": 0,
             "ticks": ""
            },
            "colorscale": [
             [
              0,
              "#0d0887"
             ],
             [
              0.1111111111111111,
              "#46039f"
             ],
             [
              0.2222222222222222,
              "#7201a8"
             ],
             [
              0.3333333333333333,
              "#9c179e"
             ],
             [
              0.4444444444444444,
              "#bd3786"
             ],
             [
              0.5555555555555556,
              "#d8576b"
             ],
             [
              0.6666666666666666,
              "#ed7953"
             ],
             [
              0.7777777777777778,
              "#fb9f3a"
             ],
             [
              0.8888888888888888,
              "#fdca26"
             ],
             [
              1,
              "#f0f921"
             ]
            ],
            "type": "surface"
           }
          ],
          "table": [
           {
            "cells": {
             "fill": {
              "color": "#EBF0F8"
             },
             "line": {
              "color": "white"
             }
            },
            "header": {
             "fill": {
              "color": "#C8D4E3"
             },
             "line": {
              "color": "white"
             }
            },
            "type": "table"
           }
          ]
         },
         "layout": {
          "annotationdefaults": {
           "arrowcolor": "#2a3f5f",
           "arrowhead": 0,
           "arrowwidth": 1
          },
          "autotypenumbers": "strict",
          "coloraxis": {
           "colorbar": {
            "outlinewidth": 0,
            "ticks": ""
           }
          },
          "colorscale": {
           "diverging": [
            [
             0,
             "#8e0152"
            ],
            [
             0.1,
             "#c51b7d"
            ],
            [
             0.2,
             "#de77ae"
            ],
            [
             0.3,
             "#f1b6da"
            ],
            [
             0.4,
             "#fde0ef"
            ],
            [
             0.5,
             "#f7f7f7"
            ],
            [
             0.6,
             "#e6f5d0"
            ],
            [
             0.7,
             "#b8e186"
            ],
            [
             0.8,
             "#7fbc41"
            ],
            [
             0.9,
             "#4d9221"
            ],
            [
             1,
             "#276419"
            ]
           ],
           "sequential": [
            [
             0,
             "#0d0887"
            ],
            [
             0.1111111111111111,
             "#46039f"
            ],
            [
             0.2222222222222222,
             "#7201a8"
            ],
            [
             0.3333333333333333,
             "#9c179e"
            ],
            [
             0.4444444444444444,
             "#bd3786"
            ],
            [
             0.5555555555555556,
             "#d8576b"
            ],
            [
             0.6666666666666666,
             "#ed7953"
            ],
            [
             0.7777777777777778,
             "#fb9f3a"
            ],
            [
             0.8888888888888888,
             "#fdca26"
            ],
            [
             1,
             "#f0f921"
            ]
           ],
           "sequentialminus": [
            [
             0,
             "#0d0887"
            ],
            [
             0.1111111111111111,
             "#46039f"
            ],
            [
             0.2222222222222222,
             "#7201a8"
            ],
            [
             0.3333333333333333,
             "#9c179e"
            ],
            [
             0.4444444444444444,
             "#bd3786"
            ],
            [
             0.5555555555555556,
             "#d8576b"
            ],
            [
             0.6666666666666666,
             "#ed7953"
            ],
            [
             0.7777777777777778,
             "#fb9f3a"
            ],
            [
             0.8888888888888888,
             "#fdca26"
            ],
            [
             1,
             "#f0f921"
            ]
           ]
          },
          "colorway": [
           "#636efa",
           "#EF553B",
           "#00cc96",
           "#ab63fa",
           "#FFA15A",
           "#19d3f3",
           "#FF6692",
           "#B6E880",
           "#FF97FF",
           "#FECB52"
          ],
          "font": {
           "color": "#2a3f5f"
          },
          "geo": {
           "bgcolor": "white",
           "lakecolor": "white",
           "landcolor": "#E5ECF6",
           "showlakes": true,
           "showland": true,
           "subunitcolor": "white"
          },
          "hoverlabel": {
           "align": "left"
          },
          "hovermode": "closest",
          "mapbox": {
           "style": "light"
          },
          "paper_bgcolor": "white",
          "plot_bgcolor": "#E5ECF6",
          "polar": {
           "angularaxis": {
            "gridcolor": "white",
            "linecolor": "white",
            "ticks": ""
           },
           "bgcolor": "#E5ECF6",
           "radialaxis": {
            "gridcolor": "white",
            "linecolor": "white",
            "ticks": ""
           }
          },
          "scene": {
           "xaxis": {
            "backgroundcolor": "#E5ECF6",
            "gridcolor": "white",
            "gridwidth": 2,
            "linecolor": "white",
            "showbackground": true,
            "ticks": "",
            "zerolinecolor": "white"
           },
           "yaxis": {
            "backgroundcolor": "#E5ECF6",
            "gridcolor": "white",
            "gridwidth": 2,
            "linecolor": "white",
            "showbackground": true,
            "ticks": "",
            "zerolinecolor": "white"
           },
           "zaxis": {
            "backgroundcolor": "#E5ECF6",
            "gridcolor": "white",
            "gridwidth": 2,
            "linecolor": "white",
            "showbackground": true,
            "ticks": "",
            "zerolinecolor": "white"
           }
          },
          "shapedefaults": {
           "line": {
            "color": "#2a3f5f"
           }
          },
          "ternary": {
           "aaxis": {
            "gridcolor": "white",
            "linecolor": "white",
            "ticks": ""
           },
           "baxis": {
            "gridcolor": "white",
            "linecolor": "white",
            "ticks": ""
           },
           "bgcolor": "#E5ECF6",
           "caxis": {
            "gridcolor": "white",
            "linecolor": "white",
            "ticks": ""
           }
          },
          "title": {
           "x": 0.05
          },
          "xaxis": {
           "automargin": true,
           "gridcolor": "white",
           "linecolor": "white",
           "ticks": "",
           "title": {
            "standoff": 15
           },
           "zerolinecolor": "white",
           "zerolinewidth": 2
          },
          "yaxis": {
           "automargin": true,
           "gridcolor": "white",
           "linecolor": "white",
           "ticks": "",
           "title": {
            "standoff": 15
           },
           "zerolinecolor": "white",
           "zerolinewidth": 2
          }
         }
        },
        "xaxis": {
         "anchor": "y",
         "domain": [
          0,
          1
         ],
         "title": {
          "text": "Category"
         }
        },
        "yaxis": {
         "anchor": "x",
         "domain": [
          0,
          1
         ],
         "title": {
          "text": "Values"
         }
        }
       }
      }
     },
     "metadata": {},
     "output_type": "display_data"
    }
   ],
   "source": [
    "px.bar(date,'Category','Values')"
   ]
  },
  {
   "attachments": {},
   "cell_type": "markdown",
   "metadata": {},
   "source": [
    "### Group incident categories by months\n"
   ]
  },
  {
   "cell_type": "code",
   "execution_count": 107,
   "metadata": {},
   "outputs": [
    {
     "data": {
      "text/html": [
       "<div>\n",
       "<style scoped>\n",
       "    .dataframe tbody tr th:only-of-type {\n",
       "        vertical-align: middle;\n",
       "    }\n",
       "\n",
       "    .dataframe tbody tr th {\n",
       "        vertical-align: top;\n",
       "    }\n",
       "\n",
       "    .dataframe thead th {\n",
       "        text-align: right;\n",
       "    }\n",
       "</style>\n",
       "<table border=\"1\" class=\"dataframe\">\n",
       "  <thead>\n",
       "    <tr style=\"text-align: right;\">\n",
       "      <th></th>\n",
       "      <th>Month</th>\n",
       "      <th>Case_count</th>\n",
       "    </tr>\n",
       "  </thead>\n",
       "  <tbody>\n",
       "    <tr>\n",
       "      <th>0</th>\n",
       "      <td>1</td>\n",
       "      <td>2097</td>\n",
       "    </tr>\n",
       "    <tr>\n",
       "      <th>1</th>\n",
       "      <td>2</td>\n",
       "      <td>2387</td>\n",
       "    </tr>\n",
       "    <tr>\n",
       "      <th>2</th>\n",
       "      <td>3</td>\n",
       "      <td>3361</td>\n",
       "    </tr>\n",
       "    <tr>\n",
       "      <th>3</th>\n",
       "      <td>4</td>\n",
       "      <td>1334</td>\n",
       "    </tr>\n",
       "    <tr>\n",
       "      <th>4</th>\n",
       "      <td>5</td>\n",
       "      <td>82</td>\n",
       "    </tr>\n",
       "    <tr>\n",
       "      <th>5</th>\n",
       "      <td>6</td>\n",
       "      <td>111</td>\n",
       "    </tr>\n",
       "    <tr>\n",
       "      <th>6</th>\n",
       "      <td>7</td>\n",
       "      <td>149</td>\n",
       "    </tr>\n",
       "    <tr>\n",
       "      <th>7</th>\n",
       "      <td>8</td>\n",
       "      <td>160</td>\n",
       "    </tr>\n",
       "    <tr>\n",
       "      <th>8</th>\n",
       "      <td>9</td>\n",
       "      <td>138</td>\n",
       "    </tr>\n",
       "    <tr>\n",
       "      <th>9</th>\n",
       "      <td>10</td>\n",
       "      <td>182</td>\n",
       "    </tr>\n",
       "    <tr>\n",
       "      <th>10</th>\n",
       "      <td>11</td>\n",
       "      <td>13</td>\n",
       "    </tr>\n",
       "    <tr>\n",
       "      <th>11</th>\n",
       "      <td>12</td>\n",
       "      <td>5</td>\n",
       "    </tr>\n",
       "  </tbody>\n",
       "</table>\n",
       "</div>"
      ],
      "text/plain": [
       "    Month  Case_count\n",
       "0       1        2097\n",
       "1       2        2387\n",
       "2       3        3361\n",
       "3       4        1334\n",
       "4       5          82\n",
       "5       6         111\n",
       "6       7         149\n",
       "7       8         160\n",
       "8       9         138\n",
       "9      10         182\n",
       "10     11          13\n",
       "11     12           5"
      ]
     },
     "execution_count": 107,
     "metadata": {},
     "output_type": "execute_result"
    }
   ],
   "source": [
    "month_Wise_case = df.groupby(df.Date.dt.month)['Category'].count().reset_index()\n",
    "month_Wise_case.columns = ['Month','Case_count']\n",
    "month_Wise_case"
   ]
  },
  {
   "cell_type": "code",
   "execution_count": 108,
   "metadata": {},
   "outputs": [],
   "source": [
    "#def num_to_months(num):\n",
    "#      months = ['january','february','march','april','june','july','august','september','october','november','december']\n",
    "#     return months[num-1]"
   ]
  },
  {
   "cell_type": "code",
   "execution_count": 109,
   "metadata": {},
   "outputs": [],
   "source": [
    "def num_to_months(num):\n",
    "      months = ['january','february','march','april','may','june','july','august','september','october','november','december']\n",
    "      return months[num-1]"
   ]
  },
  {
   "cell_type": "code",
   "execution_count": 110,
   "metadata": {},
   "outputs": [],
   "source": [
    "month_Wise_case['Month'] = month_Wise_case['Month'].apply(num_to_months)\n"
   ]
  },
  {
   "cell_type": "code",
   "execution_count": 111,
   "metadata": {},
   "outputs": [
    {
     "data": {
      "application/vnd.plotly.v1+json": {
       "config": {
        "plotlyServerURL": "https://plot.ly"
       },
       "data": [
        {
         "alignmentgroup": "True",
         "hovertemplate": "Month=%{x}<br>Case_count=%{y}<extra></extra>",
         "legendgroup": "",
         "marker": {
          "color": "#636efa",
          "pattern": {
           "shape": ""
          }
         },
         "name": "",
         "offsetgroup": "",
         "orientation": "v",
         "showlegend": false,
         "textposition": "auto",
         "type": "bar",
         "x": [
          "january",
          "february",
          "march",
          "april",
          "may",
          "june",
          "july",
          "august",
          "september",
          "october",
          "november",
          "december"
         ],
         "xaxis": "x",
         "y": [
          2097,
          2387,
          3361,
          1334,
          82,
          111,
          149,
          160,
          138,
          182,
          13,
          5
         ],
         "yaxis": "y"
        }
       ],
       "layout": {
        "barmode": "relative",
        "legend": {
         "tracegroupgap": 0
        },
        "margin": {
         "t": 60
        },
        "template": {
         "data": {
          "bar": [
           {
            "error_x": {
             "color": "#2a3f5f"
            },
            "error_y": {
             "color": "#2a3f5f"
            },
            "marker": {
             "line": {
              "color": "#E5ECF6",
              "width": 0.5
             },
             "pattern": {
              "fillmode": "overlay",
              "size": 10,
              "solidity": 0.2
             }
            },
            "type": "bar"
           }
          ],
          "barpolar": [
           {
            "marker": {
             "line": {
              "color": "#E5ECF6",
              "width": 0.5
             },
             "pattern": {
              "fillmode": "overlay",
              "size": 10,
              "solidity": 0.2
             }
            },
            "type": "barpolar"
           }
          ],
          "carpet": [
           {
            "aaxis": {
             "endlinecolor": "#2a3f5f",
             "gridcolor": "white",
             "linecolor": "white",
             "minorgridcolor": "white",
             "startlinecolor": "#2a3f5f"
            },
            "baxis": {
             "endlinecolor": "#2a3f5f",
             "gridcolor": "white",
             "linecolor": "white",
             "minorgridcolor": "white",
             "startlinecolor": "#2a3f5f"
            },
            "type": "carpet"
           }
          ],
          "choropleth": [
           {
            "colorbar": {
             "outlinewidth": 0,
             "ticks": ""
            },
            "type": "choropleth"
           }
          ],
          "contour": [
           {
            "colorbar": {
             "outlinewidth": 0,
             "ticks": ""
            },
            "colorscale": [
             [
              0,
              "#0d0887"
             ],
             [
              0.1111111111111111,
              "#46039f"
             ],
             [
              0.2222222222222222,
              "#7201a8"
             ],
             [
              0.3333333333333333,
              "#9c179e"
             ],
             [
              0.4444444444444444,
              "#bd3786"
             ],
             [
              0.5555555555555556,
              "#d8576b"
             ],
             [
              0.6666666666666666,
              "#ed7953"
             ],
             [
              0.7777777777777778,
              "#fb9f3a"
             ],
             [
              0.8888888888888888,
              "#fdca26"
             ],
             [
              1,
              "#f0f921"
             ]
            ],
            "type": "contour"
           }
          ],
          "contourcarpet": [
           {
            "colorbar": {
             "outlinewidth": 0,
             "ticks": ""
            },
            "type": "contourcarpet"
           }
          ],
          "heatmap": [
           {
            "colorbar": {
             "outlinewidth": 0,
             "ticks": ""
            },
            "colorscale": [
             [
              0,
              "#0d0887"
             ],
             [
              0.1111111111111111,
              "#46039f"
             ],
             [
              0.2222222222222222,
              "#7201a8"
             ],
             [
              0.3333333333333333,
              "#9c179e"
             ],
             [
              0.4444444444444444,
              "#bd3786"
             ],
             [
              0.5555555555555556,
              "#d8576b"
             ],
             [
              0.6666666666666666,
              "#ed7953"
             ],
             [
              0.7777777777777778,
              "#fb9f3a"
             ],
             [
              0.8888888888888888,
              "#fdca26"
             ],
             [
              1,
              "#f0f921"
             ]
            ],
            "type": "heatmap"
           }
          ],
          "heatmapgl": [
           {
            "colorbar": {
             "outlinewidth": 0,
             "ticks": ""
            },
            "colorscale": [
             [
              0,
              "#0d0887"
             ],
             [
              0.1111111111111111,
              "#46039f"
             ],
             [
              0.2222222222222222,
              "#7201a8"
             ],
             [
              0.3333333333333333,
              "#9c179e"
             ],
             [
              0.4444444444444444,
              "#bd3786"
             ],
             [
              0.5555555555555556,
              "#d8576b"
             ],
             [
              0.6666666666666666,
              "#ed7953"
             ],
             [
              0.7777777777777778,
              "#fb9f3a"
             ],
             [
              0.8888888888888888,
              "#fdca26"
             ],
             [
              1,
              "#f0f921"
             ]
            ],
            "type": "heatmapgl"
           }
          ],
          "histogram": [
           {
            "marker": {
             "pattern": {
              "fillmode": "overlay",
              "size": 10,
              "solidity": 0.2
             }
            },
            "type": "histogram"
           }
          ],
          "histogram2d": [
           {
            "colorbar": {
             "outlinewidth": 0,
             "ticks": ""
            },
            "colorscale": [
             [
              0,
              "#0d0887"
             ],
             [
              0.1111111111111111,
              "#46039f"
             ],
             [
              0.2222222222222222,
              "#7201a8"
             ],
             [
              0.3333333333333333,
              "#9c179e"
             ],
             [
              0.4444444444444444,
              "#bd3786"
             ],
             [
              0.5555555555555556,
              "#d8576b"
             ],
             [
              0.6666666666666666,
              "#ed7953"
             ],
             [
              0.7777777777777778,
              "#fb9f3a"
             ],
             [
              0.8888888888888888,
              "#fdca26"
             ],
             [
              1,
              "#f0f921"
             ]
            ],
            "type": "histogram2d"
           }
          ],
          "histogram2dcontour": [
           {
            "colorbar": {
             "outlinewidth": 0,
             "ticks": ""
            },
            "colorscale": [
             [
              0,
              "#0d0887"
             ],
             [
              0.1111111111111111,
              "#46039f"
             ],
             [
              0.2222222222222222,
              "#7201a8"
             ],
             [
              0.3333333333333333,
              "#9c179e"
             ],
             [
              0.4444444444444444,
              "#bd3786"
             ],
             [
              0.5555555555555556,
              "#d8576b"
             ],
             [
              0.6666666666666666,
              "#ed7953"
             ],
             [
              0.7777777777777778,
              "#fb9f3a"
             ],
             [
              0.8888888888888888,
              "#fdca26"
             ],
             [
              1,
              "#f0f921"
             ]
            ],
            "type": "histogram2dcontour"
           }
          ],
          "mesh3d": [
           {
            "colorbar": {
             "outlinewidth": 0,
             "ticks": ""
            },
            "type": "mesh3d"
           }
          ],
          "parcoords": [
           {
            "line": {
             "colorbar": {
              "outlinewidth": 0,
              "ticks": ""
             }
            },
            "type": "parcoords"
           }
          ],
          "pie": [
           {
            "automargin": true,
            "type": "pie"
           }
          ],
          "scatter": [
           {
            "fillpattern": {
             "fillmode": "overlay",
             "size": 10,
             "solidity": 0.2
            },
            "type": "scatter"
           }
          ],
          "scatter3d": [
           {
            "line": {
             "colorbar": {
              "outlinewidth": 0,
              "ticks": ""
             }
            },
            "marker": {
             "colorbar": {
              "outlinewidth": 0,
              "ticks": ""
             }
            },
            "type": "scatter3d"
           }
          ],
          "scattercarpet": [
           {
            "marker": {
             "colorbar": {
              "outlinewidth": 0,
              "ticks": ""
             }
            },
            "type": "scattercarpet"
           }
          ],
          "scattergeo": [
           {
            "marker": {
             "colorbar": {
              "outlinewidth": 0,
              "ticks": ""
             }
            },
            "type": "scattergeo"
           }
          ],
          "scattergl": [
           {
            "marker": {
             "colorbar": {
              "outlinewidth": 0,
              "ticks": ""
             }
            },
            "type": "scattergl"
           }
          ],
          "scattermapbox": [
           {
            "marker": {
             "colorbar": {
              "outlinewidth": 0,
              "ticks": ""
             }
            },
            "type": "scattermapbox"
           }
          ],
          "scatterpolar": [
           {
            "marker": {
             "colorbar": {
              "outlinewidth": 0,
              "ticks": ""
             }
            },
            "type": "scatterpolar"
           }
          ],
          "scatterpolargl": [
           {
            "marker": {
             "colorbar": {
              "outlinewidth": 0,
              "ticks": ""
             }
            },
            "type": "scatterpolargl"
           }
          ],
          "scatterternary": [
           {
            "marker": {
             "colorbar": {
              "outlinewidth": 0,
              "ticks": ""
             }
            },
            "type": "scatterternary"
           }
          ],
          "surface": [
           {
            "colorbar": {
             "outlinewidth": 0,
             "ticks": ""
            },
            "colorscale": [
             [
              0,
              "#0d0887"
             ],
             [
              0.1111111111111111,
              "#46039f"
             ],
             [
              0.2222222222222222,
              "#7201a8"
             ],
             [
              0.3333333333333333,
              "#9c179e"
             ],
             [
              0.4444444444444444,
              "#bd3786"
             ],
             [
              0.5555555555555556,
              "#d8576b"
             ],
             [
              0.6666666666666666,
              "#ed7953"
             ],
             [
              0.7777777777777778,
              "#fb9f3a"
             ],
             [
              0.8888888888888888,
              "#fdca26"
             ],
             [
              1,
              "#f0f921"
             ]
            ],
            "type": "surface"
           }
          ],
          "table": [
           {
            "cells": {
             "fill": {
              "color": "#EBF0F8"
             },
             "line": {
              "color": "white"
             }
            },
            "header": {
             "fill": {
              "color": "#C8D4E3"
             },
             "line": {
              "color": "white"
             }
            },
            "type": "table"
           }
          ]
         },
         "layout": {
          "annotationdefaults": {
           "arrowcolor": "#2a3f5f",
           "arrowhead": 0,
           "arrowwidth": 1
          },
          "autotypenumbers": "strict",
          "coloraxis": {
           "colorbar": {
            "outlinewidth": 0,
            "ticks": ""
           }
          },
          "colorscale": {
           "diverging": [
            [
             0,
             "#8e0152"
            ],
            [
             0.1,
             "#c51b7d"
            ],
            [
             0.2,
             "#de77ae"
            ],
            [
             0.3,
             "#f1b6da"
            ],
            [
             0.4,
             "#fde0ef"
            ],
            [
             0.5,
             "#f7f7f7"
            ],
            [
             0.6,
             "#e6f5d0"
            ],
            [
             0.7,
             "#b8e186"
            ],
            [
             0.8,
             "#7fbc41"
            ],
            [
             0.9,
             "#4d9221"
            ],
            [
             1,
             "#276419"
            ]
           ],
           "sequential": [
            [
             0,
             "#0d0887"
            ],
            [
             0.1111111111111111,
             "#46039f"
            ],
            [
             0.2222222222222222,
             "#7201a8"
            ],
            [
             0.3333333333333333,
             "#9c179e"
            ],
            [
             0.4444444444444444,
             "#bd3786"
            ],
            [
             0.5555555555555556,
             "#d8576b"
            ],
            [
             0.6666666666666666,
             "#ed7953"
            ],
            [
             0.7777777777777778,
             "#fb9f3a"
            ],
            [
             0.8888888888888888,
             "#fdca26"
            ],
            [
             1,
             "#f0f921"
            ]
           ],
           "sequentialminus": [
            [
             0,
             "#0d0887"
            ],
            [
             0.1111111111111111,
             "#46039f"
            ],
            [
             0.2222222222222222,
             "#7201a8"
            ],
            [
             0.3333333333333333,
             "#9c179e"
            ],
            [
             0.4444444444444444,
             "#bd3786"
            ],
            [
             0.5555555555555556,
             "#d8576b"
            ],
            [
             0.6666666666666666,
             "#ed7953"
            ],
            [
             0.7777777777777778,
             "#fb9f3a"
            ],
            [
             0.8888888888888888,
             "#fdca26"
            ],
            [
             1,
             "#f0f921"
            ]
           ]
          },
          "colorway": [
           "#636efa",
           "#EF553B",
           "#00cc96",
           "#ab63fa",
           "#FFA15A",
           "#19d3f3",
           "#FF6692",
           "#B6E880",
           "#FF97FF",
           "#FECB52"
          ],
          "font": {
           "color": "#2a3f5f"
          },
          "geo": {
           "bgcolor": "white",
           "lakecolor": "white",
           "landcolor": "#E5ECF6",
           "showlakes": true,
           "showland": true,
           "subunitcolor": "white"
          },
          "hoverlabel": {
           "align": "left"
          },
          "hovermode": "closest",
          "mapbox": {
           "style": "light"
          },
          "paper_bgcolor": "white",
          "plot_bgcolor": "#E5ECF6",
          "polar": {
           "angularaxis": {
            "gridcolor": "white",
            "linecolor": "white",
            "ticks": ""
           },
           "bgcolor": "#E5ECF6",
           "radialaxis": {
            "gridcolor": "white",
            "linecolor": "white",
            "ticks": ""
           }
          },
          "scene": {
           "xaxis": {
            "backgroundcolor": "#E5ECF6",
            "gridcolor": "white",
            "gridwidth": 2,
            "linecolor": "white",
            "showbackground": true,
            "ticks": "",
            "zerolinecolor": "white"
           },
           "yaxis": {
            "backgroundcolor": "#E5ECF6",
            "gridcolor": "white",
            "gridwidth": 2,
            "linecolor": "white",
            "showbackground": true,
            "ticks": "",
            "zerolinecolor": "white"
           },
           "zaxis": {
            "backgroundcolor": "#E5ECF6",
            "gridcolor": "white",
            "gridwidth": 2,
            "linecolor": "white",
            "showbackground": true,
            "ticks": "",
            "zerolinecolor": "white"
           }
          },
          "shapedefaults": {
           "line": {
            "color": "#2a3f5f"
           }
          },
          "ternary": {
           "aaxis": {
            "gridcolor": "white",
            "linecolor": "white",
            "ticks": ""
           },
           "baxis": {
            "gridcolor": "white",
            "linecolor": "white",
            "ticks": ""
           },
           "bgcolor": "#E5ECF6",
           "caxis": {
            "gridcolor": "white",
            "linecolor": "white",
            "ticks": ""
           }
          },
          "title": {
           "x": 0.05
          },
          "xaxis": {
           "automargin": true,
           "gridcolor": "white",
           "linecolor": "white",
           "ticks": "",
           "title": {
            "standoff": 15
           },
           "zerolinecolor": "white",
           "zerolinewidth": 2
          },
          "yaxis": {
           "automargin": true,
           "gridcolor": "white",
           "linecolor": "white",
           "ticks": "",
           "title": {
            "standoff": 15
           },
           "zerolinecolor": "white",
           "zerolinewidth": 2
          }
         }
        },
        "xaxis": {
         "anchor": "y",
         "domain": [
          0,
          1
         ],
         "title": {
          "text": "Month"
         }
        },
        "yaxis": {
         "anchor": "x",
         "domain": [
          0,
          1
         ],
         "title": {
          "text": "Case_count"
         }
        }
       }
      }
     },
     "metadata": {},
     "output_type": "display_data"
    }
   ],
   "source": [
    "px.bar(month_Wise_case,'Month','Case_count')"
   ]
  },
  {
   "cell_type": "code",
   "execution_count": null,
   "metadata": {},
   "outputs": [],
   "source": []
  }
 ],
 "metadata": {
  "kernelspec": {
   "display_name": "base",
   "language": "python",
   "name": "python3"
  },
  "language_info": {
   "codemirror_mode": {
    "name": "ipython",
    "version": 3
   },
   "file_extension": ".py",
   "mimetype": "text/x-python",
   "name": "python",
   "nbconvert_exporter": "python",
   "pygments_lexer": "ipython3",
   "version": "3.9.12"
  },
  "orig_nbformat": 4,
  "vscode": {
   "interpreter": {
    "hash": "5e310efb610597eecacd14aa46f7cfe8502fb6c4a83fc4086a11f43669e38f1e"
   }
  }
 },
 "nbformat": 4,
 "nbformat_minor": 2
}
