{
 "cells": [
  {
   "cell_type": "code",
   "execution_count": 26,
   "metadata": {},
   "outputs": [],
   "source": [
    "import numpy as np # importing library\n"
   ]
  },
  {
   "cell_type": "code",
   "execution_count": 27,
   "metadata": {},
   "outputs": [
    {
     "name": "stdout",
     "output_type": "stream",
     "text": [
      "[1 2 3 4]\n"
     ]
    }
   ],
   "source": [
    "# Example 1: how to add a List into a Single Dimensional Array \n",
    "\n",
    "x = np.array([1,2,3,4])   \n",
    "print(x) "
   ]
  },
  {
   "cell_type": "code",
   "execution_count": 28,
   "metadata": {},
   "outputs": [
    {
     "name": "stdout",
     "output_type": "stream",
     "text": [
      "[[ 2 23]\n",
      " [45  3]]\n"
     ]
    }
   ],
   "source": [
    "# Example 2: How To Add a Nested List into a Two Dimensional Array\n",
    "\n",
    "x2 = np.array([[2,23],[45,3]])\n",
    "print(x2)"
   ]
  },
  {
   "cell_type": "code",
   "execution_count": 29,
   "metadata": {},
   "outputs": [
    {
     "name": "stdout",
     "output_type": "stream",
     "text": [
      "[[ 2  3  4]\n",
      " [ 3  4  5]\n",
      " [34  2  3]]\n"
     ]
    }
   ],
   "source": [
    "# Example 3: How to Add a Nested List into a Three Dimensioanl Array\n",
    "\n",
    "x3 = np.array([[2,3,4],[3,4,5],[34,2,3]])\n",
    "print(x3)"
   ]
  },
  {
   "cell_type": "code",
   "execution_count": 30,
   "metadata": {},
   "outputs": [
    {
     "name": "stdout",
     "output_type": "stream",
     "text": [
      "(4,)\n",
      "(2, 2)\n",
      "(3, 3)\n",
      "1\n",
      "2\n"
     ]
    }
   ],
   "source": [
    "# Example 4: How to Check the Space and Dimension of the Array\n",
    "\n",
    "print(x.shape)\n",
    "print(x2.shape)\n",
    "print(x3.shape)\n",
    "print(x.ndim)\n",
    "print(x2.ndim)"
   ]
  },
  {
   "cell_type": "code",
   "execution_count": 31,
   "metadata": {},
   "outputs": [
    {
     "name": "stdout",
     "output_type": "stream",
     "text": [
      "[-5.  -4.5 -4.  -3.5 -3.  -2.5 -2.  -1.5 -1.  -0.5  0.   0.5  1.   1.5\n",
      "  2.   2.5  3.   3.5  4.   4.5  5.   5.5]\n",
      "(22,)\n",
      "22\n"
     ]
    }
   ],
   "source": [
    "# Example 5: How to print a List between a pair of numbers and using Step Values \n",
    "\n",
    "a = np.arange(-5,6,.5)        ## var = np.arange(start,stop,step)\n",
    "print(a)\n",
    "print(a.shape)\n",
    "print(a.size)"
   ]
  },
  {
   "cell_type": "code",
   "execution_count": 32,
   "metadata": {},
   "outputs": [
    {
     "name": "stdout",
     "output_type": "stream",
     "text": [
      "[ 1.          1.18367347  1.36734694  1.55102041  1.73469388  1.91836735\n",
      "  2.10204082  2.28571429  2.46938776  2.65306122  2.83673469  3.02040816\n",
      "  3.20408163  3.3877551   3.57142857  3.75510204  3.93877551  4.12244898\n",
      "  4.30612245  4.48979592  4.67346939  4.85714286  5.04081633  5.2244898\n",
      "  5.40816327  5.59183673  5.7755102   5.95918367  6.14285714  6.32653061\n",
      "  6.51020408  6.69387755  6.87755102  7.06122449  7.24489796  7.42857143\n",
      "  7.6122449   7.79591837  7.97959184  8.16326531  8.34693878  8.53061224\n",
      "  8.71428571  8.89795918  9.08163265  9.26530612  9.44897959  9.63265306\n",
      "  9.81632653 10.        ]\n"
     ]
    }
   ],
   "source": [
    "# Example 6: How to print a List of 50 Values From 1 To 10 \n",
    "\n",
    "b = np.linspace(1,10,50)   \n",
    "print(b)"
   ]
  },
  {
   "cell_type": "code",
   "execution_count": 33,
   "metadata": {},
   "outputs": [
    {
     "name": "stdout",
     "output_type": "stream",
     "text": [
      "[[0.25892841 0.46688371 0.51065539 0.56767132 0.95475008]\n",
      " [0.92208571 0.48071692 0.88877304 0.48310248 0.26218939]\n",
      " [0.0555721  0.30077552 0.58860519 0.16575443 0.30925386]\n",
      " [0.2603586  0.3498797  0.70327083 0.72984268 0.24477824]\n",
      " [0.58246273 0.48830534 0.48485709 0.26404545 0.63205226]]\n",
      "(5, 5)\n",
      "25\n"
     ]
    }
   ],
   "source": [
    "# Example 7: How to return Random Two-Dimensional Array of 5 X 5 By Using Random \n",
    "\n",
    "c = np.random.random((5,5))\n",
    "print(c)\n",
    "print(c.shape)\n",
    "print(c.size)"
   ]
  },
  {
   "cell_type": "code",
   "execution_count": 34,
   "metadata": {},
   "outputs": [
    {
     "name": "stdout",
     "output_type": "stream",
     "text": [
      "[[ 0.6151885   1.16149286 -2.14324854]\n",
      " [ 0.0528648  -1.52885234  2.60606016]\n",
      " [ 0.38250139 -0.04807981 -0.79655175]]\n",
      "(3, 3)\n",
      "9\n"
     ]
    }
   ],
   "source": [
    "# Example 8: How to Return Random Two-Dimensional Array of 3X3 By Using Random\n",
    "\n",
    "d = np.random.randn(3,3)\n",
    "print(d)\n",
    "print(d.shape)\n",
    "print(d.size)"
   ]
  },
  {
   "cell_type": "code",
   "execution_count": 35,
   "metadata": {},
   "outputs": [
    {
     "name": "stdout",
     "output_type": "stream",
     "text": [
      "[[[99 97 95]\n",
      "  [92 96 92]\n",
      "  [91 91 91]]\n",
      "\n",
      " [[94 91 90]\n",
      "  [95 96 93]\n",
      "  [92 97 95]]\n",
      "\n",
      " [[91 93 95]\n",
      "  [97 96 98]\n",
      "  [98 92 90]]]\n",
      "(3, 3, 3)\n",
      "27\n"
     ]
    }
   ],
   "source": [
    "# Example 9: How to Return Random Three-Dimensional Array of 3X3X3 By Using Random \n",
    "\n",
    "e = np.random.randint(90,100,(3,3,3))   # randint gives Random Integer Values\n",
    "print(e)\n",
    "print(e.shape)\n",
    "print(e.size)"
   ]
  },
  {
   "cell_type": "code",
   "execution_count": 36,
   "metadata": {},
   "outputs": [
    {
     "name": "stdout",
     "output_type": "stream",
     "text": [
      "[  1.           2.11235955   3.2247191    4.33707865   5.4494382\n",
      "   6.56179775   7.6741573    8.78651685   9.8988764   11.01123596\n",
      "  12.12359551  13.23595506  14.34831461  15.46067416  16.57303371\n",
      "  17.68539326  18.79775281  19.91011236  21.02247191  22.13483146\n",
      "  23.24719101  24.35955056  25.47191011  26.58426966  27.69662921\n",
      "  28.80898876  29.92134831  31.03370787  32.14606742  33.25842697\n",
      "  34.37078652  35.48314607  36.59550562  37.70786517  38.82022472\n",
      "  39.93258427  41.04494382  42.15730337  43.26966292  44.38202247\n",
      "  45.49438202  46.60674157  47.71910112  48.83146067  49.94382022\n",
      "  51.05617978  52.16853933  53.28089888  54.39325843  55.50561798\n",
      "  56.61797753  57.73033708  58.84269663  59.95505618  61.06741573\n",
      "  62.17977528  63.29213483  64.40449438  65.51685393  66.62921348\n",
      "  67.74157303  68.85393258  69.96629213  71.07865169  72.19101124\n",
      "  73.30337079  74.41573034  75.52808989  76.64044944  77.75280899\n",
      "  78.86516854  79.97752809  81.08988764  82.20224719  83.31460674\n",
      "  84.42696629  85.53932584  86.65168539  87.76404494  88.87640449\n",
      "  89.98876404  91.1011236   92.21348315  93.3258427   94.43820225\n",
      "  95.5505618   96.66292135  97.7752809   98.88764045 100.        ] (90,)\n",
      "[[  1.           2.11235955   3.2247191    4.33707865   5.4494382\n",
      "    6.56179775   7.6741573    8.78651685   9.8988764   11.01123596\n",
      "   12.12359551  13.23595506  14.34831461  15.46067416  16.57303371\n",
      "   17.68539326  18.79775281  19.91011236  21.02247191  22.13483146\n",
      "   23.24719101  24.35955056  25.47191011  26.58426966  27.69662921\n",
      "   28.80898876  29.92134831  31.03370787  32.14606742  33.25842697]\n",
      " [ 34.37078652  35.48314607  36.59550562  37.70786517  38.82022472\n",
      "   39.93258427  41.04494382  42.15730337  43.26966292  44.38202247\n",
      "   45.49438202  46.60674157  47.71910112  48.83146067  49.94382022\n",
      "   51.05617978  52.16853933  53.28089888  54.39325843  55.50561798\n",
      "   56.61797753  57.73033708  58.84269663  59.95505618  61.06741573\n",
      "   62.17977528  63.29213483  64.40449438  65.51685393  66.62921348]\n",
      " [ 67.74157303  68.85393258  69.96629213  71.07865169  72.19101124\n",
      "   73.30337079  74.41573034  75.52808989  76.64044944  77.75280899\n",
      "   78.86516854  79.97752809  81.08988764  82.20224719  83.31460674\n",
      "   84.42696629  85.53932584  86.65168539  87.76404494  88.87640449\n",
      "   89.98876404  91.1011236   92.21348315  93.3258427   94.43820225\n",
      "   95.5505618   96.66292135  97.7752809   98.88764045 100.        ]]\n"
     ]
    }
   ],
   "source": [
    "# Example 10: Generating 90 Values of integers in between 1 to 100 and reshaping it in the array of 3x30\n",
    "\n",
    "f = np.linspace(1,100,90)   ## var = np.linspace(start, stop, nuum) num= number of values needed to seperated in eqaul parts\n",
    "print(f,f.shape)\n",
    "\n",
    "f2 = f.reshape(3,30)\n",
    "print(f2)"
   ]
  },
  {
   "cell_type": "code",
   "execution_count": 37,
   "metadata": {},
   "outputs": [
    {
     "name": "stdout",
     "output_type": "stream",
     "text": [
      "[[3 6 6]\n",
      " [6 6 7]\n",
      " [7 7 2]]\n",
      "\n",
      "[[1 8 2]\n",
      " [7 6 2]\n",
      " [4 9 3]]\n",
      "[[ 4 14  8]\n",
      " [13 12  9]\n",
      " [11 16  5]]\n",
      "[[ 2 -2  4]\n",
      " [-1  0  5]\n",
      " [ 3 -2 -1]]\n",
      "[[3.         0.75       3.        ]\n",
      " [0.85714286 1.         3.5       ]\n",
      " [1.75       0.77777778 0.66666667]]\n",
      "[[3 0 3]\n",
      " [0 1 3]\n",
      " [1 0 0]]\n",
      "[[0 6 0]\n",
      " [6 0 1]\n",
      " [3 7 2]]\n",
      "[[       3  1679616       36]\n",
      " [  279936    46656       49]\n",
      " [    2401 40353607        8]]\n",
      "[[ 69 114  36]\n",
      " [ 76 147  45]\n",
      " [ 64 116  34]]\n",
      "[[ 69 114  36]\n",
      " [ 76 147  45]\n",
      " [ 64 116  34]]\n",
      "[[-36   0  18]\n",
      " [-30  37  -6]\n",
      " [  3 -13  35]]\n",
      "[[ 69 114  36]\n",
      " [ 76 147  45]\n",
      " [ 64 116  34]]\n"
     ]
    }
   ],
   "source": [
    "# Example 11: Generating Two random integer arrays of 3X3 ranging values in between 1 to 10. After that apply operations \n",
    "\n",
    "x = np.random.randint(1,10,(3,3))\n",
    "y = np.random.randint(1,10,(3,3))\n",
    "print(x)\n",
    "print()\n",
    "print(y)\n",
    "\n",
    "print(x+y)   # element wise addition\n",
    "print(x-y) # element wise subtraction\n",
    "print(x/y) # element wise division\n",
    "print(x//y) # element wise floor division\n",
    "print(x%y) # element wise modulus\n",
    "print(x**y)   # element wise exponentiation\n",
    "# matrix operations \n",
    "print(np.dot(x,y))    # Dot Product\n",
    "print(x.dot(y))       # same dot product\n",
    "print(np.cross(x,y))  # cross product\n",
    "print(np.matmul(x,y)) # matrix multiplication\n"
   ]
  },
  {
   "cell_type": "code",
   "execution_count": 38,
   "metadata": {},
   "outputs": [
    {
     "name": "stdout",
     "output_type": "stream",
     "text": [
      "50\n",
      "[16 19 15]\n",
      "[15 19 16]\n",
      "5.555555555555555\n",
      "[5.33333333 6.33333333 5.        ]\n",
      "[5.         6.33333333 5.33333333]\n",
      "1.7069212773041351\n",
      "[1.69967317 0.47140452 2.1602469 ]\n",
      "[1.41421356 0.47140452 2.3570226 ]\n",
      "6.0\n",
      "[6. 6. 6.]\n",
      "[6. 6. 7.]\n"
     ]
    }
   ],
   "source": [
    "# Example 11: Showing all the sum,mean,standard deviation,median Row and Column wise.\n",
    "\n",
    "print(x.sum())  # sum of all elements \n",
    "print(x.sum(axis=0)) # sum of each column\n",
    "print(x.sum(axis=1)) # sum of each row \n",
    "print(x.mean()) # mean of all elements \n",
    "print(x.mean(axis=0)) # mean of each column \n",
    "print(x.mean(axis=1)) # mean of each row\n",
    "print(x.std()) # standard deviation of all elements \n",
    "print(x.std(axis=0)) # standard deviation of each column \n",
    "print(x.std(axis=1)) # standard deviation of each row\n",
    "print(np.median(x)) # median of all elements \n",
    "print(np.median(x,axis=0)) # median of each coloumn \n",
    "print(np.median(x,axis=1)) # median of each row\n"
   ]
  },
  {
   "cell_type": "code",
   "execution_count": 39,
   "metadata": {},
   "outputs": [],
   "source": [
    "import matplotlib.pyplot as plt\n"
   ]
  },
  {
   "cell_type": "code",
   "execution_count": 40,
   "metadata": {},
   "outputs": [
    {
     "data": {
      "image/png": "[encoded data removed]",
      "text/plain": [
       "<Figure size 640x480 with 1 Axes>"
      ]
     },
     "metadata": {},
     "output_type": "display_data"
    }
   ],
   "source": [
    "# Example 12: How to plot a graph.\n",
    "\n",
    "t = np.linspace(0,4*np.pi,50)\n",
    "y = np.sin(t)\n",
    "x = np.cos(t)\n",
    "plt.plot(t,x)\n",
    "plt.plot(t,y)\n",
    "plt.plot(t,x, 'go')   # red dots \n",
    "plt.show()\n"
   ]
  },
  {
   "cell_type": "code",
   "execution_count": 41,
   "metadata": {},
   "outputs": [
    {
     "data": {
      "image/png": "[encoded data removed]",
      "text/plain": [
       "<Figure size 640x480 with 1 Axes>"
      ]
     },
     "metadata": {},
     "output_type": "display_data"
    }
   ],
   "source": [
    "# Example 13: How to Show Bar chart of rainfall and months.\n",
    "\n",
    "rainfall = [20,30,40,60,70,80,90,100,110,120,130,140]\n",
    "months = ['jan','feb','mar','apr','may','jun','jul','aug','sept','oct','nov','dec']\n",
    "plt.bar(months,rainfall)\n",
    "plt.show()"
   ]
  },
  {
   "attachments": {},
   "cell_type": "markdown",
   "metadata": {},
   "source": [
    "## **Boolean Filtering**\n",
    "---\n"
   ]
  },
  {
   "cell_type": "code",
   "execution_count": 42,
   "metadata": {},
   "outputs": [
    {
     "name": "stdout",
     "output_type": "stream",
     "text": [
      "[[792 793 907  94 343]\n",
      " [761 953 932 129 440]\n",
      " [117 993   8 746 820]\n",
      " [376 952 431 941 265]\n",
      " [ 71 952 673 585 288]]\n"
     ]
    }
   ],
   "source": [
    "# Example 14: making a matrix of 5x5 in \n",
    "data = np.random.randint(1,1000,(5,5,))\n",
    "print(data)"
   ]
  },
  {
   "cell_type": "code",
   "execution_count": 43,
   "metadata": {},
   "outputs": [
    {
     "name": "stdout",
     "output_type": "stream",
     "text": [
      "94 343 129 440 117 8 376 431 265 71 288 "
     ]
    }
   ],
   "source": [
    "# noob way of getting filtered data\n",
    "for i in data:\n",
    "      for j in i:\n",
    "            if j<500:\n",
    "                  print(j,end=' ')"
   ]
  },
  {
   "cell_type": "code",
   "execution_count": 44,
   "metadata": {},
   "outputs": [
    {
     "data": {
      "text/plain": [
       "array([[False, False, False,  True,  True],\n",
       "       [False, False, False,  True,  True],\n",
       "       [ True, False,  True, False, False],\n",
       "       [ True, False,  True, False,  True],\n",
       "       [ True, False, False, False,  True]])"
      ]
     },
     "execution_count": 44,
     "metadata": {},
     "output_type": "execute_result"
    }
   ],
   "source": [
    "# pythonic way\n",
    "data < 500 # boolean array\n"
   ]
  },
  {
   "cell_type": "code",
   "execution_count": 45,
   "metadata": {},
   "outputs": [
    {
     "data": {
      "text/plain": [
       "array([ 94, 343, 129, 440, 117,   8, 376, 431, 265,  71, 288])"
      ]
     },
     "execution_count": 45,
     "metadata": {},
     "output_type": "execute_result"
    }
   ],
   "source": [
    "data[ data < 500 ]   # GEtting Data Using a Condition"
   ]
  },
  {
   "cell_type": "code",
   "execution_count": 46,
   "metadata": {},
   "outputs": [
    {
     "data": {
      "text/plain": [
       "array([792, 793, 907,  94, 761, 953, 932, 993,   8, 746, 820, 952, 941,\n",
       "        71, 952, 673, 585])"
      ]
     },
     "execution_count": 46,
     "metadata": {},
     "output_type": "execute_result"
    }
   ],
   "source": [
    "data[(data < 100) | (data > 500)]  # Getting Data by using bitwise OR "
   ]
  },
  {
   "cell_type": "code",
   "execution_count": 47,
   "metadata": {},
   "outputs": [
    {
     "name": "stdout",
     "output_type": "stream",
     "text": [
      "[[996  14 949 530 632 354 715 966]\n",
      " [908 652 524 682 872 171 395 421]\n",
      " [199 100 850 345 688 911 690 239]\n",
      " [176  39 311 980 273   1 302 275]\n",
      " [937 563 507 687 613 259  44  65]\n",
      " [938 547 554  84  96 792  16 525]\n",
      " [798 749 344 188 121 567 529  90]\n",
      " [113 998   5 308 381 697   3 988]]\n"
     ]
    }
   ],
   "source": [
    "# Example 15: Creating an Array of 8X8 Consisting of elements Between 1 to 1000\n",
    "a = np.random.randint(1,1000,(8,8))\n",
    "print(a)"
   ]
  },
  {
   "cell_type": "code",
   "execution_count": 48,
   "metadata": {},
   "outputs": [
    {
     "name": "stdout",
     "output_type": "stream",
     "text": [
      "[[996  14 949 530 632]\n",
      " [908 652 524 682 872]\n",
      " [199 100 850 345 688]\n",
      " [176  39 311 980 273]\n",
      " [937 563 507 687 613]]\n",
      "[[530 715 966]\n",
      " [682 395 421]\n",
      " [345 690 239]\n",
      " [980 302 275]\n",
      " [687  44  65]\n",
      " [ 84  16 525]\n",
      " [188 529  90]\n",
      " [308   3 988]]\n",
      "[[850 345 688 911 690]\n",
      " [311 980 273   1 302]\n",
      " [507 687 613 259  44]\n",
      " [554  84  96 792  16]\n",
      " [344 188 121 567 529]]\n",
      "[[850 345 688 911]\n",
      " [311 980 273   1]\n",
      " [507 687 613 259]\n",
      " [554  84  96 792]]\n",
      "[[996  14 949 530 632 354 715]\n",
      " [908 652 524 682 872 171 395]\n",
      " [199 100 850 345 688 911 690]\n",
      " [176  39 311 980 273   1 302]\n",
      " [937 563 507 687 613 259  44]\n",
      " [938 547 554  84  96 792  16]\n",
      " [798 749 344 188 121 567 529]\n",
      " [113 998   5 308 381 697   3]]\n"
     ]
    }
   ],
   "source": [
    "# Example 16: Accessing elements using List Slicing method \n",
    "# case 1: Acccesing the 5 Starting element of all the rows \n",
    "print(a[:5,:5])\n",
    "\n",
    "# case 2: Accesing elements of all the ros but only from 3,6,7th Columns\n",
    "print(a[:,[3,6,7]])\n",
    "\n",
    "# case 3: Accesing the elements of Rows(3 to 7) And Columns(3 to 7)\n",
    "print(a[2:7,2:7])\n",
    "\n",
    "# case 4: Accessing the elements Excluding First and Last Two Rows and Columns of the Matrix \n",
    "print(a[2:-2,2:-2])\n",
    "\n",
    "# case 5: Accesing the elements Excluding only the Last columns of the Matrix \n",
    "print(a[:,:-1])"
   ]
  },
  {
   "cell_type": "code",
   "execution_count": null,
   "metadata": {},
   "outputs": [],
   "source": []
  }
 ],
 "metadata": {
  "kernelspec": {
   "display_name": "Python 3.9.12 ('base')",
   "language": "python",
   "name": "python3"
  },
  "language_info": {
   "codemirror_mode": {
    "name": "ipython",
    "version": 3
   },
   "file_extension": ".py",
   "mimetype": "text/x-python",
   "name": "python",
   "nbconvert_exporter": "python",
   "pygments_lexer": "ipython3",
   "version": "3.9.12 (main, Apr  4 2022, 05:22:27) [MSC v.1916 64 bit (AMD64)]"
  },
  "orig_nbformat": 4,
  "vscode": {
   "interpreter": {
    "hash": "5e310efb610597eecacd14aa46f7cfe8502fb6c4a83fc4086a11f43669e38f1e"
   }
  }
 },
 "nbformat": 4,
 "nbformat_minor": 2
}
