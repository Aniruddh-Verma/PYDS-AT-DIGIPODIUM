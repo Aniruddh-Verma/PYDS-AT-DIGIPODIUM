{
 "cells": [
  {
   "cell_type": "code",
   "execution_count": 1,
   "metadata": {},
   "outputs": [],
   "source": [
    "import numpy as np\n"
   ]
  },
  {
   "cell_type": "code",
   "execution_count": 4,
   "metadata": {},
   "outputs": [
    {
     "name": "stdout",
     "output_type": "stream",
     "text": [
      "[1 2 3 4]\n"
     ]
    }
   ],
   "source": [
    "x = np.array([1,2,3,4])\n",
    "print(x)"
   ]
  },
  {
   "cell_type": "code",
   "execution_count": 7,
   "metadata": {},
   "outputs": [
    {
     "name": "stdout",
     "output_type": "stream",
     "text": [
      "[[ 2 23]\n",
      " [45  3]]\n"
     ]
    }
   ],
   "source": [
    "x2 = np.array([[2,23],[45,3]])\n",
    "print(x2)"
   ]
  },
  {
   "cell_type": "code",
   "execution_count": 8,
   "metadata": {},
   "outputs": [
    {
     "name": "stdout",
     "output_type": "stream",
     "text": [
      "[[ 2  3  4]\n",
      " [ 3  4  5]\n",
      " [34  2  3]]\n"
     ]
    }
   ],
   "source": [
    "x3 = np.array([[2,3,4],[3,4,5],[34,2,3]])\n",
    "print(x3)"
   ]
  },
  {
   "cell_type": "code",
   "execution_count": 12,
   "metadata": {},
   "outputs": [
    {
     "name": "stdout",
     "output_type": "stream",
     "text": [
      "(4,)\n",
      "(2, 2)\n",
      "(3, 3)\n",
      "1\n",
      "2\n"
     ]
    }
   ],
   "source": [
    "print(x.shape)\n",
    "print(x2.shape)\n",
    "print(x3.shape)\n",
    "print(x.ndim)\n",
    "print(x2.ndim)"
   ]
  },
  {
   "cell_type": "code",
   "execution_count": 16,
   "metadata": {},
   "outputs": [
    {
     "name": "stdout",
     "output_type": "stream",
     "text": [
      "[-5.  -4.5 -4.  -3.5 -3.  -2.5 -2.  -1.5 -1.  -0.5  0.   0.5  1.   1.5\n",
      "  2.   2.5  3.   3.5  4.   4.5  5.   5.5]\n",
      "(22,)\n",
      "22\n"
     ]
    }
   ],
   "source": [
    "a = np.arange(-5,6,.5)        ## var = np.arange(start,stop,step)\n",
    "print(a)\n",
    "print(a.shape)\n",
    "print(a.size)"
   ]
  },
  {
   "cell_type": "code",
   "execution_count": 17,
   "metadata": {},
   "outputs": [
    {
     "name": "stdout",
     "output_type": "stream",
     "text": [
      "[ 1.          1.18367347  1.36734694  1.55102041  1.73469388  1.91836735\n",
      "  2.10204082  2.28571429  2.46938776  2.65306122  2.83673469  3.02040816\n",
      "  3.20408163  3.3877551   3.57142857  3.75510204  3.93877551  4.12244898\n",
      "  4.30612245  4.48979592  4.67346939  4.85714286  5.04081633  5.2244898\n",
      "  5.40816327  5.59183673  5.7755102   5.95918367  6.14285714  6.32653061\n",
      "  6.51020408  6.69387755  6.87755102  7.06122449  7.24489796  7.42857143\n",
      "  7.6122449   7.79591837  7.97959184  8.16326531  8.34693878  8.53061224\n",
      "  8.71428571  8.89795918  9.08163265  9.26530612  9.44897959  9.63265306\n",
      "  9.81632653 10.        ]\n"
     ]
    }
   ],
   "source": [
    "b = np.linspace(1,10,50)   ## var = np.linspace(start, stop, nuum) num= number of values needed to seperated in eqaul part\n",
    "print(b)"
   ]
  },
  {
   "cell_type": "code",
   "execution_count": 22,
   "metadata": {},
   "outputs": [
    {
     "name": "stdout",
     "output_type": "stream",
     "text": [
      "[[0.08478588 0.80297515 0.22248844 0.86843025 0.2237249 ]\n",
      " [0.07748213 0.30919665 0.50579475 0.04778552 0.87730608]\n",
      " [0.5486945  0.50865659 0.60520842 0.74291753 0.73942529]\n",
      " [0.23429462 0.56686894 0.81691156 0.74924262 0.96397128]\n",
      " [0.3764815  0.19697455 0.9833131  0.32115141 0.88668048]]\n",
      "(5, 5)\n",
      "25\n"
     ]
    }
   ],
   "source": [
    "c = np.random.random((5,5))\n",
    "print(c)\n",
    "print(c.shape)\n",
    "print(c.size)"
   ]
  },
  {
   "cell_type": "code",
   "execution_count": 26,
   "metadata": {},
   "outputs": [
    {
     "name": "stdout",
     "output_type": "stream",
     "text": [
      "[[-0.34270955  0.77090208 -1.09089839]\n",
      " [-0.04071177  1.34215941  0.37760366]\n",
      " [-0.27229771 -0.60002242 -0.41338909]]\n",
      "(3, 3)\n",
      "9\n"
     ]
    }
   ],
   "source": [
    "d = np.random.randn(3,3)\n",
    "print(d)\n",
    "print(d.shape)\n",
    "print(d.size)"
   ]
  },
  {
   "cell_type": "code",
   "execution_count": 28,
   "metadata": {},
   "outputs": [
    {
     "name": "stdout",
     "output_type": "stream",
     "text": [
      "[[[94 94 97]\n",
      "  [96 96 91]\n",
      "  [99 96 92]]\n",
      "\n",
      " [[96 90 98]\n",
      "  [93 97 95]\n",
      "  [92 98 95]]\n",
      "\n",
      " [[92 90 99]\n",
      "  [93 91 97]\n",
      "  [94 92 97]]]\n",
      "(3, 3, 3)\n",
      "27\n"
     ]
    }
   ],
   "source": [
    "e = np.random.randint(90,100,(3,3,3))\n",
    "print(e)\n",
    "print(e.shape)\n",
    "print(e.size)"
   ]
  },
  {
   "cell_type": "code",
   "execution_count": 30,
   "metadata": {},
   "outputs": [
    {
     "name": "stdout",
     "output_type": "stream",
     "text": [
      "(90,)\n"
     ]
    }
   ],
   "source": [
    "f = np.linspace(1,100,90)\n",
    "print(f.shape)"
   ]
  },
  {
   "cell_type": "code",
   "execution_count": 31,
   "metadata": {},
   "outputs": [
    {
     "name": "stdout",
     "output_type": "stream",
     "text": [
      "[[  1.           2.11235955   3.2247191    4.33707865   5.4494382\n",
      "    6.56179775   7.6741573    8.78651685   9.8988764   11.01123596\n",
      "   12.12359551  13.23595506  14.34831461  15.46067416  16.57303371\n",
      "   17.68539326  18.79775281  19.91011236  21.02247191  22.13483146\n",
      "   23.24719101  24.35955056  25.47191011  26.58426966  27.69662921\n",
      "   28.80898876  29.92134831  31.03370787  32.14606742  33.25842697]\n",
      " [ 34.37078652  35.48314607  36.59550562  37.70786517  38.82022472\n",
      "   39.93258427  41.04494382  42.15730337  43.26966292  44.38202247\n",
      "   45.49438202  46.60674157  47.71910112  48.83146067  49.94382022\n",
      "   51.05617978  52.16853933  53.28089888  54.39325843  55.50561798\n",
      "   56.61797753  57.73033708  58.84269663  59.95505618  61.06741573\n",
      "   62.17977528  63.29213483  64.40449438  65.51685393  66.62921348]\n",
      " [ 67.74157303  68.85393258  69.96629213  71.07865169  72.19101124\n",
      "   73.30337079  74.41573034  75.52808989  76.64044944  77.75280899\n",
      "   78.86516854  79.97752809  81.08988764  82.20224719  83.31460674\n",
      "   84.42696629  85.53932584  86.65168539  87.76404494  88.87640449\n",
      "   89.98876404  91.1011236   92.21348315  93.3258427   94.43820225\n",
      "   95.5505618   96.66292135  97.7752809   98.88764045 100.        ]]\n"
     ]
    }
   ],
   "source": [
    "f2 = f.reshape(3,30)\n",
    "print(f2)"
   ]
  },
  {
   "cell_type": "code",
   "execution_count": 38,
   "metadata": {},
   "outputs": [
    {
     "name": "stdout",
     "output_type": "stream",
     "text": [
      "[[8 6 7]\n",
      " [1 6 4]\n",
      " [8 4 3]]\n",
      "\n",
      "[[7 9 3]\n",
      " [2 5 6]\n",
      " [1 9 9]]\n"
     ]
    }
   ],
   "source": [
    "x = np.random.randint(1,10,(3,3))\n",
    "y = np.random.randint(1,10,(3,3))\n",
    "print(x)\n",
    "print()\n",
    "print(y)"
   ]
  },
  {
   "cell_type": "code",
   "execution_count": 47,
   "metadata": {},
   "outputs": [
    {
     "name": "stdout",
     "output_type": "stream",
     "text": [
      "[[15 15 10]\n",
      " [ 3 11 10]\n",
      " [ 9 13 12]]\n",
      "[[ 1 -3  4]\n",
      " [-1  1 -2]\n",
      " [ 7 -5 -6]]\n",
      "[[1.14285714 0.66666667 2.33333333]\n",
      " [0.5        1.2        0.66666667]\n",
      " [8.         0.44444444 0.33333333]]\n",
      "[[1 0 2]\n",
      " [0 1 0]\n",
      " [8 0 0]]\n",
      "[[1 6 1]\n",
      " [1 1 4]\n",
      " [0 4 3]]\n",
      "[[ 2097152 10077696      343]\n",
      " [       1     7776     4096]\n",
      " [       8   262144    19683]]\n"
     ]
    }
   ],
   "source": [
    "print(x+y)   # element wise addition\n",
    "print(x-y) # element wise subtraction\n",
    "print(x/y) # element wise division\n",
    "print(x//y) # element wise floor division\n",
    "print(x%y) # element wise modulus\n",
    "print(x**y)   # element wise exponentiation"
   ]
  },
  {
   "cell_type": "code",
   "execution_count": 48,
   "metadata": {},
   "outputs": [
    {
     "name": "stdout",
     "output_type": "stream",
     "text": [
      "[[ 75 165 123]\n",
      " [ 23  75  75]\n",
      " [ 67 119  75]]\n",
      "[[ 75 165 123]\n",
      " [ 23  75  75]\n",
      " [ 67 119  75]]\n",
      "[[-45  25  30]\n",
      " [ 16   2  -7]\n",
      " [  9 -69  68]]\n",
      "[[ 75 165 123]\n",
      " [ 23  75  75]\n",
      " [ 67 119  75]]\n"
     ]
    }
   ],
   "source": [
    "print(np.dot(x,y))    # Dot Product\n",
    "print(x.dot(y))       # same dot product\n",
    "print(np.cross(x,y))  # cross product\n",
    "print(np.matmul(x,y)) # matrix multiplication\n"
   ]
  },
  {
   "cell_type": "code",
   "execution_count": 50,
   "metadata": {},
   "outputs": [
    {
     "name": "stdout",
     "output_type": "stream",
     "text": [
      "47\n",
      "[17 16 14]\n",
      "[21 11 15]\n",
      "5.222222222222222\n",
      "[5.66666667 5.33333333 4.66666667]\n",
      "[7.         3.66666667 5.        ]\n",
      "2.249828525701843\n",
      "[3.29983165 0.94280904 1.69967317]\n",
      "[0.81649658 2.05480467 2.1602469 ]\n",
      "6.0\n",
      "[8. 6. 4.]\n",
      "[7. 4. 4.]\n"
     ]
    }
   ],
   "source": [
    "print(x.sum())  # sum of all elements \n",
    "print(x.sum(axis=0)) # sum of each column\n",
    "print(x.sum(axis=1)) # sum of each row \n",
    "print(x.mean()) # mean of all elements \n",
    "print(x.mean(axis=0)) # mean of each column \n",
    "print(x.mean(axis=1)) # mean of each row\n",
    "print(x.std()) # standard deviation of all elements \n",
    "print(x.std(axis=0)) # standard deviation of each column \n",
    "print(x.std(axis=1)) # standard deviation of each row\n",
    "print(np.median(x)) # median of all elements \n",
    "print(np.median(x,axis=0)) # median of each coloumn \n",
    "print(np.median(x,axis=1)) # median of each row\n"
   ]
  },
  {
   "cell_type": "code",
   "execution_count": 51,
   "metadata": {},
   "outputs": [],
   "source": [
    "import matplotlib.pyplot as plt\n"
   ]
  },
  {
   "cell_type": "code",
   "execution_count": 64,
   "metadata": {},
   "outputs": [
    {
     "data": {
      "text/plain": [
       "[<matplotlib.lines.Line2D at 0x1f3fc839df0>]"
      ]
     },
     "execution_count": 64,
     "metadata": {},
     "output_type": "execute_result"
    },
    {
     "data": {
      "image/png": "[encoded data removed]",
      "text/plain": [
       "<Figure size 640x480 with 1 Axes>"
      ]
     },
     "metadata": {},
     "output_type": "display_data"
    }
   ],
   "source": [
    "t = np.linspace(0,4*np.pi,50)\n",
    "y = np.sin(t)\n",
    "x = np.cos(t)\n",
    "plt.plot(t,x)\n",
    "plt.plot(t,y)\n",
    "plt.plot(t,x, 'ro')   # red dots "
   ]
  },
  {
   "cell_type": "code",
   "execution_count": null,
   "metadata": {},
   "outputs": [],
   "source": [
    "## BOOLEAN FILTER AND INDEXING "
   ]
  }
 ],
 "metadata": {
  "kernelspec": {
   "display_name": "Python 3.9.12 ('base')",
   "language": "python",
   "name": "python3"
  },
  "language_info": {
   "codemirror_mode": {
    "name": "ipython",
    "version": 3
   },
   "file_extension": ".py",
   "mimetype": "text/x-python",
   "name": "python",
   "nbconvert_exporter": "python",
   "pygments_lexer": "ipython3",
   "version": "3.9.12"
  },
  "orig_nbformat": 4,
  "vscode": {
   "interpreter": {
    "hash": "5e310efb610597eecacd14aa46f7cfe8502fb6c4a83fc4086a11f43669e38f1e"
   }
  }
 },
 "nbformat": 4,
 "nbformat_minor": 2
}
