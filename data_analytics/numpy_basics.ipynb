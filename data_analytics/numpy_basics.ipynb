{
 "cells": [
  {
   "cell_type": "code",
   "execution_count": 1,
   "metadata": {},
   "outputs": [],
   "source": [
    "import numpy as np\n"
   ]
  },
  {
   "cell_type": "code",
   "execution_count": 2,
   "metadata": {},
   "outputs": [
    {
     "name": "stdout",
     "output_type": "stream",
     "text": [
      "[1 2 3 4]\n"
     ]
    }
   ],
   "source": [
    "x = np.array([1,2,3,4])\n",
    "print(x)"
   ]
  },
  {
   "cell_type": "code",
   "execution_count": 3,
   "metadata": {},
   "outputs": [
    {
     "name": "stdout",
     "output_type": "stream",
     "text": [
      "[[ 2 23]\n",
      " [45  3]]\n"
     ]
    }
   ],
   "source": [
    "x2 = np.array([[2,23],[45,3]])\n",
    "print(x2)"
   ]
  },
  {
   "cell_type": "code",
   "execution_count": 4,
   "metadata": {},
   "outputs": [
    {
     "name": "stdout",
     "output_type": "stream",
     "text": [
      "[[ 2  3  4]\n",
      " [ 3  4  5]\n",
      " [34  2  3]]\n"
     ]
    }
   ],
   "source": [
    "x3 = np.array([[2,3,4],[3,4,5],[34,2,3]])\n",
    "print(x3)"
   ]
  },
  {
   "cell_type": "code",
   "execution_count": 5,
   "metadata": {},
   "outputs": [
    {
     "name": "stdout",
     "output_type": "stream",
     "text": [
      "(4,)\n",
      "(2, 2)\n",
      "(3, 3)\n",
      "1\n",
      "2\n"
     ]
    }
   ],
   "source": [
    "print(x.shape)\n",
    "print(x2.shape)\n",
    "print(x3.shape)\n",
    "print(x.ndim)\n",
    "print(x2.ndim)"
   ]
  },
  {
   "cell_type": "code",
   "execution_count": 6,
   "metadata": {},
   "outputs": [
    {
     "name": "stdout",
     "output_type": "stream",
     "text": [
      "[-5.  -4.5 -4.  -3.5 -3.  -2.5 -2.  -1.5 -1.  -0.5  0.   0.5  1.   1.5\n",
      "  2.   2.5  3.   3.5  4.   4.5  5.   5.5]\n",
      "(22,)\n",
      "22\n"
     ]
    }
   ],
   "source": [
    "a = np.arange(-5,6,.5)        ## var = np.arange(start,stop,step)\n",
    "print(a)\n",
    "print(a.shape)\n",
    "print(a.size)"
   ]
  },
  {
   "cell_type": "code",
   "execution_count": 7,
   "metadata": {},
   "outputs": [
    {
     "name": "stdout",
     "output_type": "stream",
     "text": [
      "[ 1.          1.18367347  1.36734694  1.55102041  1.73469388  1.91836735\n",
      "  2.10204082  2.28571429  2.46938776  2.65306122  2.83673469  3.02040816\n",
      "  3.20408163  3.3877551   3.57142857  3.75510204  3.93877551  4.12244898\n",
      "  4.30612245  4.48979592  4.67346939  4.85714286  5.04081633  5.2244898\n",
      "  5.40816327  5.59183673  5.7755102   5.95918367  6.14285714  6.32653061\n",
      "  6.51020408  6.69387755  6.87755102  7.06122449  7.24489796  7.42857143\n",
      "  7.6122449   7.79591837  7.97959184  8.16326531  8.34693878  8.53061224\n",
      "  8.71428571  8.89795918  9.08163265  9.26530612  9.44897959  9.63265306\n",
      "  9.81632653 10.        ]\n"
     ]
    }
   ],
   "source": [
    "b = np.linspace(1,10,50)   ## var = np.linspace(start, stop, nuum) num= number of values needed to seperated in eqaul part\n",
    "print(b)"
   ]
  },
  {
   "cell_type": "code",
   "execution_count": 8,
   "metadata": {},
   "outputs": [
    {
     "name": "stdout",
     "output_type": "stream",
     "text": [
      "[[0.51266341 0.55106868 0.54036697 0.24344717 0.57272953]\n",
      " [0.91414575 0.83437709 0.0653536  0.88934928 0.7928149 ]\n",
      " [0.85682091 0.19170304 0.93327241 0.52076882 0.56220183]\n",
      " [0.33177356 0.44297161 0.19133391 0.5130591  0.75507339]\n",
      " [0.69666658 0.10559543 0.63009488 0.45232695 0.4295882 ]]\n",
      "(5, 5)\n",
      "25\n"
     ]
    }
   ],
   "source": [
    "c = np.random.random((5,5))\n",
    "print(c)\n",
    "print(c.shape)\n",
    "print(c.size)"
   ]
  },
  {
   "cell_type": "code",
   "execution_count": 9,
   "metadata": {},
   "outputs": [
    {
     "name": "stdout",
     "output_type": "stream",
     "text": [
      "[[ 2.24184265 -0.77790418  1.81673891]\n",
      " [ 1.01384891  0.62227319  1.19268342]\n",
      " [ 0.55822685 -0.12798542  1.72274074]]\n",
      "(3, 3)\n",
      "9\n"
     ]
    }
   ],
   "source": [
    "d = np.random.randn(3,3)\n",
    "print(d)\n",
    "print(d.shape)\n",
    "print(d.size)"
   ]
  },
  {
   "cell_type": "code",
   "execution_count": 10,
   "metadata": {},
   "outputs": [
    {
     "name": "stdout",
     "output_type": "stream",
     "text": [
      "[[[97 93 98]\n",
      "  [96 93 98]\n",
      "  [92 96 98]]\n",
      "\n",
      " [[94 94 99]\n",
      "  [91 90 91]\n",
      "  [99 96 95]]\n",
      "\n",
      " [[97 92 93]\n",
      "  [90 94 91]\n",
      "  [95 95 90]]]\n",
      "(3, 3, 3)\n",
      "27\n"
     ]
    }
   ],
   "source": [
    "e = np.random.randint(90,100,(3,3,3))\n",
    "print(e)\n",
    "print(e.shape)\n",
    "print(e.size)"
   ]
  },
  {
   "cell_type": "code",
   "execution_count": 11,
   "metadata": {},
   "outputs": [
    {
     "name": "stdout",
     "output_type": "stream",
     "text": [
      "(90,)\n"
     ]
    }
   ],
   "source": [
    "f = np.linspace(1,100,90)\n",
    "print(f.shape)"
   ]
  },
  {
   "cell_type": "code",
   "execution_count": 12,
   "metadata": {},
   "outputs": [
    {
     "name": "stdout",
     "output_type": "stream",
     "text": [
      "[[  1.           2.11235955   3.2247191    4.33707865   5.4494382\n",
      "    6.56179775   7.6741573    8.78651685   9.8988764   11.01123596\n",
      "   12.12359551  13.23595506  14.34831461  15.46067416  16.57303371\n",
      "   17.68539326  18.79775281  19.91011236  21.02247191  22.13483146\n",
      "   23.24719101  24.35955056  25.47191011  26.58426966  27.69662921\n",
      "   28.80898876  29.92134831  31.03370787  32.14606742  33.25842697]\n",
      " [ 34.37078652  35.48314607  36.59550562  37.70786517  38.82022472\n",
      "   39.93258427  41.04494382  42.15730337  43.26966292  44.38202247\n",
      "   45.49438202  46.60674157  47.71910112  48.83146067  49.94382022\n",
      "   51.05617978  52.16853933  53.28089888  54.39325843  55.50561798\n",
      "   56.61797753  57.73033708  58.84269663  59.95505618  61.06741573\n",
      "   62.17977528  63.29213483  64.40449438  65.51685393  66.62921348]\n",
      " [ 67.74157303  68.85393258  69.96629213  71.07865169  72.19101124\n",
      "   73.30337079  74.41573034  75.52808989  76.64044944  77.75280899\n",
      "   78.86516854  79.97752809  81.08988764  82.20224719  83.31460674\n",
      "   84.42696629  85.53932584  86.65168539  87.76404494  88.87640449\n",
      "   89.98876404  91.1011236   92.21348315  93.3258427   94.43820225\n",
      "   95.5505618   96.66292135  97.7752809   98.88764045 100.        ]]\n"
     ]
    }
   ],
   "source": [
    "f2 = f.reshape(3,30)\n",
    "print(f2)"
   ]
  },
  {
   "cell_type": "code",
   "execution_count": 13,
   "metadata": {},
   "outputs": [
    {
     "name": "stdout",
     "output_type": "stream",
     "text": [
      "[[5 7 8]\n",
      " [1 7 2]\n",
      " [3 4 7]]\n",
      "\n",
      "[[6 1 2]\n",
      " [9 8 6]\n",
      " [1 1 4]]\n"
     ]
    }
   ],
   "source": [
    "x = np.random.randint(1,10,(3,3))\n",
    "y = np.random.randint(1,10,(3,3))\n",
    "print(x)\n",
    "print()\n",
    "print(y)"
   ]
  },
  {
   "cell_type": "code",
   "execution_count": 14,
   "metadata": {},
   "outputs": [
    {
     "name": "stdout",
     "output_type": "stream",
     "text": [
      "[[11  8 10]\n",
      " [10 15  8]\n",
      " [ 4  5 11]]\n",
      "[[-1  6  6]\n",
      " [-8 -1 -4]\n",
      " [ 2  3  3]]\n",
      "[[0.83333333 7.         4.        ]\n",
      " [0.11111111 0.875      0.33333333]\n",
      " [3.         4.         1.75      ]]\n",
      "[[0 7 4]\n",
      " [0 0 0]\n",
      " [3 4 1]]\n",
      "[[5 0 0]\n",
      " [1 7 2]\n",
      " [0 0 3]]\n",
      "[[  15625       7      64]\n",
      " [      1 5764801      64]\n",
      " [      3       4    2401]]\n"
     ]
    }
   ],
   "source": [
    "print(x+y)   # element wise addition\n",
    "print(x-y) # element wise subtraction\n",
    "print(x/y) # element wise division\n",
    "print(x//y) # element wise floor division\n",
    "print(x%y) # element wise modulus\n",
    "print(x**y)   # element wise exponentiation"
   ]
  },
  {
   "cell_type": "code",
   "execution_count": 15,
   "metadata": {},
   "outputs": [
    {
     "name": "stdout",
     "output_type": "stream",
     "text": [
      "[[101  69  84]\n",
      " [ 71  59  52]\n",
      " [ 61  42  58]]\n",
      "[[101  69  84]\n",
      " [ 71  59  52]\n",
      " [ 61  42  58]]\n",
      "[[  6  38 -37]\n",
      " [ 26  12 -55]\n",
      " [  9  -5  -1]]\n",
      "[[101  69  84]\n",
      " [ 71  59  52]\n",
      " [ 61  42  58]]\n"
     ]
    }
   ],
   "source": [
    "print(np.dot(x,y))    # Dot Product\n",
    "print(x.dot(y))       # same dot product\n",
    "print(np.cross(x,y))  # cross product\n",
    "print(np.matmul(x,y)) # matrix multiplication\n"
   ]
  },
  {
   "cell_type": "code",
   "execution_count": 16,
   "metadata": {},
   "outputs": [
    {
     "name": "stdout",
     "output_type": "stream",
     "text": [
      "44\n",
      "[ 9 18 17]\n",
      "[20 10 14]\n",
      "4.888888888888889\n",
      "[3.         6.         5.66666667]\n",
      "[6.66666667 3.33333333 4.66666667]\n",
      "2.3778816176702997\n",
      "[1.63299316 1.41421356 2.62466929]\n",
      "[1.24721913 2.62466929 1.69967317]\n",
      "5.0\n",
      "[3. 7. 7.]\n",
      "[7. 2. 4.]\n"
     ]
    }
   ],
   "source": [
    "print(x.sum())  # sum of all elements \n",
    "print(x.sum(axis=0)) # sum of each column\n",
    "print(x.sum(axis=1)) # sum of each row \n",
    "print(x.mean()) # mean of all elements \n",
    "print(x.mean(axis=0)) # mean of each column \n",
    "print(x.mean(axis=1)) # mean of each row\n",
    "print(x.std()) # standard deviation of all elements \n",
    "print(x.std(axis=0)) # standard deviation of each column \n",
    "print(x.std(axis=1)) # standard deviation of each row\n",
    "print(np.median(x)) # median of all elements \n",
    "print(np.median(x,axis=0)) # median of each coloumn \n",
    "print(np.median(x,axis=1)) # median of each row\n"
   ]
  },
  {
   "cell_type": "code",
   "execution_count": 17,
   "metadata": {},
   "outputs": [],
   "source": [
    "import matplotlib.pyplot as plt\n"
   ]
  },
  {
   "cell_type": "code",
   "execution_count": 18,
   "metadata": {},
   "outputs": [
    {
     "data": {
      "text/plain": [
       "[<matplotlib.lines.Line2D at 0x1ca92da0f70>]"
      ]
     },
     "execution_count": 18,
     "metadata": {},
     "output_type": "execute_result"
    },
    {
     "data": {
      "image/png": "[encoded data removed]",
      "text/plain": [
       "<Figure size 640x480 with 1 Axes>"
      ]
     },
     "metadata": {},
     "output_type": "display_data"
    }
   ],
   "source": [
    "t = np.linspace(0,4*np.pi,50)\n",
    "y = np.sin(t)\n",
    "x = np.cos(t)\n",
    "plt.plot(t,x)\n",
    "plt.plot(t,y)\n",
    "plt.plot(t,x, 'ro')   # red dots "
   ]
  },
  {
   "cell_type": "code",
   "execution_count": 19,
   "metadata": {},
   "outputs": [
    {
     "data": {
      "text/plain": [
       "<BarContainer object of 12 artists>"
      ]
     },
     "execution_count": 19,
     "metadata": {},
     "output_type": "execute_result"
    },
    {
     "data": {
      "image/png": "[encoded data removed]",
      "text/plain": [
       "<Figure size 640x480 with 1 Axes>"
      ]
     },
     "metadata": {},
     "output_type": "display_data"
    }
   ],
   "source": [
    "rainfall = [20,30,40,60,70,80,90,100,110,120,130,140]\n",
    "months = ['jan','feb','mar','apr','may','jun','jul','aug','sept','oct','nov','dec']\n",
    "plt.bar(months,rainfall)"
   ]
  },
  {
   "cell_type": "code",
   "execution_count": 20,
   "metadata": {},
   "outputs": [],
   "source": [
    "# Boolean filtering"
   ]
  },
  {
   "cell_type": "code",
   "execution_count": 22,
   "metadata": {},
   "outputs": [
    {
     "data": {
      "text/plain": [
       "array([[622, 962, 662, 706, 671],\n",
       "       [908,   3, 468, 722, 652],\n",
       "       [868,  18, 448, 223, 291],\n",
       "       [135, 652, 391, 991, 479],\n",
       "       [730, 237, 811, 792, 450]])"
      ]
     },
     "execution_count": 22,
     "metadata": {},
     "output_type": "execute_result"
    }
   ],
   "source": [
    "data = np.random.randint(1,1000,(5,5,))\n",
    "print(data)"
   ]
  },
  {
   "cell_type": "code",
   "execution_count": 26,
   "metadata": {},
   "outputs": [
    {
     "name": "stdout",
     "output_type": "stream",
     "text": [
      "3 468 18 448 223 291 135 391 479 237 450 "
     ]
    }
   ],
   "source": [
    "# noob way of getting filtered data\n",
    "for i in data:\n",
    "      for j in i:\n",
    "            if j<500:\n",
    "                  print(j,end=' ')"
   ]
  },
  {
   "cell_type": "code",
   "execution_count": 27,
   "metadata": {},
   "outputs": [
    {
     "data": {
      "text/plain": [
       "array([[False, False, False, False, False],\n",
       "       [False,  True,  True, False, False],\n",
       "       [False,  True,  True,  True,  True],\n",
       "       [ True, False,  True, False,  True],\n",
       "       [False,  True, False, False,  True]])"
      ]
     },
     "execution_count": 27,
     "metadata": {},
     "output_type": "execute_result"
    }
   ],
   "source": [
    "# pythonic way\n",
    "data < 500 # boolean array\n"
   ]
  },
  {
   "cell_type": "code",
   "execution_count": 28,
   "metadata": {},
   "outputs": [
    {
     "data": {
      "text/plain": [
       "array([  3, 468,  18, 448, 223, 291, 135, 391, 479, 237, 450])"
      ]
     },
     "execution_count": 28,
     "metadata": {},
     "output_type": "execute_result"
    }
   ],
   "source": [
    "data[ data < 500 ]"
   ]
  },
  {
   "cell_type": "code",
   "execution_count": 31,
   "metadata": {},
   "outputs": [
    {
     "data": {
      "text/plain": [
       "array([622, 962, 662, 706, 671, 908,   3, 722, 652, 868,  18, 652, 991,\n",
       "       730, 811, 792])"
      ]
     },
     "execution_count": 31,
     "metadata": {},
     "output_type": "execute_result"
    }
   ],
   "source": [
    "data[(data < 100) | (data > 500)]"
   ]
  },
  {
   "cell_type": "code",
   "execution_count": 39,
   "metadata": {},
   "outputs": [
    {
     "name": "stdout",
     "output_type": "stream",
     "text": [
      "[[921 597 818 720 904 597 682 498]\n",
      " [539 287 717 786 357  90 781  82]\n",
      " [196 955   4 141 266 126 618 678]\n",
      " [237 724 148 553 749 988 989 181]\n",
      " [995 578 821 538 155  97 626 752]\n",
      " [298 487 949 464 322 785 554  80]\n",
      " [802 731 221 111 644 675 291 908]\n",
      " [614 885 765 102 825 590 440 812]]\n"
     ]
    }
   ],
   "source": [
    "a = np.random.randint(1,1000,(8,8))\n",
    "print(a)"
   ]
  },
  {
   "cell_type": "code",
   "execution_count": 41,
   "metadata": {},
   "outputs": [
    {
     "name": "stdout",
     "output_type": "stream",
     "text": [
      "[[921 597 818 720 904]\n",
      " [539 287 717 786 357]\n",
      " [196 955   4 141 266]\n",
      " [237 724 148 553 749]\n",
      " [995 578 821 538 155]]\n"
     ]
    }
   ],
   "source": [
    "print(a[:5,:5])\n",
    "# or print(a)"
   ]
  },
  {
   "cell_type": "code",
   "execution_count": 42,
   "metadata": {},
   "outputs": [
    {
     "name": "stdout",
     "output_type": "stream",
     "text": [
      "[[720 682 498]\n",
      " [786 781  82]\n",
      " [141 618 678]\n",
      " [553 989 181]\n",
      " [538 626 752]\n",
      " [464 554  80]\n",
      " [111 291 908]\n",
      " [102 440 812]]\n"
     ]
    }
   ],
   "source": [
    "print(a[:,[3,6,7]])"
   ]
  },
  {
   "cell_type": "code",
   "execution_count": 44,
   "metadata": {},
   "outputs": [
    {
     "name": "stdout",
     "output_type": "stream",
     "text": [
      "[[  4 141 266 126 618]\n",
      " [148 553 749 988 989]\n",
      " [821 538 155  97 626]\n",
      " [949 464 322 785 554]\n",
      " [221 111 644 675 291]]\n",
      "[[  4 141 266 126]\n",
      " [148 553 749 988]\n",
      " [821 538 155  97]\n",
      " [949 464 322 785]]\n"
     ]
    }
   ],
   "source": [
    "print(a[2:7,2:7])\n",
    "print(a[2:-2,2:-2])"
   ]
  },
  {
   "cell_type": "code",
   "execution_count": 45,
   "metadata": {},
   "outputs": [
    {
     "name": "stdout",
     "output_type": "stream",
     "text": [
      "[[921 597 818 720 904 597 682]\n",
      " [539 287 717 786 357  90 781]\n",
      " [196 955   4 141 266 126 618]\n",
      " [237 724 148 553 749 988 989]\n",
      " [995 578 821 538 155  97 626]\n",
      " [298 487 949 464 322 785 554]\n",
      " [802 731 221 111 644 675 291]\n",
      " [614 885 765 102 825 590 440]]\n"
     ]
    }
   ],
   "source": [
    "print(a[:,:-1])"
   ]
  },
  {
   "cell_type": "code",
   "execution_count": null,
   "metadata": {},
   "outputs": [],
   "source": []
  }
 ],
 "metadata": {
  "kernelspec": {
   "display_name": "Python 3.9.12 ('base')",
   "language": "python",
   "name": "python3"
  },
  "language_info": {
   "codemirror_mode": {
    "name": "ipython",
    "version": 3
   },
   "file_extension": ".py",
   "mimetype": "text/x-python",
   "name": "python",
   "nbconvert_exporter": "python",
   "pygments_lexer": "ipython3",
   "version": "3.9.12"
  },
  "orig_nbformat": 4,
  "vscode": {
   "interpreter": {
    "hash": "5e310efb610597eecacd14aa46f7cfe8502fb6c4a83fc4086a11f43669e38f1e"
   }
  }
 },
 "nbformat": 4,
 "nbformat_minor": 2
}
