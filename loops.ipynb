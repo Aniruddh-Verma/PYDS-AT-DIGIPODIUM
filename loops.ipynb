{
 "cells": [
  {
   "cell_type": "markdown",
   "metadata": {},
   "source": [
    "# LOOPS \n",
    "### 1. FOR LOOP\n",
    " #### ITERATION\n",
    " #### TRAVERSAL \n",
    " #### NUMBER OF STEPS ARE KNOWN \n",
    "### 2. WHILE LOOP\n",
    " #### USER INPUT\n",
    " #### CONDITION BASED \n",
    " #### NUM OF STEPS NOT KNOWN"
   ]
  },
  {
   "cell_type": "markdown",
   "metadata": {},
   "source": [
    "## 1.LOOPS"
   ]
  },
  {
   "cell_type": "code",
   "execution_count": 2,
   "metadata": {},
   "outputs": [
    {
     "name": "stdout",
     "output_type": "stream",
     "text": [
      "0\n",
      "2\n",
      "1\n",
      "3\n",
      "6\n",
      "10\n"
     ]
    }
   ],
   "source": [
    "# EXAMPLE 1:TRAVERSAL\n",
    "\n",
    "x= [0,2,1,3,6,10]\n",
    "for i in x:\n",
    "      print(i)"
   ]
  },
  {
   "cell_type": "code",
   "execution_count": 3,
   "metadata": {},
   "outputs": [
    {
     "name": "stdout",
     "output_type": "stream",
     "text": [
      "we got red\n",
      "we got pink\n",
      "we got purple\n"
     ]
    }
   ],
   "source": [
    "#EXAMPLE 2: TRAVERSAL(WITH CUSTOM MESSAGE)\n",
    "\n",
    "colors =['red','pink','purple']\n",
    "\n",
    "for val in colors:\n",
    "      print(f'we got {val}')\n",
    "      \n"
   ]
  },
  {
   "cell_type": "code",
   "execution_count": 7,
   "metadata": {},
   "outputs": [
    {
     "name": "stdout",
     "output_type": "stream",
     "text": [
      "1😊2😊3😊4😊5😊6😊7😊8😊9😊10😊11😊12😊13😊14😊15😊16😊17😊18😊19😊20😊21😊22😊23😊24😊25😊26😊27😊28😊29😊30😊"
     ]
    }
   ],
   "source": [
    "# EXAMPLE 4: TRAVERSAL USING RANGE FUNCTION \n",
    "x=[1,2,3,4,5,6,7,8,9,10,11,12,13,14,15,16,17,18,19,20,21,22,23,24,25,26,27,28,29,30]\n",
    "for i in range(1,31):\n",
    "      print(i,end=',')"
   ]
  },
  {
   "cell_type": "code",
   "execution_count": 8,
   "metadata": {},
   "outputs": [
    {
     "name": "stdout",
     "output_type": "stream",
     "text": [
      "1✔✔2✔✔3✔✔4✔✔5✔✔6✔✔7✔✔8✔✔9✔✔10✔✔11✔✔12✔✔13✔✔14✔✔15✔✔16✔✔17✔✔18✔✔19✔✔20✔✔21✔✔22✔✔23✔✔24✔✔25✔✔26✔✔27✔✔28✔✔29✔✔30✔✔"
     ]
    }
   ],
   "source": [
    "# EXAMPLE 4: TRAVERSAL USING RANGE FUNCTIONS AND EMOJIS \n",
    "x=[1,2,3,4,5,6,7,8,9,10,11,12,13,14,15,16,17,18,19,20,21,22,23,24,25,26,27,28,29,30]\n",
    "for i in range(1,31):\n",
    "      print(i,end='✔✔')\n"
   ]
  },
  {
   "cell_type": "code",
   "execution_count": 11,
   "metadata": {},
   "outputs": [
    {
     "name": "stdout",
     "output_type": "stream",
     "text": [
      "5 x 1 = 5\n",
      "5 x 2 = 10\n",
      "5 x 3 = 15\n",
      "5 x 4 = 20\n",
      "5 x 5 = 25\n",
      "5 x 6 = 30\n",
      "5 x 7 = 35\n",
      "5 x 8 = 40\n",
      "5 x 9 = 45\n",
      "5 x 10 = 50\n"
     ]
    }
   ],
   "source": [
    "#EXAMPLE 5: HOW TO PRINT A TABLE \n",
    "\n",
    "for i in range(1,11):\n",
    "      print(f'5 x {i} = {5*i}')"
   ]
  },
  {
   "cell_type": "code",
   "execution_count": null,
   "metadata": {},
   "outputs": [],
   "source": []
  }
 ],
 "metadata": {
  "kernelspec": {
   "display_name": "Python 3.10.6 ('py310')",
   "language": "python",
   "name": "python3"
  },
  "language_info": {
   "codemirror_mode": {
    "name": "ipython",
    "version": 3
   },
   "file_extension": ".py",
   "mimetype": "text/x-python",
   "name": "python",
   "nbconvert_exporter": "python",
   "pygments_lexer": "ipython3",
   "version": "3.10.6"
  },
  "orig_nbformat": 4,
  "vscode": {
   "interpreter": {
    "hash": "c135332bc3af040b88a6e0c39181874c2763610dce4b8099a6b2fd6a2f0167a2"
   }
  }
 },
 "nbformat": 4,
 "nbformat_minor": 2
}
