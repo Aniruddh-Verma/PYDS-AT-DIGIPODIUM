{
 "cells": [
  {
   "cell_type": "markdown",
   "metadata": {},
   "source": [
    "# LOOPS \n",
    "### 1. FOR LOOP\n",
    "   ###### USED FOR ITERATION\n",
    "   ###### USED FOR TRAVERSAL \n",
    "   ###### NUMBER OF STEPS ARE KNOWN \n",
    "### 2. WHILE LOOP\n",
    "   ###### USER INPUT\n",
    "   ###### CONDITION BASED \n",
    "   ###### NUM OF STEPS NOT KNOWN"
   ]
  },
  {
   "cell_type": "markdown",
   "metadata": {},
   "source": [
    "### 1. FOR LOOPS"
   ]
  },
  {
   "cell_type": "code",
   "execution_count": 4,
   "metadata": {},
   "outputs": [
    {
     "name": "stdout",
     "output_type": "stream",
     "text": [
      "0\n",
      "2\n",
      "1\n",
      "3\n",
      "6\n",
      "10\n",
      "we got red\n",
      "we got pink\n",
      "we got purple\n",
      "1,2,3,4,5,6,7,8,9,10,11,12,13,14,15,16,17,18,19,20,21,22,23,24,25,26,27,28,29,30,1✔✔2✔✔3✔✔4✔✔5✔✔6✔✔7✔✔8✔✔9✔✔10✔✔11✔✔12✔✔13✔✔14✔✔15✔✔16✔✔17✔✔18✔✔19✔✔20✔✔21✔✔22✔✔23✔✔24✔✔25✔✔26✔✔27✔✔28✔✔29✔✔30✔✔\n",
      "5 x 1 = 5\n",
      "5 x 2 = 10\n",
      "5 x 3 = 15\n",
      "5 x 4 = 20\n",
      "5 x 5 = 25\n",
      "5 x 6 = 30\n",
      "5 x 7 = 35\n",
      "5 x 8 = 40\n",
      "5 x 9 = 45\n",
      "5 x 10 = 50\n",
      "0,5,10,15,20,25,30,35,40,45,50,55,60,65,70,75,80,85,90,95,100,\n",
      "10,9,8,7,6,5,4,3,2,1,\n"
     ]
    }
   ],
   "source": [
    "# EXAMPLE 1:TRAVERSAL\n",
    "\n",
    "x= [0,2,1,3,6,10]\n",
    "for i in x:\n",
    "      print(i)\n",
    "\n",
    "#EXAMPLE 2: TRAVERSAL(WITH CUSTOM MESSAGE)\n",
    "\n",
    "colors =['red','pink','purple']\n",
    "\n",
    "for val in colors:\n",
    "      print(f'we got {val}')\n",
    "      \n",
    "# EXAMPLE 3: TRAVERSAL USING RANGE FUNCTION \n",
    "\n",
    "x=[1,2,3,4,5,6,7,8,9,10,11,12,13,14,15,16,17,18,19,20,21,22,23,24,25,26,27,28,29,30]\n",
    "for i in range(1,31):\n",
    "      print(i,end=',')\n",
    "\n",
    "# EXAMPLE 4: TRAVERSAL USING RANGE FUNCTIONS AND EMOJIS \n",
    "\n",
    "x=[1,2,3,4,5,6,7,8,9,10,11,12,13,14,15,16,17,18,19,20,21,22,23,24,25,26,27,28,29,30]\n",
    "for i in range(1,31):\n",
    "      print(i,end='✔✔')\n",
    "print()\n",
    "#EXAMPLE 5: HOW TO PRINT A TABLE \n",
    "\n",
    "for i in range(1,11):\n",
    "      print(f'5 x {i} = {5*i}')\n",
    "\n",
    "# EXAMPLE 6: RANGE START,STEP,STOP\n",
    "\n",
    "for i in range(0,101,5):\n",
    "      print(i,end=',')\n",
    "print()\n",
    "for i in range(10,0,-1):\n",
    "      print(i,end=',')\n",
    "print()"
   ]
  },
  {
   "cell_type": "code",
   "execution_count": 3,
   "metadata": {},
   "outputs": [
    {
     "name": "stdout",
     "output_type": "stream",
     "text": [
      "we got red\n",
      "we got pink\n",
      "we got purple\n"
     ]
    }
   ],
   "source": []
  },
  {
   "cell_type": "code",
   "execution_count": 7,
   "metadata": {},
   "outputs": [
    {
     "name": "stdout",
     "output_type": "stream",
     "text": [
      "1😊2😊3😊4😊5😊6😊7😊8😊9😊10😊11😊12😊13😊14😊15😊16😊17😊18😊19😊20😊21😊22😊23😊24😊25😊26😊27😊28😊29😊30😊"
     ]
    }
   ],
   "source": []
  },
  {
   "cell_type": "code",
   "execution_count": 8,
   "metadata": {},
   "outputs": [
    {
     "name": "stdout",
     "output_type": "stream",
     "text": [
      "1✔✔2✔✔3✔✔4✔✔5✔✔6✔✔7✔✔8✔✔9✔✔10✔✔11✔✔12✔✔13✔✔14✔✔15✔✔16✔✔17✔✔18✔✔19✔✔20✔✔21✔✔22✔✔23✔✔24✔✔25✔✔26✔✔27✔✔28✔✔29✔✔30✔✔"
     ]
    }
   ],
   "source": []
  },
  {
   "cell_type": "code",
   "execution_count": 11,
   "metadata": {},
   "outputs": [
    {
     "name": "stdout",
     "output_type": "stream",
     "text": [
      "5 x 1 = 5\n",
      "5 x 2 = 10\n",
      "5 x 3 = 15\n",
      "5 x 4 = 20\n",
      "5 x 5 = 25\n",
      "5 x 6 = 30\n",
      "5 x 7 = 35\n",
      "5 x 8 = 40\n",
      "5 x 9 = 45\n",
      "5 x 10 = 50\n"
     ]
    }
   ],
   "source": []
  },
  {
   "cell_type": "code",
   "execution_count": 3,
   "metadata": {},
   "outputs": [
    {
     "name": "stdout",
     "output_type": "stream",
     "text": [
      "0,5,10,15,20,25,30,35,40,45,50,55,60,65,70,75,80,85,90,95,100,10,9,8,7,6,5,4,3,2,1,"
     ]
    }
   ],
   "source": []
  },
  {
   "cell_type": "code",
   "execution_count": 4,
   "metadata": {},
   "outputs": [
    {
     "name": "stdout",
     "output_type": "stream",
     "text": [
      "potato🥔\n",
      "tomato🍅\n",
      "onion🧅\n",
      "cabbage🥬\n",
      "carrot🥕\n"
     ]
    }
   ],
   "source": [
    "# EXAMPLE 7: HOW TO PRINT INDEXES OF THE ELEMENT \n",
    "veg =['potato🥔','tomato🍅','onion🧅','cabbage🥬','carrot🥕']\n",
    "for item in veg:\n",
    "      print(item)"
   ]
  },
  {
   "cell_type": "code",
   "execution_count": 5,
   "metadata": {},
   "outputs": [
    {
     "name": "stdout",
     "output_type": "stream",
     "text": [
      "(0, 'potato🥔')\n",
      "(1, 'tomato🍅')\n",
      "(2, 'onion🧅')\n",
      "(3, 'cabbage🥬')\n",
      "(4, 'carrot🥕')\n"
     ]
    }
   ],
   "source": [
    "# EXAMPLE 8: HOW TO PRINT INDEXES OF THE ELEMENT USING ENUMERATE\n",
    "veg =['potato🥔','tomato🍅','onion🧅','cabbage🥬','carrot🥕']\n",
    "for item in enumerate(veg):\n",
    "      print(item)"
   ]
  },
  {
   "cell_type": "code",
   "execution_count": 7,
   "metadata": {},
   "outputs": [
    {
     "name": "stdout",
     "output_type": "stream",
     "text": [
      "0 potato🥔\n",
      "1 tomato🍅\n",
      "2 onion🧅\n",
      "3 cabbage🥬\n",
      "4 carrot🥕\n"
     ]
    }
   ],
   "source": [
    "# EXAMPLE 9: HOW TO PRINT INDEXES OF THE ELEMENT USING ENUMERATE \n",
    "veg =['potato🥔','tomato🍅','onion🧅','cabbage🥬','carrot🥕']\n",
    "for index,value in enumerate(veg):\n",
    "      print(index ,value)"
   ]
  },
  {
   "cell_type": "code",
   "execution_count": 5,
   "metadata": {},
   "outputs": [
    {
     "name": "stdout",
     "output_type": "stream",
     "text": [
      "potato🥔--------💲💲35\n",
      "tomato🍅--------💲💲80\n",
      "onion🧅--------💲💲30\n",
      "cabbage🥬--------💲💲15\n",
      "carrot🥕--------💲💲30\n",
      "potato🥔--------💲💲35\n",
      "tomato🍅--------💲💲80\n",
      "onion🧅--------💲💲30\n",
      "cabbage🥬--------💲💲15\n",
      "carrot🥕--------💲💲30\n"
     ]
    }
   ],
   "source": [
    "# EXAMPLE 10: PRINTING VALUES OF TWO DIFFERENT LISTS TOGETHER \n",
    "# NON-PYTHONIC WAY\n",
    "veg =['potato🥔','tomato🍅','onion🧅','cabbage🥬','carrot🥕']\n",
    "prices =['35','80','30','15','30']\n",
    "for i in range(len(veg)):\n",
    "      print(f'{veg[i]}--------💲💲{prices[i]}')\n",
    "\n",
    "# PYTHONIC WAY\n",
    "veg =['potato🥔','tomato🍅','onion🧅','cabbage🥬','carrot🥕']\n",
    "prices =['35','80','30','15','30']\n",
    "for v,p in zip(veg,prices):\n",
    "      print(f'{v}--------💲💲{p}')"
   ]
  },
  {
   "cell_type": "code",
   "execution_count": 14,
   "metadata": {},
   "outputs": [
    {
     "name": "stdout",
     "output_type": "stream",
     "text": [
      "movie name- shawshank redemption---movie rating- 9.2----movie year- 1994----movie director- Frank Darabont\n",
      "movie name- the godfather---movie rating- 9.2----movie year- 1972----movie director- Francis Ford Coppol\n",
      "movie name- dark knight---movie rating- 9.0----movie year- 2008----movie director- christopher nolan\n",
      "movie name- pulp fiction---movie rating- 8.8----movie year- 1994----movie director- quentin tarantino\n"
     ]
    }
   ],
   "source": [
    "# EXAMPLE 11: PRINTING MOVIE NAME, RATING, YEAR, DIRECTOR\n",
    "\n",
    "movie= ['shawshank redemption','the godfather','dark knight','pulp fiction']\n",
    "rating=[9.2,9.2,9.0,8.8]\n",
    "movie_yr=['1994','1972','2008','1994']\n",
    "movie_dir=['Frank Darabont','Francis Ford Coppol','christopher nolan','quentin tarantino']\n",
    "for m,r,y,d in zip (movie,rating,movie_yr,movie_dir):\n",
    "      print(f'movie name- {m}---movie rating- {r}----movie year- {y}----movie director- {d}')"
   ]
  },
  {
   "cell_type": "markdown",
   "metadata": {},
   "source": [
    "### 2. NESTED-FOR LOOPS"
   ]
  },
  {
   "cell_type": "code",
   "execution_count": 17,
   "metadata": {},
   "outputs": [
    {
     "name": "stdout",
     "output_type": "stream",
     "text": [
      "0 1 2 3 4 5 6 7 8 9 \n",
      "0 1 2 3 4 5 6 7 8 9 \n",
      "0 1 2 3 4 5 6 7 8 9 \n",
      "0 1 2 3 4 5 6 7 8 9 \n",
      "0 1 2 3 4 5 6 7 8 9 \n",
      "0 1 2 3 4 5 6 7 8 9 \n",
      "0 1 2 3 4 5 6 7 8 9 \n",
      "0 1 2 3 4 5 6 7 8 9 \n",
      "0 1 2 3 4 5 6 7 8 9 \n",
      "0 1 2 3 4 5 6 7 8 9 \n"
     ]
    }
   ],
   "source": [
    "# EXAMPLE 1: NESTED FOR LOOPS\n",
    "for i in range(10):\n",
    "      for i in range(10):\n",
    "            print(i,end=' ')\n",
    "      print()"
   ]
  },
  {
   "cell_type": "markdown",
   "metadata": {},
   "source": [
    "### 3.BREAK AND CONTINUE"
   ]
  },
  {
   "cell_type": "markdown",
   "metadata": {},
   "source": [
    "##### 1.BREAK STATEMENT "
   ]
  },
  {
   "cell_type": "code",
   "execution_count": 8,
   "metadata": {},
   "outputs": [
    {
     "name": "stdout",
     "output_type": "stream",
     "text": [
      "1\n",
      "2\n",
      "3\n",
      "4\n"
     ]
    }
   ],
   "source": [
    "# EXAMPLE 1: BREAK STATEMENT\n",
    "\n",
    "x=[1,2,3,4,0,0,5]\n",
    "for i in x:\n",
    "      if i==0:\n",
    "            break\n",
    "      print(i)"
   ]
  },
  {
   "cell_type": "markdown",
   "metadata": {},
   "source": [
    "##### 2. CONTINUE STATEMENT "
   ]
  },
  {
   "cell_type": "code",
   "execution_count": 9,
   "metadata": {},
   "outputs": [
    {
     "name": "stdout",
     "output_type": "stream",
     "text": [
      "1\n",
      "2\n",
      "3\n",
      "4\n",
      "5\n"
     ]
    }
   ],
   "source": [
    "# EXAMPLE 2: CONTINUE STATEMENT\n",
    "x=[1,2,3,4,0,0,5]\n",
    "for i in x:\n",
    "      if i==0:\n",
    "            continue\n",
    "      print(i)\n",
    "\n",
    "## only use for memory optimisation"
   ]
  },
  {
   "cell_type": "code",
   "execution_count": 2,
   "metadata": {},
   "outputs": [
    {
     "name": "stdout",
     "output_type": "stream",
     "text": [
      "not prime\n"
     ]
    }
   ],
   "source": [
    "# METHOD 1: WAP TO CHECK WHETHER THE NUMBER IS PRIME NUMBER \n",
    "x=int(input(\"enter the number\"))\n",
    "count=0\n",
    "for i in range(1,x+1):\n",
    "      if x%i == 0:\n",
    "            count+=1      \n",
    "if count == 2:\n",
    "      print('prime number')\n",
    "elif count !=2:\n",
    "      print('not prime')\n"
   ]
  },
  {
   "cell_type": "code",
   "execution_count": 1,
   "metadata": {},
   "outputs": [
    {
     "name": "stdout",
     "output_type": "stream",
     "text": [
      "prime\n"
     ]
    }
   ],
   "source": [
    "# METHOD 2: WAP TO CHECK WHETHER THE NUMBER IS PRIME NUMBER \n",
    "num=11\n",
    "for i in range(2,num):\n",
    "      if num %i ==0:\n",
    "            print('not prime')\n",
    "            break\n",
    "else:   #else block is only execute when for is broken\n",
    "      print('prime')"
   ]
  },
  {
   "cell_type": "markdown",
   "metadata": {},
   "source": [
    "### 4. WHILE LOOP "
   ]
  },
  {
   "cell_type": "code",
   "execution_count": 3,
   "metadata": {},
   "outputs": [
    {
     "name": "stdout",
     "output_type": "stream",
     "text": [
      "10\n",
      "8\n",
      "6\n",
      "4\n",
      "2\n"
     ]
    }
   ],
   "source": [
    "# EXAMPLE 1:\n",
    "\n",
    "x=10\n",
    "while(x>0):\n",
    "      print(x)\n",
    "      x-=2"
   ]
  },
  {
   "cell_type": "code",
   "execution_count": 6,
   "metadata": {},
   "outputs": [
    {
     "name": "stdout",
     "output_type": "stream",
     "text": [
      "total is 36\n"
     ]
    }
   ],
   "source": [
    "# EXAMPLE 2:\n",
    "total=0\n",
    "while True:\n",
    "      num= int(input('enter a number'))\n",
    "      if num == 0:\n",
    "            break\n",
    "      total+= num\n",
    "print(f'total is {total}')\n"
   ]
  },
  {
   "cell_type": "code",
   "execution_count": 4,
   "metadata": {},
   "outputs": [
    {
     "name": "stdout",
     "output_type": "stream",
     "text": [
      "these are your books\n",
      "['intro to algorithms', 'operating systems ', 'intoduction to database']\n"
     ]
    }
   ],
   "source": [
    "#EXAMPLE 3:\n",
    "book=[]\n",
    "while True:\n",
    "      name= input('enter the name: ')\n",
    "      if name:\n",
    "            book.append(name)\n",
    "      else:\n",
    "            break\n",
    "print('these are your books')\n",
    "print(book)"
   ]
  },
  {
   "cell_type": "code",
   "execution_count": 2,
   "metadata": {},
   "outputs": [
    {
     "name": "stdout",
     "output_type": "stream",
     "text": [
      "fibbonacci series: 0 1,1,2,3,5,8,13,21,34,"
     ]
    }
   ],
   "source": [
    "# WAP TO PRINT THE FIBBONACCI SERIES UPTO TO THE GIVEN NUMBER\n",
    "\n",
    "num= 10\n",
    "n1,n2=0,1\n",
    "print('fibbonacci series:',n1,n2,end=',')\n",
    "for i in range(2,num):\n",
    "      n3=n1+n2\n",
    "      print(n3,end=',')\n",
    "      n1=n2\n",
    "      n2=n3\n",
    "print()\n"
   ]
  }
 ],
 "metadata": {
  "kernelspec": {
   "display_name": "Python 3.10.6 ('py310')",
   "language": "python",
   "name": "python3"
  },
  "language_info": {
   "codemirror_mode": {
    "name": "ipython",
    "version": 3
   },
   "file_extension": ".py",
   "mimetype": "text/x-python",
   "name": "python",
   "nbconvert_exporter": "python",
   "pygments_lexer": "ipython3",
   "version": "3.10.6"
  },
  "orig_nbformat": 4,
  "vscode": {
   "interpreter": {
    "hash": "c135332bc3af040b88a6e0c39181874c2763610dce4b8099a6b2fd6a2f0167a2"
   }
  }
 },
 "nbformat": 4,
 "nbformat_minor": 2
}
