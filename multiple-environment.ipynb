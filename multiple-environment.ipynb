{
 "cells": [
  {
   "cell_type": "markdown",
   "metadata": {},
   "source": [
    "## HOW TO INSTALL VARIOUS PYTHON ENVIRONMENTS??\n",
    " \n",
    " "
   ]
  },
  {
   "cell_type": "markdown",
   "metadata": {},
   "source": [
    "#### 1. how to install python version 3.10\n",
    " ###### use command:- conda create -n py310 python=3.10 ipykernel -y\n",
    " ##### to select the environment of python 3.10\n",
    " ###### use command:- conda activate py310 or conda deactivate\n",
    " ##### to see the installed verison\n",
    " ###### use command:- conda --version\n",
    "\n"
   ]
  }
 ],
 "metadata": {
  "kernelspec": {
   "display_name": "Python 3.10.6 ('py310')",
   "language": "python",
   "name": "python3"
  },
  "language_info": {
   "name": "python",
   "version": "3.10.6"
  },
  "orig_nbformat": 4,
  "vscode": {
   "interpreter": {
    "hash": "c135332bc3af040b88a6e0c39181874c2763610dce4b8099a6b2fd6a2f0167a2"
   }
  }
 },
 "nbformat": 4,
 "nbformat_minor": 2
}
