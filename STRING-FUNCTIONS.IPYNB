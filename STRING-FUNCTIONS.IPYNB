{
 "cells": [
  {
   "cell_type": "markdown",
   "metadata": {},
   "source": [
    "# STRING FUNCTIONS"
   ]
  },
  {
   "cell_type": "code",
   "execution_count": 23,
   "metadata": {},
   "outputs": [],
   "source": [
    "### STRINGS CAN BE WRITTEN IN DOUBLE QUOTES, SINGLE QUOTES, TRIPLE SINGLE QUOTES \n",
    "\n",
    "data='This is a Sparta'\n",
    "data1=\"This is Sparta\"\n",
    "data2='''This is Sparta'''"
   ]
  },
  {
   "cell_type": "markdown",
   "metadata": {},
   "source": [
    "### 1. FORMATTING FUNCTIONS\n",
    "##### # upper()\n",
    "##### # lower()\n",
    "##### # title()\n",
    "##### # swapcase()\n",
    "##### # ljust()\n",
    "##### # rjust()\n",
    "##### # center()"
   ]
  },
  {
   "cell_type": "code",
   "execution_count": 24,
   "metadata": {},
   "outputs": [
    {
     "name": "stdout",
     "output_type": "stream",
     "text": [
      "THIS IS A SPARTA\n",
      "this is a sparta\n",
      "This Is A Sparta\n",
      "tHIS IS A sPARTA\n",
      "This is a sparta\n"
     ]
    }
   ],
   "source": [
    "### EXAMPLE 1: SHORT EXAMPLES OF FORMATTING FUNCTIONS ###\n",
    "\n",
    "print(data.upper())\n",
    "print(data.lower())\n",
    "print(data.title())\n",
    "print(data.swapcase())\n",
    "print(data.capitalize())"
   ]
  },
  {
   "cell_type": "code",
   "execution_count": 25,
   "metadata": {},
   "outputs": [
    {
     "name": "stdout",
     "output_type": "stream",
     "text": [
      "This is a Sparta                                  \n",
      "This is a Sparta::::::::::::::::::::::::::::::::::\n"
     ]
    }
   ],
   "source": [
    "### EXAMPLE 2: SHORT EXAMPLES OF LJUST() ###\n",
    "\n",
    "print(data.ljust(50))\n",
    "print(data.ljust(50,':'))\n"
   ]
  },
  {
   "cell_type": "code",
   "execution_count": 26,
   "metadata": {},
   "outputs": [
    {
     "name": "stdout",
     "output_type": "stream",
     "text": [
      "                                  This is a Sparta\n",
      ";;;;;;;;;;;;;;;;;;;;;;;;;;;;;;;;;;This is a Sparta\n"
     ]
    }
   ],
   "source": [
    "### EXAMPLE 3: SHORT EXAMPLES OF RJUST() ###\n",
    "\n",
    "print(data.rjust(50))\n",
    "print(data.rjust(50,';'))"
   ]
  },
  {
   "cell_type": "code",
   "execution_count": 27,
   "metadata": {},
   "outputs": [
    {
     "name": "stdout",
     "output_type": "stream",
     "text": [
      "                 This is a Sparta                 \n",
      "::::::::::::This is a Sparta::::::::::::\n"
     ]
    }
   ],
   "source": [
    "### EXAMPLE 4: SHORT EXAMPLES OF CENTER() ###\n",
    "\n",
    "print(data.center(50))\n",
    "print(data.center(40,':'))"
   ]
  },
  {
   "cell_type": "markdown",
   "metadata": {},
   "source": [
    "## 2. VALIDATION FUNCTIONS\n",
    "##### # isnumeric()\n",
    "##### # isalpha()\n",
    "##### # isalnum()\n",
    "##### # startswith()\n",
    "##### # endswith()"
   ]
  },
  {
   "cell_type": "code",
   "execution_count": 28,
   "metadata": {},
   "outputs": [
    {
     "name": "stdout",
     "output_type": "stream",
     "text": [
      "True\n"
     ]
    }
   ],
   "source": [
    "# EXAMPLE 1: SHORT EXAMPLE FOR ISNUMERIC()\n",
    "\n",
    "val = input()\n",
    "print(val.isnumeric())"
   ]
  },
  {
   "cell_type": "code",
   "execution_count": 29,
   "metadata": {},
   "outputs": [
    {
     "name": "stdout",
     "output_type": "stream",
     "text": [
      "False\n"
     ]
    }
   ],
   "source": [
    "# EXAMPLE 2: SHORT EXAMPLE FOR ISALPHA()\n",
    "\n",
    "val=input()\n",
    "print(val.isalpha())"
   ]
  },
  {
   "cell_type": "code",
   "execution_count": 30,
   "metadata": {},
   "outputs": [
    {
     "name": "stdout",
     "output_type": "stream",
     "text": [
      "True\n"
     ]
    }
   ],
   "source": [
    "# EXAMPLE 3: SHORT EXAMPLE FOR ISALNUM()\n",
    "\n",
    "val=input()\n",
    "print(val.isalnum())"
   ]
  },
  {
   "cell_type": "code",
   "execution_count": 31,
   "metadata": {},
   "outputs": [
    {
     "name": "stdout",
     "output_type": "stream",
     "text": [
      "result= 2772\n"
     ]
    }
   ],
   "source": [
    "# EXAMPLE 4: SHORT EXAMPLE FOR PRINTNG PRODUCT OF TWO NUMBER \n",
    "\n",
    "x=input(\"enter a value\")\n",
    "y=input(\"enter the value\")\n",
    "if x.isnumeric() and y.isnumeric():\n",
    "      x=int(x)\n",
    "      y=int(y)\n",
    "      print(f'result= {x*y}')\n",
    "else:\n",
    "      print(\"invalid values\")"
   ]
  },
  {
   "cell_type": "code",
   "execution_count": 32,
   "metadata": {},
   "outputs": [
    {
     "name": "stdout",
     "output_type": "stream",
     "text": [
      "hi There\n"
     ]
    }
   ],
   "source": [
    "# EXAMPLE 5: SHORT EXAMPLE FOR STARTSWITH() \n",
    "\n",
    "name=\"Mr.James\"\n",
    "if name.startswith('dr.'):\n",
    "      print(\"hello mister\")\n",
    "if name.startswith('Mr.'):\n",
    "      print(\"hi There\")      "
   ]
  },
  {
   "cell_type": "code",
   "execution_count": 33,
   "metadata": {},
   "outputs": [
    {
     "name": "stdout",
     "output_type": "stream",
     "text": [
      "useful\n"
     ]
    }
   ],
   "source": [
    "# EXAMPLE 6: SHORT EXAMPLE FOR ENDSWITH()\n",
    "\n",
    "file =\"song.mp3\"\n",
    "if file.endswith(\"docx\"):\n",
    "      print(\"not useful\")\n",
    "if file.endswith(\"mp3\"):\n",
    "      print(\"useful\")"
   ]
  },
  {
   "cell_type": "markdown",
   "metadata": {},
   "source": [
    "## 3. UTILITY FUNCTIONS\n",
    "##### # FIND()\n",
    "##### # REPLACE()\n",
    "##### # SPLIT()\n",
    "##### # JOIN()\n",
    "##### # STRIP() \n",
    "##### # COUNT()"
   ]
  },
  {
   "cell_type": "code",
   "execution_count": 40,
   "metadata": {},
   "outputs": [
    {
     "name": "stdout",
     "output_type": "stream",
     "text": [
      "9\n"
     ]
    }
   ],
   "source": [
    "# EXAMPLE 1: SHORT EXAMPLE OF FIND()\n",
    "data='This is Saprta'\n",
    "print(data.find('a'))"
   ]
  },
  {
   "cell_type": "code",
   "execution_count": 42,
   "metadata": {},
   "outputs": [
    {
     "name": "stdout",
     "output_type": "stream",
     "text": [
      "was found at 23\n",
      "30\n",
      "41\n",
      "41\n"
     ]
    }
   ],
   "source": [
    "# EXAMPLE 2: USE CASE OF FIND()\n",
    "\n",
    "# CASE 1: TO FIND THE FIRST APPEARANCE OF WAS\n",
    "word=\"once upon a time there was a person that was not imporant to the story\"\n",
    "idx1=word.find('was')          ## GIVES THE INDEX OF FIRST APPEARANCE ##\n",
    "print('was found at',idx1)\n",
    "\n",
    "# CASE 2: TO FIND THE FIRST APPEARANCE OF 'ERSO'\n",
    "print(word.find('erso'))       ## GIVES THE INDEX OF FIRST APPEARANCE ##\n",
    "\n",
    "# CASE 3: TO FIND THE VALUE OF 'WAS' AT SECOND APPEARANCE \n",
    "print(word.find('was',idx1+1)) ## GIVES THE INDEX OF SECOND APPEARANCE ##\n",
    "\n",
    "# CASE 4: IF WE WANT TO SEARCH SOMETHING FROM BEHIND\n",
    "print(word.rfind('was'))       ## GIVES THE INDEX OF THE STRING OF THE LAST APPEARANCE ##"
   ]
  },
  {
   "cell_type": "code",
   "execution_count": 36,
   "metadata": {},
   "outputs": [
    {
     "name": "stdout",
     "output_type": "stream",
     "text": [
      "23\n"
     ]
    }
   ],
   "source": [
    "# EXAMPLE 3: TO FIND THE INDEX OF 'WAS' \n",
    "\n",
    "print(word.index('was'))  ## IT IS PREFFERED TO USE FIND() OVER STRING() SO THAT THE PROGRAM DO NOT CRASH ##"
   ]
  },
  {
   "cell_type": "code",
   "execution_count": 37,
   "metadata": {},
   "outputs": [
    {
     "name": "stdout",
     "output_type": "stream",
     "text": [
      "['once', 'upon', 'a', 'time', 'there', 'was', 'a', 'person', 'that', 'was', 'not', 'imporant', 'to', 'the', 'story']\n"
     ]
    }
   ],
   "source": [
    "# EXAMPLE 4: TO \n",
    "data = word.split()\n",
    "print(data)"
   ]
  },
  {
   "cell_type": "code",
   "execution_count": null,
   "metadata": {},
   "outputs": [],
   "source": []
  }
 ],
 "metadata": {
  "kernelspec": {
   "display_name": "Python 3.9.12 ('base')",
   "language": "python",
   "name": "python3"
  },
  "language_info": {
   "codemirror_mode": {
    "name": "ipython",
    "version": 3
   },
   "file_extension": ".py",
   "mimetype": "text/x-python",
   "name": "python",
   "nbconvert_exporter": "python",
   "pygments_lexer": "ipython3",
   "version": "3.9.12"
  },
  "orig_nbformat": 4,
  "vscode": {
   "interpreter": {
    "hash": "5e310efb610597eecacd14aa46f7cfe8502fb6c4a83fc4086a11f43669e38f1e"
   }
  }
 },
 "nbformat": 4,
 "nbformat_minor": 2
}
