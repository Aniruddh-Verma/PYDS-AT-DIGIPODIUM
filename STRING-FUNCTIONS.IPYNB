{
 "cells": [
  {
   "cell_type": "markdown",
   "metadata": {},
   "source": [
    "# STRING FUNCTIONS"
   ]
  },
  {
   "cell_type": "code",
   "execution_count": 11,
   "metadata": {},
   "outputs": [],
   "source": [
    "data='This is a Sparta'\n"
   ]
  },
  {
   "cell_type": "markdown",
   "metadata": {},
   "source": [
    "#### 1. formatting functions\n",
    "##### # upper()\n",
    "##### # lower()\n",
    "##### # title()\n",
    "##### # swapcase()\n",
    "##### # ljust()\n",
    "##### # rjust()\n",
    "##### # center()"
   ]
  },
  {
   "cell_type": "code",
   "execution_count": 12,
   "metadata": {},
   "outputs": [
    {
     "name": "stdout",
     "output_type": "stream",
     "text": [
      "THIS IS A SPARTA\n",
      "this is a sparta\n",
      "This Is A Sparta\n",
      "tHIS IS A sPARTA\n",
      "This is a sparta\n"
     ]
    }
   ],
   "source": [
    "print(data.upper())\n",
    "print(data.lower())\n",
    "print(data.title())\n",
    "print(data.swapcase())\n",
    "print(data.capitalize())"
   ]
  },
  {
   "cell_type": "code",
   "execution_count": 32,
   "metadata": {},
   "outputs": [
    {
     "name": "stdout",
     "output_type": "stream",
     "text": [
      "This is a Sparta                                  \n",
      "This is a Sparta::::::::::::::::::::::::::::::::::\n"
     ]
    }
   ],
   "source": [
    "\n",
    "print(data.ljust(50))\n",
    "print(data.ljust(50,':'))"
   ]
  },
  {
   "cell_type": "code",
   "execution_count": 33,
   "metadata": {},
   "outputs": [
    {
     "name": "stdout",
     "output_type": "stream",
     "text": [
      "                                  This is a Sparta\n",
      ";;;;;;;;;;;;;;;;;;;;;;;;;;;;;;;;;;This is a Sparta\n"
     ]
    }
   ],
   "source": [
    "print(data.rjust(50))\n",
    "print(data.rjust(50,';'))"
   ]
  },
  {
   "cell_type": "code",
   "execution_count": 34,
   "metadata": {},
   "outputs": [
    {
     "name": "stdout",
     "output_type": "stream",
     "text": [
      "                 This is a Sparta                 \n",
      "::::::::::::This is a Sparta::::::::::::\n"
     ]
    }
   ],
   "source": [
    "print(data.center(50))\n",
    "print(data.center(40,':'))"
   ]
  },
  {
   "cell_type": "markdown",
   "metadata": {},
   "source": [
    "#### 2.validation functions\n",
    "##### # isnumeric()\n",
    "##### # isalpha()\n",
    "##### # isalnum()\n",
    "##### # startswith()\n",
    "##### # endswith()"
   ]
  },
  {
   "cell_type": "code",
   "execution_count": 23,
   "metadata": {},
   "outputs": [
    {
     "name": "stdout",
     "output_type": "stream",
     "text": [
      "True\n"
     ]
    }
   ],
   "source": [
    "val = input()\n",
    "print(val.isnumeric())"
   ]
  },
  {
   "cell_type": "code",
   "execution_count": 26,
   "metadata": {},
   "outputs": [
    {
     "name": "stdout",
     "output_type": "stream",
     "text": [
      "True\n"
     ]
    }
   ],
   "source": [
    "val=input()\n",
    "print(val.isalpha())"
   ]
  },
  {
   "cell_type": "code",
   "execution_count": 28,
   "metadata": {},
   "outputs": [
    {
     "name": "stdout",
     "output_type": "stream",
     "text": [
      "False\n"
     ]
    }
   ],
   "source": [
    "val=input()\n",
    "print(val.isalnum())"
   ]
  },
  {
   "cell_type": "code",
   "execution_count": 37,
   "metadata": {},
   "outputs": [
    {
     "name": "stdout",
     "output_type": "stream",
     "text": [
      "result= 144\n"
     ]
    }
   ],
   "source": [
    "x=input(\"enter a value\")\n",
    "y=input(\"enter the value\")\n",
    "if x.isnumeric() and y.isnumeric():\n",
    "      x=int(x)\n",
    "      y=int(y)\n",
    "      print(f'result= {x*y}')\n",
    "else:\n",
    "      print(\"invalid values\")"
   ]
  },
  {
   "cell_type": "code",
   "execution_count": 38,
   "metadata": {},
   "outputs": [
    {
     "name": "stdout",
     "output_type": "stream",
     "text": [
      "hi There\n"
     ]
    }
   ],
   "source": [
    "# startswith\n",
    "# endswith\n",
    "name=\"Mr.James\"\n",
    "if name.startswith('dr.'):\n",
    "      print(\"hello mister\")\n",
    "if name.startswith('Mr.'):\n",
    "      print(\"hi There\")\n",
    "      "
   ]
  },
  {
   "cell_type": "code",
   "execution_count": 39,
   "metadata": {},
   "outputs": [
    {
     "name": "stdout",
     "output_type": "stream",
     "text": [
      "useful\n"
     ]
    }
   ],
   "source": [
    "file =\"song.mp3\"\n",
    "if file.endswith(\"docx\"):\n",
    "      print(\"not useful\")\n",
    "if file.endswith(\"mp3\"):\n",
    "      print(\"useful\")"
   ]
  },
  {
   "cell_type": "markdown",
   "metadata": {},
   "source": [
    "#### 3.UTILITY FUNCTIONS\n",
    "##### # FIND()\n",
    "##### # REPLACE()\n",
    "##### # SPLIT()\n",
    "##### # JOIN()\n",
    "##### # STRIP() \n",
    "##### # COUNT()"
   ]
  },
  {
   "cell_type": "code",
   "execution_count": 50,
   "metadata": {},
   "outputs": [
    {
     "name": "stdout",
     "output_type": "stream",
     "text": [
      "8\n"
     ]
    }
   ],
   "source": [
    "print(data.find('a'))"
   ]
  },
  {
   "cell_type": "code",
   "execution_count": 53,
   "metadata": {},
   "outputs": [
    {
     "name": "stdout",
     "output_type": "stream",
     "text": [
      "was found at 23\n",
      "30\n",
      "41\n",
      "41\n"
     ]
    }
   ],
   "source": [
    "word=\"once upon a time there was a person that was not imporant to the story\"\n",
    "idx1=word.find('was')\n",
    "print('was found at',idx1)\n",
    "print(word.find('erso'))\n",
    "# to find index value of was at second place\n",
    "print(word.find('was',idx1+1))\n",
    "# if we want to search something from behind\n",
    "print(word.rfind('was'))"
   ]
  },
  {
   "cell_type": "code",
   "execution_count": 55,
   "metadata": {},
   "outputs": [
    {
     "name": "stdout",
     "output_type": "stream",
     "text": [
      "23\n"
     ]
    }
   ],
   "source": [
    "print(word.index('was'))  # it is prefered to use find over index() so that the program do not ccrash"
   ]
  },
  {
   "cell_type": "code",
   "execution_count": 57,
   "metadata": {},
   "outputs": [
    {
     "name": "stdout",
     "output_type": "stream",
     "text": [
      "['once', 'upon', 'a', 'time', 'there', 'was', 'a', 'person', 'that', 'was', 'not', 'imporant', 'to', 'the', 'story']\n"
     ]
    }
   ],
   "source": [
    "data = word.split()\n",
    "print(data)"
   ]
  },
  {
   "cell_type": "code",
   "execution_count": null,
   "metadata": {},
   "outputs": [],
   "source": []
  }
 ],
 "metadata": {
  "kernelspec": {
   "display_name": "Python 3.9.12 ('base')",
   "language": "python",
   "name": "python3"
  },
  "language_info": {
   "codemirror_mode": {
    "name": "ipython",
    "version": 3
   },
   "file_extension": ".py",
   "mimetype": "text/x-python",
   "name": "python",
   "nbconvert_exporter": "python",
   "pygments_lexer": "ipython3",
   "version": "3.9.12"
  },
  "orig_nbformat": 4,
  "vscode": {
   "interpreter": {
    "hash": "5e310efb610597eecacd14aa46f7cfe8502fb6c4a83fc4086a11f43669e38f1e"
   }
  }
 },
 "nbformat": 4,
 "nbformat_minor": 2
}
